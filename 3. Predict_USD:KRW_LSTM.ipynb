{
  "nbformat": 4,
  "nbformat_minor": 0,
  "metadata": {
    "colab": {
      "name": "Untitled43.ipynb",
      "private_outputs": true,
      "provenance": []
    },
    "kernelspec": {
      "name": "python3",
      "display_name": "Python 3"
    },
    "language_info": {
      "name": "python"
    },
    "accelerator": "GPU"
  },
  "cells": [
    {
      "cell_type": "markdown",
      "metadata": {
        "id": "QOUDnsevZYpj"
      },
      "source": [
        "IMPORT"
      ]
    },
    {
      "cell_type": "code",
      "metadata": {
        "id": "-JV_wlY8XUtN"
      },
      "source": [
        "\n",
        "import sys\n",
        "import warnings\n",
        "\n",
        "if not sys.warnoptions:\n",
        "    warnings.simplefilter('ignore')"
      ],
      "execution_count": null,
      "outputs": []
    },
    {
      "cell_type": "code",
      "metadata": {
        "id": "QNuv1AkCZt55"
      },
      "source": [
        "\n",
        "import tensorflow as tf\n",
        "import numpy as np\n",
        "import matplotlib.pyplot as plt\n",
        "import seaborn as sns\n",
        "import pandas as pd\n",
        "import io\n",
        "import sklearn\n",
        "\n",
        "from sklearn.preprocessing import MinMaxScaler                # used for feature scaling\n",
        "from sklearn.preprocessing import StandardScaler              # used for feature scaling\n",
        "from sklearn.preprocessing import LabelEncoder, OneHotEncoder # used for encoding categorical data\n",
        "       \n",
        "from sklearn.metrics import mean_squared_error\n",
        "from sklearn.model_selection import train_test_split , TimeSeriesSplit, KFold  # used for splitting training and testing data\n",
        "\n",
        "from datetime import datetime , timedelta\n",
        "from tqdm import tqdm\n",
        "sns.set()\n",
        "tf.compat.v1.random.set_random_seed(1234)"
      ],
      "execution_count": null,
      "outputs": []
    },
    {
      "cell_type": "code",
      "metadata": {
        "id": "GO7kabLwoRbZ"
      },
      "source": [
        "from tensorflow.keras.models import Sequential\n",
        "from tensorflow.keras.layers import Conv2D\n",
        "from tensorflow.keras.layers import MaxPool2D\n",
        "from tensorflow.keras.layers import Flatten\n",
        "from tensorflow.keras.layers import Dense\n",
        "from tensorflow.keras.models import Sequential\n",
        "from tensorflow.keras.layers import InputLayer \n",
        "\n",
        "from keras.layers.core import Dense, Activation, Dropout\n",
        "from keras.layers.recurrent import LSTM\n",
        "from keras.models import Sequential\n",
        "from keras.callbacks import EarlyStopping"
      ],
      "execution_count": null,
      "outputs": []
    },
    {
      "cell_type": "code",
      "metadata": {
        "id": "KDdVIPY3ZwTo"
      },
      "source": [
        "from google.colab import drive\n",
        "drive.mount('/content/drive')"
      ],
      "execution_count": null,
      "outputs": []
    },
    {
      "cell_type": "code",
      "metadata": {
        "id": "oFcAVlpMHI2I"
      },
      "source": [
        "# df.columns  참고용 "
      ],
      "execution_count": null,
      "outputs": []
    },
    {
      "cell_type": "code",
      "metadata": {
        "id": "FnBO3qsSm-w-"
      },
      "source": [
        "df = pd.read_csv('/content/drive/MyDrive/DATA/4. 1+2+3_DFEDTAR_data.csv')\n",
        "\n",
        "#필요없는 열 제거 \n",
        "df = df.drop(\"Unnamed: 0\", axis=1)\n",
        "\n",
        "# #선행지표 여러가지 제거\n",
        "# df = df.drop(\"M2\", axis=1)\n",
        "# # df = df.drop(\"UNRATE\", axis=1)\n",
        "# df = df.drop(\"HSN1F\", axis=1)\n",
        "# df = df.drop(\"UMCSENT\", axis=1)\n",
        "# df = df.drop(\"ICSA\", axis=1)\n",
        "# df = df.drop(\"BAMLH0A0HYM2\", axis=1)\n",
        "# df = df.drop(\"NASDAQCOM\", axis=1)\n",
        "# #원자재 제거\n",
        "# df = df.drop(\"ZG\", axis=1)\n",
        "# df = df.drop(\"NG\", axis=1)\n",
        "# df = df.drop(\"ZI\", axis=1)\n",
        "# df = df.drop(\"HG\", axis=1)\n",
        "# #달러화 가치 제거 \n",
        "# df = df.drop(\"USD/CNY\", axis=1)\n",
        "# df = df.drop(\"USD/KRW\", axis=1)\n",
        "# df = df.drop(\"USD/EUR\", axis=1)\n",
        "\n",
        "\n",
        "#형태 확인\n",
        "df"
      ],
      "execution_count": null,
      "outputs": []
    },
    {
      "cell_type": "code",
      "metadata": {
        "id": "AcpZl9TO36Vh"
      },
      "source": [
        "columns = df.columns\n",
        "columns"
      ],
      "execution_count": null,
      "outputs": []
    },
    {
      "cell_type": "code",
      "metadata": {
        "id": "8sW6sR5mnv8p"
      },
      "source": [
        "X = df.drop(['USD/KRW'], axis= 1)\n",
        "Y = df[:]['USD/KRW']\n",
        "print(X,Y)\n",
        "print(len(X))\n"
      ],
      "execution_count": null,
      "outputs": []
    },
    {
      "cell_type": "code",
      "metadata": {
        "id": "-mYtPJ1gMb1Z"
      },
      "source": [
        "#총 8191개의 행 짜르기 \n",
        "Test = df.loc[6191:]\n",
        "Train = df.loc[:6191]\n",
        "print(Train)"
      ],
      "execution_count": null,
      "outputs": []
    },
    {
      "cell_type": "code",
      "metadata": {
        "id": "3Gzw-5kH1ZgC"
      },
      "source": [
        "training_set = Train.iloc[:, 13:14].values\n",
        "print(training_set)"
      ],
      "execution_count": null,
      "outputs": []
    },
    {
      "cell_type": "code",
      "metadata": {
        "id": "Ih_hxquXB8pt"
      },
      "source": [
        "from sklearn.preprocessing import MinMaxScaler\n",
        "sc = MinMaxScaler(feature_range = (0, 1))\n",
        "training_set_scaled = sc.fit_transform(training_set)\n",
        "print(training_set_scaled.shape)"
      ],
      "execution_count": null,
      "outputs": []
    },
    {
      "cell_type": "code",
      "metadata": {
        "id": "whnRg5ECCGUv"
      },
      "source": [
        "stock_data_len = Train['USD/KRW'].count()\n",
        "print(stock_data_len)"
      ],
      "execution_count": null,
      "outputs": []
    },
    {
      "cell_type": "code",
      "metadata": {
        "id": "GDmwEoKUB_BF"
      },
      "source": [
        "features = []\n",
        "labels = []\n",
        "for i in range(60, stock_data_len):\n",
        "    features.append(training_set_scaled[i-60:i, 0])\n",
        "    labels.append(training_set_scaled[i, 0])\n",
        "\n",
        "features = np.array(features)\n",
        "labels = np.array(labels)\n",
        "\n",
        "features = np.reshape(features, (features.shape[0], features.shape[1], 1))"
      ],
      "execution_count": null,
      "outputs": []
    },
    {
      "cell_type": "code",
      "metadata": {
        "id": "EzxVc1LJCApV"
      },
      "source": [
        "print(labels)\n",
        "print(features)"
      ],
      "execution_count": null,
      "outputs": []
    },
    {
      "cell_type": "code",
      "metadata": {
        "id": "2WRBEBUMCMOs"
      },
      "source": [
        "print(features.shape)"
      ],
      "execution_count": null,
      "outputs": []
    },
    {
      "cell_type": "markdown",
      "metadata": {
        "id": "hKtJrkQz09md"
      },
      "source": [
        "간단한 lstm모델로 테스트 해보겠습니다."
      ]
    },
    {
      "cell_type": "code",
      "metadata": {
        "id": "oNVeJsQoCTrs"
      },
      "source": [
        "model = tf.keras.models.Sequential([\n",
        "    tf.keras.layers.LSTM(units = 50, return_sequences = True, input_shape = (features.shape[1], 1)),\n",
        "    tf.keras.layers.Dropout(0.2),\n",
        "\n",
        "    tf.keras.layers.LSTM(units = 50, return_sequences = True),\n",
        "    tf.keras.layers.Dropout(0.2),\n",
        "\n",
        "    tf.keras.layers.LSTM(units = 50, return_sequences = True),\n",
        "    tf.keras.layers.Dropout(0.2),\n",
        "\n",
        "    tf.keras.layers.LSTM(units = 50, return_sequences = True),\n",
        "    tf.keras.layers.Dropout(0.2),\n",
        "\n",
        "    tf.keras.layers.LSTM(units = 50, return_sequences = True),\n",
        "    tf.keras.layers.Dropout(0.2),\n",
        "\n",
        "    tf.keras.layers.LSTM(units = 50),\n",
        "    tf.keras.layers.Dropout(0.2),\n",
        "\n",
        "    tf.keras.layers.Dense(units = 1)\n",
        "])"
      ],
      "execution_count": null,
      "outputs": []
    },
    {
      "cell_type": "code",
      "metadata": {
        "id": "Q-WiKnAQCVGk"
      },
      "source": [
        "#모델구성\n",
        "print(model.summary())"
      ],
      "execution_count": null,
      "outputs": []
    },
    {
      "cell_type": "code",
      "metadata": {
        "id": "lSbYw_R5CW-2"
      },
      "source": [
        "#옵티마이저는 아담 사용 / MAE 측정\n",
        "model.compile(optimizer = 'adam', loss = 'mean_squared_error')"
      ],
      "execution_count": null,
      "outputs": []
    },
    {
      "cell_type": "code",
      "metadata": {
        "id": "kFatj6qyCcEU"
      },
      "source": [
        "from time import time\n",
        "start = time()\n",
        "earlyStop = EarlyStopping(monitor=\"val_loss\",verbose=2,mode='min',patience=3)\n",
        "\n",
        "history = model.fit(features, labels,\n",
        "                    epochs = 30, \n",
        "                    batch_size = 128, \n",
        "                    verbose = 1,\n",
        "                    callbacks=[earlyStop])\n",
        "end = time()"
      ],
      "execution_count": null,
      "outputs": []
    },
    {
      "cell_type": "code",
      "metadata": {
        "id": "fSswMbY5Cd3U"
      },
      "source": [
        "print('Total training time {} seconds'.format(end - start))\n",
        "print('loss : ', '0.0015' )"
      ],
      "execution_count": null,
      "outputs": []
    },
    {
      "cell_type": "markdown",
      "metadata": {
        "id": "78Bq3Ohg_voE"
      },
      "source": [
        "\n",
        "\n",
        "---\n",
        "\n"
      ]
    },
    {
      "cell_type": "code",
      "metadata": {
        "id": "j1vYh5fP_H2o"
      },
      "source": [
        "Test.tail(), Test.shape"
      ],
      "execution_count": null,
      "outputs": []
    },
    {
      "cell_type": "code",
      "metadata": {
        "id": "5Fvi99H2_s7R"
      },
      "source": [
        "test_stock_data_processed = Test.iloc[:, 13:14].values\n",
        "test_stock_data_processed,test_stock_data_processed.shape"
      ],
      "execution_count": null,
      "outputs": []
    },
    {
      "cell_type": "code",
      "metadata": {
        "id": "BRQ2St9q_4J0"
      },
      "source": [
        "all_stock_data = pd.concat((df['USD/KRW'], Test['USD/KRW']), axis = 0)"
      ],
      "execution_count": null,
      "outputs": []
    },
    {
      "cell_type": "code",
      "metadata": {
        "id": "VvgxuE68EeQj"
      },
      "source": [
        "inputs = all_stock_data[len(all_stock_data) - len(Test) - 6191:].values # 8191 - 2000\n",
        "inputs = inputs.reshape(-1,1)\n",
        "inputs = sc.transform(inputs)\n",
        "inputs.shape"
      ],
      "execution_count": null,
      "outputs": []
    },
    {
      "cell_type": "code",
      "metadata": {
        "id": "N3TSYmJKEo4u"
      },
      "source": [
        "X_test = []\n",
        "for i in range(6191, 8191):\n",
        "    X_test.append(inputs[i-6191:i, 0])"
      ],
      "execution_count": null,
      "outputs": []
    },
    {
      "cell_type": "code",
      "metadata": {
        "id": "IEvvDHczEqkq"
      },
      "source": [
        "X_test = np.array(X_test)\n",
        "X_test = np.reshape(X_test, (X_test.shape[0], X_test.shape[1], 1))\n",
        "#predict model\n",
        "predicted_stock_price = model.predict(X_test)\n",
        "predicted_stock_price = sc.inverse_transform(predicted_stock_price)"
      ],
      "execution_count": null,
      "outputs": []
    },
    {
      "cell_type": "code",
      "metadata": {
        "id": "akK1rrBAEvMr"
      },
      "source": [
        "plt.figure(figsize=(20,15))  \n",
        "plt.plot(test_stock_data_processed, color='blue', label='Actual')  \n",
        "plt.plot(predicted_stock_price , color='red', label='Predicted')  \n",
        "plt.title('Prediction')  \n",
        "plt.xlabel('Feature')  \n",
        "plt.ylabel('Rate')  \n",
        "plt.legend()  \n",
        "plt.show()  "
      ],
      "execution_count": null,
      "outputs": []
    },
    {
      "cell_type": "markdown",
      "metadata": {
        "id": "dIDJmXNUJNDN"
      },
      "source": [
        "아 지금보다 금리가 낮아야 한다고 합니다... "
      ]
    },
    {
      "cell_type": "code",
      "metadata": {
        "id": "TWJRd-1hSAY8"
      },
      "source": [
        "df['USD/KRW'].tail()"
      ],
      "execution_count": null,
      "outputs": []
    },
    {
      "cell_type": "code",
      "metadata": {
        "id": "J6v0eu7hRsX2"
      },
      "source": [
        "print(test_stock_data_processed[1997])\n",
        "print(test_stock_data_processed[1998])"
      ],
      "execution_count": null,
      "outputs": []
    },
    {
      "cell_type": "code",
      "metadata": {
        "id": "JK-LAoskFlCf"
      },
      "source": [
        "print(predicted_stock_price[1997])\n",
        "print(predicted_stock_price[1998])"
      ],
      "execution_count": null,
      "outputs": []
    },
    {
      "cell_type": "markdown",
      "metadata": {
        "id": "h9nBLnQT1mWF"
      },
      "source": [
        "\n",
        "\n",
        "---\n",
        "\n"
      ]
    },
    {
      "cell_type": "code",
      "metadata": {
        "id": "dlSiMHygRh_z"
      },
      "source": [
        ""
      ],
      "execution_count": null,
      "outputs": []
    }
  ]
}