{
  "nbformat": 4,
  "nbformat_minor": 0,
  "metadata": {
    "accelerator": "GPU",
    "colab": {
      "name": "Untitled42.ipynb",
      "provenance": []
    },
    "kernelspec": {
      "display_name": "Python 3",
      "name": "python3"
    },
    "language_info": {
      "name": "python"
    }
  },
  "cells": [
    {
      "cell_type": "code",
      "metadata": {
        "colab": {
          "base_uri": "https://localhost:8080/"
        },
        "id": "iun8WNVuLVZJ",
        "outputId": "69369e69-1001-477b-87b4-0236688051d3"
      },
      "source": [
        "from google.colab import drive\n",
        "drive.mount('/content/drive')"
      ],
      "execution_count": 171,
      "outputs": [
        {
          "output_type": "stream",
          "text": [
            "Drive already mounted at /content/drive; to attempt to forcibly remount, call drive.mount(\"/content/drive\", force_remount=True).\n"
          ],
          "name": "stdout"
        }
      ]
    },
    {
      "cell_type": "code",
      "metadata": {
        "id": "lZxVPnERLZJt"
      },
      "source": [
        "import pandas as pd\n",
        "import numpy as np\n",
        "import io\n",
        "import sklearn \n",
        "from datetime import datetime, timedelta\n",
        "import warnings\n",
        "warnings.filterwarnings('ignore')"
      ],
      "execution_count": 172,
      "outputs": []
    },
    {
      "cell_type": "code",
      "metadata": {
        "colab": {
          "base_uri": "https://localhost:8080/"
        },
        "id": "QvbVQ5GVLZo9",
        "outputId": "b3362b0b-a0c0-45d0-a7c6-033bc419cf8e"
      },
      "source": [
        "df = pd.read_csv('/content/drive/MyDrive/DATA/4. 1+2+3_DFEDTAR_data.csv')\n",
        "#필요없는 열 제거 \n",
        "df = df.drop(\"Unnamed: 0\", axis=1)\n",
        "df = df.drop(\"DATE\", axis=1)\n",
        "#형태 확인\n",
        "df,df.shape"
      ],
      "execution_count": 173,
      "outputs": [
        {
          "output_type": "execute_result",
          "data": {
            "text/plain": [
              "(      DFEDTAR  NASDAQCOM  BAMLH0A0HYM2  ...  USD/KRW  USD/EUR  USD/CNY\n",
              " 0        4.75    2208.05          5.63  ...  1186.25   0.8455   8.2793\n",
              " 1        4.75    2208.05          5.63  ...  1186.25   0.8455   8.2793\n",
              " 2        4.75    2208.05          5.63  ...  1186.25   0.8455   8.2793\n",
              " 3        4.75    2208.05          5.63  ...  1186.25   0.8455   8.2793\n",
              " 4        4.75    2251.27          5.57  ...  1164.50   0.8501   8.2795\n",
              " ...       ...        ...           ...  ...      ...      ...      ...\n",
              " 8186     0.25   13748.74          3.34  ...  1106.58   0.8177   6.3688\n",
              " 8187     0.25   13736.48          3.33  ...  1108.38   0.8187   6.3796\n",
              " 8188     0.25   13756.33          3.31  ...  1110.92   0.8188   6.3805\n",
              " 8189     0.25   13614.51          3.28  ...  1116.46   0.8245   6.4036\n",
              " 8190     0.25   13614.51          3.28  ...  1110.52   0.8218   6.3945\n",
              " \n",
              " [8191 rows x 15 columns], (8191, 15))"
            ]
          },
          "metadata": {
            "tags": []
          },
          "execution_count": 173
        }
      ]
    },
    {
      "cell_type": "code",
      "metadata": {
        "id": "eQMaRK7vM1K9"
      },
      "source": [
        "#df = df.set_index('DATE')"
      ],
      "execution_count": 174,
      "outputs": []
    },
    {
      "cell_type": "code",
      "metadata": {
        "colab": {
          "base_uri": "https://localhost:8080/"
        },
        "id": "y60c2mLFpJRv",
        "outputId": "9257ae5d-cd64-411c-d014-10d3ffe68a66"
      },
      "source": [
        "df.info()"
      ],
      "execution_count": 175,
      "outputs": [
        {
          "output_type": "stream",
          "text": [
            "<class 'pandas.core.frame.DataFrame'>\n",
            "RangeIndex: 8191 entries, 0 to 8190\n",
            "Data columns (total 15 columns):\n",
            " #   Column        Non-Null Count  Dtype  \n",
            "---  ------        --------------  -----  \n",
            " 0   DFEDTAR       8191 non-null   float64\n",
            " 1   NASDAQCOM     8191 non-null   float64\n",
            " 2   BAMLH0A0HYM2  8191 non-null   float64\n",
            " 3   HSN1F         8191 non-null   float64\n",
            " 4   UMCSENT       8191 non-null   float64\n",
            " 5   UNRATE        8191 non-null   float64\n",
            " 6   M2            8191 non-null   float64\n",
            " 7   ICSA          8191 non-null   float64\n",
            " 8   NG            8191 non-null   float64\n",
            " 9   ZG            8191 non-null   float64\n",
            " 10  ZI            8191 non-null   float64\n",
            " 11  HG            8191 non-null   float64\n",
            " 12  USD/KRW       8191 non-null   float64\n",
            " 13  USD/EUR       8191 non-null   float64\n",
            " 14  USD/CNY       8191 non-null   float64\n",
            "dtypes: float64(15)\n",
            "memory usage: 960.0 KB\n"
          ],
          "name": "stdout"
        }
      ]
    },
    {
      "cell_type": "code",
      "metadata": {
        "colab": {
          "base_uri": "https://localhost:8080/"
        },
        "id": "DK-NmDTpfR2H",
        "outputId": "faf152a5-d35d-450f-bfdc-2c462ebc9c9a"
      },
      "source": [
        "# Numerical Features\n",
        "\n",
        "num_columns = [c for c, t in zip(df.dtypes.index, df.dtypes) if t == 'float64']\n",
        "num_columns"
      ],
      "execution_count": 176,
      "outputs": [
        {
          "output_type": "execute_result",
          "data": {
            "text/plain": [
              "['DFEDTAR',\n",
              " 'NASDAQCOM',\n",
              " 'BAMLH0A0HYM2',\n",
              " 'HSN1F',\n",
              " 'UMCSENT',\n",
              " 'UNRATE',\n",
              " 'M2',\n",
              " 'ICSA',\n",
              " 'NG',\n",
              " 'ZG',\n",
              " 'ZI',\n",
              " 'HG',\n",
              " 'USD/KRW',\n",
              " 'USD/EUR',\n",
              " 'USD/CNY']"
            ]
          },
          "metadata": {
            "tags": []
          },
          "execution_count": 176
        }
      ]
    },
    {
      "cell_type": "markdown",
      "metadata": {
        "id": "OEUdX4FJrLRn"
      },
      "source": [
        "#**정규화 및 모델링**"
      ]
    },
    {
      "cell_type": "markdown",
      "metadata": {
        "id": "JoDZgm6F1XO0"
      },
      "source": [
        "정규화"
      ]
    },
    {
      "cell_type": "code",
      "metadata": {
        "colab": {
          "base_uri": "https://localhost:8080/",
          "height": 419
        },
        "id": "LvF75u13LcDl",
        "outputId": "d085aec5-d668-4fb0-84b4-7b66b869111d"
      },
      "source": [
        "# from sklearn.preprocessing import StandardScaler\n",
        "# scaler = StandardScaler()\n",
        "# df[num_columns] = scaler.fit_transform(df[num_columns])\n",
        "# df[num_columns]"
      ],
      "execution_count": 137,
      "outputs": [
        {
          "output_type": "execute_result",
          "data": {
            "text/html": [
              "<div>\n",
              "<style scoped>\n",
              "    .dataframe tbody tr th:only-of-type {\n",
              "        vertical-align: middle;\n",
              "    }\n",
              "\n",
              "    .dataframe tbody tr th {\n",
              "        vertical-align: top;\n",
              "    }\n",
              "\n",
              "    .dataframe thead th {\n",
              "        text-align: right;\n",
              "    }\n",
              "</style>\n",
              "<table border=\"1\" class=\"dataframe\">\n",
              "  <thead>\n",
              "    <tr style=\"text-align: right;\">\n",
              "      <th></th>\n",
              "      <th>DFEDTAR</th>\n",
              "      <th>NASDAQCOM</th>\n",
              "      <th>BAMLH0A0HYM2</th>\n",
              "      <th>HSN1F</th>\n",
              "      <th>UMCSENT</th>\n",
              "      <th>UNRATE</th>\n",
              "      <th>M2</th>\n",
              "      <th>ICSA</th>\n",
              "      <th>NG</th>\n",
              "      <th>ZG</th>\n",
              "      <th>ZI</th>\n",
              "      <th>HG</th>\n",
              "      <th>USD/KRW</th>\n",
              "      <th>USD/EUR</th>\n",
              "      <th>USD/CNY</th>\n",
              "    </tr>\n",
              "  </thead>\n",
              "  <tbody>\n",
              "    <tr>\n",
              "      <th>0</th>\n",
              "      <td>1.476892</td>\n",
              "      <td>-0.646109</td>\n",
              "      <td>-0.025829</td>\n",
              "      <td>0.560273</td>\n",
              "      <td>1.395258</td>\n",
              "      <td>-0.826073</td>\n",
              "      <td>-1.326946</td>\n",
              "      <td>-0.174485</td>\n",
              "      <td>-1.030318</td>\n",
              "      <td>-1.328004</td>\n",
              "      <td>-1.190292</td>\n",
              "      <td>-1.585160</td>\n",
              "      <td>0.559719</td>\n",
              "      <td>-0.031200</td>\n",
              "      <td>1.297171</td>\n",
              "    </tr>\n",
              "    <tr>\n",
              "      <th>1</th>\n",
              "      <td>1.476892</td>\n",
              "      <td>-0.646109</td>\n",
              "      <td>-0.025829</td>\n",
              "      <td>0.560273</td>\n",
              "      <td>1.395258</td>\n",
              "      <td>-0.826073</td>\n",
              "      <td>-1.326946</td>\n",
              "      <td>-0.174485</td>\n",
              "      <td>-1.030318</td>\n",
              "      <td>-1.328004</td>\n",
              "      <td>-1.190292</td>\n",
              "      <td>-1.585160</td>\n",
              "      <td>0.559719</td>\n",
              "      <td>-0.031200</td>\n",
              "      <td>1.297171</td>\n",
              "    </tr>\n",
              "    <tr>\n",
              "      <th>2</th>\n",
              "      <td>1.476892</td>\n",
              "      <td>-0.646109</td>\n",
              "      <td>-0.025829</td>\n",
              "      <td>0.560273</td>\n",
              "      <td>1.395258</td>\n",
              "      <td>-0.826073</td>\n",
              "      <td>-1.326946</td>\n",
              "      <td>-0.174485</td>\n",
              "      <td>-1.030318</td>\n",
              "      <td>-1.328004</td>\n",
              "      <td>-1.190292</td>\n",
              "      <td>-1.585160</td>\n",
              "      <td>0.559719</td>\n",
              "      <td>-0.031200</td>\n",
              "      <td>1.297171</td>\n",
              "    </tr>\n",
              "    <tr>\n",
              "      <th>3</th>\n",
              "      <td>1.476892</td>\n",
              "      <td>-0.646109</td>\n",
              "      <td>-0.025829</td>\n",
              "      <td>0.560273</td>\n",
              "      <td>1.395258</td>\n",
              "      <td>-0.826073</td>\n",
              "      <td>-1.326946</td>\n",
              "      <td>-0.174485</td>\n",
              "      <td>-1.030318</td>\n",
              "      <td>-1.328004</td>\n",
              "      <td>-1.190292</td>\n",
              "      <td>-1.585160</td>\n",
              "      <td>0.559719</td>\n",
              "      <td>-0.031200</td>\n",
              "      <td>1.297171</td>\n",
              "    </tr>\n",
              "    <tr>\n",
              "      <th>4</th>\n",
              "      <td>1.476892</td>\n",
              "      <td>-0.629844</td>\n",
              "      <td>-0.048387</td>\n",
              "      <td>0.560273</td>\n",
              "      <td>1.395258</td>\n",
              "      <td>-0.826073</td>\n",
              "      <td>-1.326946</td>\n",
              "      <td>-0.174485</td>\n",
              "      <td>-1.073149</td>\n",
              "      <td>-1.328004</td>\n",
              "      <td>-1.190292</td>\n",
              "      <td>-1.589642</td>\n",
              "      <td>0.340210</td>\n",
              "      <td>0.006617</td>\n",
              "      <td>1.297416</td>\n",
              "    </tr>\n",
              "    <tr>\n",
              "      <th>...</th>\n",
              "      <td>...</td>\n",
              "      <td>...</td>\n",
              "      <td>...</td>\n",
              "      <td>...</td>\n",
              "      <td>...</td>\n",
              "      <td>...</td>\n",
              "      <td>...</td>\n",
              "      <td>...</td>\n",
              "      <td>...</td>\n",
              "      <td>...</td>\n",
              "      <td>...</td>\n",
              "      <td>...</td>\n",
              "      <td>...</td>\n",
              "      <td>...</td>\n",
              "      <td>...</td>\n",
              "    </tr>\n",
              "    <tr>\n",
              "      <th>8186</th>\n",
              "      <td>-0.860585</td>\n",
              "      <td>3.697024</td>\n",
              "      <td>-0.886785</td>\n",
              "      <td>0.519330</td>\n",
              "      <td>0.148406</td>\n",
              "      <td>-0.056445</td>\n",
              "      <td>2.596282</td>\n",
              "      <td>-0.027357</td>\n",
              "      <td>-0.622084</td>\n",
              "      <td>1.773580</td>\n",
              "      <td>1.477220</td>\n",
              "      <td>2.030039</td>\n",
              "      <td>-0.244340</td>\n",
              "      <td>-0.259746</td>\n",
              "      <td>-1.044672</td>\n",
              "    </tr>\n",
              "    <tr>\n",
              "      <th>8187</th>\n",
              "      <td>-0.860585</td>\n",
              "      <td>3.692410</td>\n",
              "      <td>-0.890544</td>\n",
              "      <td>0.519330</td>\n",
              "      <td>0.148406</td>\n",
              "      <td>-0.056445</td>\n",
              "      <td>2.596282</td>\n",
              "      <td>-0.027357</td>\n",
              "      <td>-0.569438</td>\n",
              "      <td>1.773005</td>\n",
              "      <td>1.487377</td>\n",
              "      <td>2.008528</td>\n",
              "      <td>-0.226174</td>\n",
              "      <td>-0.251525</td>\n",
              "      <td>-1.031433</td>\n",
              "    </tr>\n",
              "    <tr>\n",
              "      <th>8188</th>\n",
              "      <td>-0.860585</td>\n",
              "      <td>3.699880</td>\n",
              "      <td>-0.898064</td>\n",
              "      <td>0.519330</td>\n",
              "      <td>0.148406</td>\n",
              "      <td>-0.056445</td>\n",
              "      <td>2.596282</td>\n",
              "      <td>-0.027357</td>\n",
              "      <td>-0.582377</td>\n",
              "      <td>1.782392</td>\n",
              "      <td>1.499149</td>\n",
              "      <td>1.952958</td>\n",
              "      <td>-0.200539</td>\n",
              "      <td>-0.250703</td>\n",
              "      <td>-1.030330</td>\n",
              "    </tr>\n",
              "    <tr>\n",
              "      <th>8189</th>\n",
              "      <td>-0.860585</td>\n",
              "      <td>3.646509</td>\n",
              "      <td>-0.909343</td>\n",
              "      <td>0.519330</td>\n",
              "      <td>0.148406</td>\n",
              "      <td>-0.056445</td>\n",
              "      <td>2.596282</td>\n",
              "      <td>-0.027357</td>\n",
              "      <td>-0.597546</td>\n",
              "      <td>1.712272</td>\n",
              "      <td>1.415241</td>\n",
              "      <td>1.837784</td>\n",
              "      <td>-0.144627</td>\n",
              "      <td>-0.203843</td>\n",
              "      <td>-1.002015</td>\n",
              "    </tr>\n",
              "    <tr>\n",
              "      <th>8190</th>\n",
              "      <td>-0.860585</td>\n",
              "      <td>3.646509</td>\n",
              "      <td>-0.909343</td>\n",
              "      <td>0.519330</td>\n",
              "      <td>0.148406</td>\n",
              "      <td>-0.056445</td>\n",
              "      <td>2.596282</td>\n",
              "      <td>-0.027357</td>\n",
              "      <td>-0.597546</td>\n",
              "      <td>1.712272</td>\n",
              "      <td>1.415241</td>\n",
              "      <td>1.837784</td>\n",
              "      <td>-0.204576</td>\n",
              "      <td>-0.226040</td>\n",
              "      <td>-1.013169</td>\n",
              "    </tr>\n",
              "  </tbody>\n",
              "</table>\n",
              "<p>8191 rows × 15 columns</p>\n",
              "</div>"
            ],
            "text/plain": [
              "       DFEDTAR  NASDAQCOM  BAMLH0A0HYM2  ...   USD/KRW   USD/EUR   USD/CNY\n",
              "0     1.476892  -0.646109     -0.025829  ...  0.559719 -0.031200  1.297171\n",
              "1     1.476892  -0.646109     -0.025829  ...  0.559719 -0.031200  1.297171\n",
              "2     1.476892  -0.646109     -0.025829  ...  0.559719 -0.031200  1.297171\n",
              "3     1.476892  -0.646109     -0.025829  ...  0.559719 -0.031200  1.297171\n",
              "4     1.476892  -0.629844     -0.048387  ...  0.340210  0.006617  1.297416\n",
              "...        ...        ...           ...  ...       ...       ...       ...\n",
              "8186 -0.860585   3.697024     -0.886785  ... -0.244340 -0.259746 -1.044672\n",
              "8187 -0.860585   3.692410     -0.890544  ... -0.226174 -0.251525 -1.031433\n",
              "8188 -0.860585   3.699880     -0.898064  ... -0.200539 -0.250703 -1.030330\n",
              "8189 -0.860585   3.646509     -0.909343  ... -0.144627 -0.203843 -1.002015\n",
              "8190 -0.860585   3.646509     -0.909343  ... -0.204576 -0.226040 -1.013169\n",
              "\n",
              "[8191 rows x 15 columns]"
            ]
          },
          "metadata": {
            "tags": []
          },
          "execution_count": 137
        }
      ]
    },
    {
      "cell_type": "code",
      "metadata": {
        "id": "sEcjm89rQRQo"
      },
      "source": [
        "!pip install category_encoders"
      ],
      "execution_count": null,
      "outputs": []
    },
    {
      "cell_type": "code",
      "metadata": {
        "id": "b3DshmgNUbiM"
      },
      "source": [
        "from sklearn import linear_model\n",
        "from sklearn.linear_model import LinearRegression\n",
        "from sklearn import svm\n",
        "from sklearn.ensemble import RandomForestRegressor\n",
        "from xgboost import XGBRegressor\n",
        "from lightgbm import LGBMRegressor\n",
        "from sklearn.neighbors import KNeighborsRegressor\n",
        "\n",
        "\n",
        "from sklearn.metrics import mean_absolute_error\n",
        "from sklearn.pipeline import make_pipeline\n",
        "from category_encoders import OrdinalEncoder\n",
        "\n",
        "from sklearn.metrics import mean_squared_error, r2_score, mean_squared_log_error"
      ],
      "execution_count": 177,
      "outputs": []
    },
    {
      "cell_type": "code",
      "metadata": {
        "id": "wNmW94UkZ3l2"
      },
      "source": [
        "# df = df.drop(\"DATE\", axis=1)"
      ],
      "execution_count": 178,
      "outputs": []
    },
    {
      "cell_type": "code",
      "metadata": {
        "id": "GlHGYa3FNbxC"
      },
      "source": [
        "x = df.drop('DFEDTAR', axis=1)\n",
        "y = df['DFEDTAR']"
      ],
      "execution_count": 179,
      "outputs": []
    },
    {
      "cell_type": "code",
      "metadata": {
        "colab": {
          "base_uri": "https://localhost:8080/"
        },
        "id": "sNryvSLlV9ng",
        "outputId": "14e5b5f1-bb40-4290-b6ab-b2e153f07c19"
      },
      "source": [
        "from sklearn.model_selection import train_test_split\n",
        "\n",
        "x_train, x_test, y_train, y_test = train_test_split(x, y, test_size=0.4, random_state=20, shuffle=True)\n",
        "x_val, x_test, y_val, y_test = train_test_split(x_test, y_test, test_size=0.5, random_state=2020,shuffle=True)\n",
        "\n",
        "x_train.shape, x_test.shape, y_train.shape, x_val.shape"
      ],
      "execution_count": 180,
      "outputs": [
        {
          "output_type": "execute_result",
          "data": {
            "text/plain": [
              "((4914, 14), (1639, 14), (4914,), (1638, 14))"
            ]
          },
          "metadata": {
            "tags": []
          },
          "execution_count": 180
        }
      ]
    },
    {
      "cell_type": "markdown",
      "metadata": {
        "id": "I76juDt60hjU"
      },
      "source": [
        "선형회귀"
      ]
    },
    {
      "cell_type": "code",
      "metadata": {
        "colab": {
          "base_uri": "https://localhost:8080/"
        },
        "id": "1Ul2NcAibmO-",
        "outputId": "c651e592-15d1-4add-af09-9bae67012d55"
      },
      "source": [
        "lg = linear_model.LinearRegression()\n",
        "\n",
        "lg.fit(x_train, y_train)      \n",
        "print('coefficient = ', lg.coef_[0]) # 독립변수의 계수를 출력\n",
        "print('intercept = ', lg.intercept_)\n",
        "print('mean_squared_error', mean_squared_error(y_train, lg.predict(x_train))) # 절편을 출력                  "
      ],
      "execution_count": 181,
      "outputs": [
        {
          "output_type": "stream",
          "text": [
            "coefficient =  0.0005517301416845362\n",
            "intercept =  -4.986236568654231\n",
            "mean_squared_error 0.4484365194263439\n"
          ],
          "name": "stdout"
        }
      ]
    },
    {
      "cell_type": "markdown",
      "metadata": {
        "id": "eB_VOaG-LYoZ"
      },
      "source": [
        "SGD"
      ]
    },
    {
      "cell_type": "code",
      "metadata": {
        "colab": {
          "base_uri": "https://localhost:8080/"
        },
        "id": "6gZDB8QDK-5o",
        "outputId": "15d6cc02-b03b-4422-e76e-3199e5bb1774"
      },
      "source": [
        "sgd = linear_model.SGDRegressor()\n",
        "\n",
        "sgd.fit(x_train, y_train)      \n",
        "print('coefficient = ', sgd.coef_[0]) # 독립변수의 계수를 출력\n",
        "print('intercept = ', sgd.intercept_)\n",
        "print('mean_squared_error', mean_squared_error(y_train, sgd.predict(x_train))) # 절편을 출력                  "
      ],
      "execution_count": 182,
      "outputs": [
        {
          "output_type": "stream",
          "text": [
            "coefficient =  293286468640203.2\n",
            "intercept =  [-1.46699896e+11]\n",
            "mean_squared_error 4.048122866753416e+39\n"
          ],
          "name": "stdout"
        }
      ]
    },
    {
      "cell_type": "markdown",
      "metadata": {
        "id": "fRXpBeK_LaJ3"
      },
      "source": [
        "BayesianRidge"
      ]
    },
    {
      "cell_type": "code",
      "metadata": {
        "colab": {
          "base_uri": "https://localhost:8080/"
        },
        "id": "3_yfK82bLeb0",
        "outputId": "453776bb-8b3f-4373-95b5-0cce893c4623"
      },
      "source": [
        "reg = linear_model.BayesianRidge()\n",
        "\n",
        "reg.fit(x_train, y_train)\n",
        "print('coefficient = ', reg.coef_[0]) # 독립변수의 계수를 출력\n",
        "print('intercept = ', reg.intercept_)\n",
        "print('mean_squared_error', mean_squared_error(y_train, reg.predict(x_train))) # 절편을 출력 "
      ],
      "execution_count": 183,
      "outputs": [
        {
          "output_type": "stream",
          "text": [
            "coefficient =  0.0005535250563370219\n",
            "intercept =  -4.919033396420122\n",
            "mean_squared_error 0.4484639702535901\n"
          ],
          "name": "stdout"
        }
      ]
    },
    {
      "cell_type": "markdown",
      "metadata": {
        "id": "5EIVHmZo3QIl"
      },
      "source": [
        "비교"
      ]
    },
    {
      "cell_type": "code",
      "metadata": {
        "colab": {
          "base_uri": "https://localhost:8080/"
        },
        "id": "jciU_7RnaQPg",
        "outputId": "178c8af4-e47c-46e2-a6b4-c12a86a7f7f5"
      },
      "source": [
        "#정확도 지표로 어느것을 사용할 수 있나 \n",
        "sklearn.metrics.SCORERS.keys()"
      ],
      "execution_count": 144,
      "outputs": [
        {
          "output_type": "execute_result",
          "data": {
            "text/plain": [
              "dict_keys(['explained_variance', 'r2', 'max_error', 'neg_median_absolute_error', 'neg_mean_absolute_error', 'neg_mean_squared_error', 'neg_mean_squared_log_error', 'neg_root_mean_squared_error', 'neg_mean_poisson_deviance', 'neg_mean_gamma_deviance', 'accuracy', 'roc_auc', 'roc_auc_ovr', 'roc_auc_ovo', 'roc_auc_ovr_weighted', 'roc_auc_ovo_weighted', 'balanced_accuracy', 'average_precision', 'neg_log_loss', 'neg_brier_score', 'adjusted_rand_score', 'homogeneity_score', 'completeness_score', 'v_measure_score', 'mutual_info_score', 'adjusted_mutual_info_score', 'normalized_mutual_info_score', 'fowlkes_mallows_score', 'precision', 'precision_macro', 'precision_micro', 'precision_samples', 'precision_weighted', 'recall', 'recall_macro', 'recall_micro', 'recall_samples', 'recall_weighted', 'f1', 'f1_macro', 'f1_micro', 'f1_samples', 'f1_weighted', 'jaccard', 'jaccard_macro', 'jaccard_micro', 'jaccard_samples', 'jaccard_weighted'])"
            ]
          },
          "metadata": {
            "tags": []
          },
          "execution_count": 144
        }
      ]
    },
    {
      "cell_type": "code",
      "metadata": {
        "colab": {
          "base_uri": "https://localhost:8080/",
          "height": 289
        },
        "id": "01eC5WLMWbdu",
        "outputId": "ee01e3f7-8f20-4283-eeae-bf65b83f49ba"
      },
      "source": [
        "from sklearn.model_selection import KFold #for K-fold cross validation\n",
        "from sklearn.model_selection import cross_val_score #score evaluation\n",
        "from sklearn.model_selection import cross_val_predict #prediction\n",
        "\n",
        "kfold = KFold(n_splits=5, random_state=20, shuffle=True) # k=10, split the data into 10 equal parts\n",
        "\n",
        "xyz=[]\n",
        "accuracy=[]\n",
        "std=[]\n",
        "\n",
        "Regressors=['Linear Regression',\n",
        "             'Random Forest',\n",
        "             'XGB',\n",
        "             'LGBM',\n",
        "             'KNeighbors']\n",
        "\n",
        "models=[LinearRegression(),\n",
        "        RandomForestRegressor(),\n",
        "        XGBRegressor(),\n",
        "        LGBMRegressor(),\n",
        "        KNeighborsRegressor()]\n",
        "\n",
        "for i in models:\n",
        "    model = i\n",
        "    cv_result = cross_val_score(model , x , y, cv = kfold, scoring = \"neg_mean_squared_error\")\n",
        "    cv_result=cv_result\n",
        "\n",
        "    xyz.append(cv_result.mean())\n",
        "    std.append(cv_result.std())\n",
        "    accuracy.append(cv_result)\n",
        "\n",
        "new_models_dataframe2 = pd.DataFrame(\n",
        "    {'mean_squared_error_CV Mean':xyz, 'Std':std},\n",
        "     index=Regressors\n",
        "     )      \n",
        " \n",
        "new_models_dataframe2.round(4)"
      ],
      "execution_count": 184,
      "outputs": [
        {
          "output_type": "stream",
          "text": [
            "[16:12:50] WARNING: /workspace/src/objective/regression_obj.cu:152: reg:linear is now deprecated in favor of reg:squarederror.\n",
            "[16:12:50] WARNING: /workspace/src/objective/regression_obj.cu:152: reg:linear is now deprecated in favor of reg:squarederror.\n",
            "[16:12:51] WARNING: /workspace/src/objective/regression_obj.cu:152: reg:linear is now deprecated in favor of reg:squarederror.\n",
            "[16:12:51] WARNING: /workspace/src/objective/regression_obj.cu:152: reg:linear is now deprecated in favor of reg:squarederror.\n",
            "[16:12:52] WARNING: /workspace/src/objective/regression_obj.cu:152: reg:linear is now deprecated in favor of reg:squarederror.\n"
          ],
          "name": "stdout"
        },
        {
          "output_type": "execute_result",
          "data": {
            "text/html": [
              "<div>\n",
              "<style scoped>\n",
              "    .dataframe tbody tr th:only-of-type {\n",
              "        vertical-align: middle;\n",
              "    }\n",
              "\n",
              "    .dataframe tbody tr th {\n",
              "        vertical-align: top;\n",
              "    }\n",
              "\n",
              "    .dataframe thead th {\n",
              "        text-align: right;\n",
              "    }\n",
              "</style>\n",
              "<table border=\"1\" class=\"dataframe\">\n",
              "  <thead>\n",
              "    <tr style=\"text-align: right;\">\n",
              "      <th></th>\n",
              "      <th>mean_squared_error_CV Mean</th>\n",
              "      <th>Std</th>\n",
              "    </tr>\n",
              "  </thead>\n",
              "  <tbody>\n",
              "    <tr>\n",
              "      <th>Linear Regression</th>\n",
              "      <td>-0.4533</td>\n",
              "      <td>0.0158</td>\n",
              "    </tr>\n",
              "    <tr>\n",
              "      <th>Random Forest</th>\n",
              "      <td>-0.0019</td>\n",
              "      <td>0.0004</td>\n",
              "    </tr>\n",
              "    <tr>\n",
              "      <th>XGB</th>\n",
              "      <td>-0.0107</td>\n",
              "      <td>0.0008</td>\n",
              "    </tr>\n",
              "    <tr>\n",
              "      <th>LGBM</th>\n",
              "      <td>-0.0026</td>\n",
              "      <td>0.0005</td>\n",
              "    </tr>\n",
              "    <tr>\n",
              "      <th>KNeighbors</th>\n",
              "      <td>-0.0200</td>\n",
              "      <td>0.0035</td>\n",
              "    </tr>\n",
              "  </tbody>\n",
              "</table>\n",
              "</div>"
            ],
            "text/plain": [
              "                   mean_squared_error_CV Mean     Std\n",
              "Linear Regression                     -0.4533  0.0158\n",
              "Random Forest                         -0.0019  0.0004\n",
              "XGB                                   -0.0107  0.0008\n",
              "LGBM                                  -0.0026  0.0005\n",
              "KNeighbors                            -0.0200  0.0035"
            ]
          },
          "metadata": {
            "tags": []
          },
          "execution_count": 184
        }
      ]
    },
    {
      "cell_type": "markdown",
      "metadata": {
        "id": "Tfjo7GtmNpVz"
      },
      "source": [
        "#**RandomForestRegressor ML**"
      ]
    },
    {
      "cell_type": "markdown",
      "metadata": {
        "id": "X6uWRpy0RPiF"
      },
      "source": [
        "먼저 xgb부스팅모델"
      ]
    },
    {
      "cell_type": "code",
      "metadata": {
        "colab": {
          "base_uri": "https://localhost:8080/"
        },
        "id": "ubI9mxvaNRtF",
        "outputId": "3a07b90c-0fa5-4d1d-deae-93c9f89d1b33"
      },
      "source": [
        "from xgboost.sklearn import XGBModel\n",
        "from xgboost import XGBRegressor\n",
        "pipe = make_pipeline(\n",
        "    OrdinalEncoder(), \n",
        "    XGBRegressor()\n",
        ")\n",
        "\n",
        "pipe.fit(x_train, y_train)\n",
        "print('훈련 R^2: ', pipe.score(x_train, y_train))\n",
        "print('검증 R^2: ', pipe.score(x_val, y_val))\n",
        "print('TEST R^2: ', pipe.score(x_test, y_test))\n",
        "\n",
        "print('\\n훈련 MAE: ', mean_absolute_error(pipe.predict(x_train), y_train))\n",
        "print('검증 MAE: ', mean_absolute_error(pipe.predict(x_val), y_val))\n",
        "print('TEST MAE: ', mean_absolute_error(pipe.predict(x_test), y_test))"
      ],
      "execution_count": 185,
      "outputs": [
        {
          "output_type": "stream",
          "text": [
            "[16:13:05] WARNING: /workspace/src/objective/regression_obj.cu:152: reg:linear is now deprecated in favor of reg:squarederror.\n",
            "훈련 R^2:  0.9975120517235978\n",
            "검증 R^2:  0.9970168414894269\n",
            "TEST R^2:  0.9969588130282647\n",
            "\n",
            "훈련 MAE:  0.06075673339009819\n",
            "검증 MAE:  0.06396850506901304\n",
            "TEST MAE:  0.06534298454355074\n"
          ],
          "name": "stdout"
        }
      ]
    },
    {
      "cell_type": "markdown",
      "metadata": {
        "id": "L3oBbiyURS7S"
      },
      "source": [
        "랜덤 포레스트 .,,,\n"
      ]
    },
    {
      "cell_type": "code",
      "metadata": {
        "colab": {
          "base_uri": "https://localhost:8080/"
        },
        "id": "ejwapYYXQCyT",
        "outputId": "6c55d759-1329-406b-8ac4-8c3bcc5bcee1"
      },
      "source": [
        "from sklearn.ensemble import RandomForestRegressor\n",
        "from sklearn.pipeline import Pipeline\n",
        "# encoder, imputer를 preprocessing으로 묶었습니다. 후에 eli5 permutation 계산에 사용합니다\n",
        "pipe = Pipeline([\n",
        "    ('preprocessing', make_pipeline(OrdinalEncoder())),\n",
        "    ('rf', RandomForestRegressor(n_estimators=100, random_state=20, n_jobs=-1)) \n",
        "])\n",
        "\n",
        "pipe.fit(x_train, y_train)\n",
        "print('훈련 R^2: ', pipe.score(x_train, y_train))\n",
        "print('검증 R^2: ', pipe.score(x_val, y_val))\n",
        "print('TEST R^2: ', pipe.score(x_test, y_test))\n",
        "\n",
        "print('\\n훈련 MAE: ', mean_absolute_error(pipe.predict(x_train), y_train))\n",
        "print('검증 MAE: ', mean_absolute_error(pipe.predict(x_val), y_val))\n",
        "print('TEST MAE: ', mean_absolute_error(pipe.predict(x_test), y_test))"
      ],
      "execution_count": 186,
      "outputs": [
        {
          "output_type": "stream",
          "text": [
            "훈련 R^2:  0.9999400757166952\n",
            "검증 R^2:  0.9996794620287783\n",
            "TEST R^2:  0.9992072039293762\n",
            "\n",
            "훈련 MAE:  0.002900386650386649\n",
            "검증 MAE:  0.006759768009768006\n",
            "TEST MAE:  0.010488102501525317\n"
          ],
          "name": "stdout"
        }
      ]
    },
    {
      "cell_type": "markdown",
      "metadata": {
        "id": "kDLz8CdyTIlT"
      },
      "source": [
        "#**Feature importance**\n"
      ]
    },
    {
      "cell_type": "code",
      "metadata": {
        "colab": {
          "base_uri": "https://localhost:8080/"
        },
        "id": "q8U2iuSRX_Ha",
        "outputId": "19cdec8b-29bf-4b28-f55c-b6cf49e24077"
      },
      "source": [
        "pipe.named_steps"
      ],
      "execution_count": 187,
      "outputs": [
        {
          "output_type": "execute_result",
          "data": {
            "text/plain": [
              "{'preprocessing': Pipeline(memory=None,\n",
              "          steps=[('ordinalencoder',\n",
              "                  OrdinalEncoder(cols=[], drop_invariant=False,\n",
              "                                 handle_missing='value', handle_unknown='value',\n",
              "                                 mapping=[], return_df=True, verbose=0))],\n",
              "          verbose=False),\n",
              " 'rf': RandomForestRegressor(bootstrap=True, ccp_alpha=0.0, criterion='mse',\n",
              "                       max_depth=None, max_features='auto', max_leaf_nodes=None,\n",
              "                       max_samples=None, min_impurity_decrease=0.0,\n",
              "                       min_impurity_split=None, min_samples_leaf=1,\n",
              "                       min_samples_split=2, min_weight_fraction_leaf=0.0,\n",
              "                       n_estimators=100, n_jobs=-1, oob_score=False,\n",
              "                       random_state=20, verbose=0, warm_start=False)}"
            ]
          },
          "metadata": {
            "tags": []
          },
          "execution_count": 187
        }
      ]
    },
    {
      "cell_type": "code",
      "metadata": {
        "id": "LRKjKqOWYH9m"
      },
      "source": [
        "!pip install eli5"
      ],
      "execution_count": null,
      "outputs": []
    },
    {
      "cell_type": "code",
      "metadata": {
        "id": "AffANE3VWaVp"
      },
      "source": [
        "import warnings\n",
        "warnings.simplefilter(action='ignore', category=FutureWarning)\n",
        "\n",
        "import eli5\n",
        "from eli5.sklearn import PermutationImportance\n"
      ],
      "execution_count": 188,
      "outputs": []
    },
    {
      "cell_type": "code",
      "metadata": {
        "id": "ghUbwtMnYGtP"
      },
      "source": [
        "# permuter 정의\n",
        "permuter = PermutationImportance(\n",
        "    pipe.named_steps['rf'], # model\n",
        "    scoring='r2', # metric\n",
        "    n_iter=5, # 다른 random seed를 사용하여 5번 반복\n",
        "    random_state=20\n",
        ")\n",
        "\n",
        "# permuter 계산은 preprocessing 된 X_val을 사용합니다.\n",
        "x_val_transformed = pipe.named_steps['preprocessing'].transform(x_val)\n",
        "\n",
        "# 실제로 fit 의미보다는 스코어를 다시 계산하는 작업입니다\n",
        "permuter.fit(x_val_transformed, y_val);"
      ],
      "execution_count": 189,
      "outputs": []
    },
    {
      "cell_type": "code",
      "metadata": {
        "colab": {
          "base_uri": "https://localhost:8080/"
        },
        "id": "TGACf1xDb3cS",
        "outputId": "64c7bfa9-e0aa-41b4-ed55-31132ff3ca91"
      },
      "source": [
        "feature_names = x_val.columns.tolist()\n",
        "pd.Series(permuter.feature_importances_, feature_names).sort_values()"
      ],
      "execution_count": 190,
      "outputs": [
        {
          "output_type": "execute_result",
          "data": {
            "text/plain": [
              "UMCSENT         0.000344\n",
              "NASDAQCOM       0.001007\n",
              "ZI              0.001136\n",
              "ICSA            0.001174\n",
              "BAMLH0A0HYM2    0.001484\n",
              "USD/KRW         0.002292\n",
              "USD/EUR         0.003090\n",
              "USD/CNY         0.003146\n",
              "HSN1F           0.003453\n",
              "ZG              0.003704\n",
              "HG              0.003848\n",
              "NG              0.004443\n",
              "UNRATE          0.691620\n",
              "M2              1.090124\n",
              "dtype: float64"
            ]
          },
          "metadata": {
            "tags": []
          },
          "execution_count": 190
        }
      ]
    },
    {
      "cell_type": "code",
      "metadata": {
        "colab": {
          "base_uri": "https://localhost:8080/",
          "height": 272
        },
        "id": "alg0_NUxeUmo",
        "outputId": "3e54f875-e351-4e9f-c46e-1fa8051f94d3"
      },
      "source": [
        "# 특성별 score 확인\n",
        "eli5.show_weights(\n",
        "    permuter, \n",
        "    top=None, # top n 지정 가능, None 일 경우 모든 특성 \n",
        "    feature_names=feature_names # list 형식으로 넣어야 합니다\n",
        ")"
      ],
      "execution_count": 191,
      "outputs": [
        {
          "output_type": "execute_result",
          "data": {
            "text/html": [
              "\n",
              "    <style>\n",
              "    table.eli5-weights tr:hover {\n",
              "        filter: brightness(85%);\n",
              "    }\n",
              "</style>\n",
              "\n",
              "\n",
              "\n",
              "    \n",
              "\n",
              "    \n",
              "\n",
              "    \n",
              "\n",
              "    \n",
              "\n",
              "    \n",
              "\n",
              "    \n",
              "\n",
              "\n",
              "    \n",
              "\n",
              "    \n",
              "\n",
              "    \n",
              "\n",
              "    \n",
              "\n",
              "    \n",
              "\n",
              "    \n",
              "\n",
              "\n",
              "    \n",
              "\n",
              "    \n",
              "\n",
              "    \n",
              "\n",
              "    \n",
              "\n",
              "    \n",
              "        <table class=\"eli5-weights eli5-feature-importances\" style=\"border-collapse: collapse; border: none; margin-top: 0em; table-layout: auto;\">\n",
              "    <thead>\n",
              "    <tr style=\"border: none;\">\n",
              "        <th style=\"padding: 0 1em 0 0.5em; text-align: right; border: none;\">Weight</th>\n",
              "        <th style=\"padding: 0 0.5em 0 0.5em; text-align: left; border: none;\">Feature</th>\n",
              "    </tr>\n",
              "    </thead>\n",
              "    <tbody>\n",
              "    \n",
              "        <tr style=\"background-color: hsl(120, 100.00%, 80.00%); border: none;\">\n",
              "            <td style=\"padding: 0 1em 0 0.5em; text-align: right; border: none;\">\n",
              "                1.0901\n",
              "                \n",
              "                    &plusmn; 0.0982\n",
              "                \n",
              "            </td>\n",
              "            <td style=\"padding: 0 0.5em 0 0.5em; text-align: left; border: none;\">\n",
              "                M2\n",
              "            </td>\n",
              "        </tr>\n",
              "    \n",
              "        <tr style=\"background-color: hsl(120, 100.00%, 85.46%); border: none;\">\n",
              "            <td style=\"padding: 0 1em 0 0.5em; text-align: right; border: none;\">\n",
              "                0.6916\n",
              "                \n",
              "                    &plusmn; 0.0167\n",
              "                \n",
              "            </td>\n",
              "            <td style=\"padding: 0 0.5em 0 0.5em; text-align: left; border: none;\">\n",
              "                UNRATE\n",
              "            </td>\n",
              "        </tr>\n",
              "    \n",
              "        <tr style=\"background-color: hsl(120, 100.00%, 99.58%); border: none;\">\n",
              "            <td style=\"padding: 0 1em 0 0.5em; text-align: right; border: none;\">\n",
              "                0.0044\n",
              "                \n",
              "                    &plusmn; 0.0012\n",
              "                \n",
              "            </td>\n",
              "            <td style=\"padding: 0 0.5em 0 0.5em; text-align: left; border: none;\">\n",
              "                NG\n",
              "            </td>\n",
              "        </tr>\n",
              "    \n",
              "        <tr style=\"background-color: hsl(120, 100.00%, 99.62%); border: none;\">\n",
              "            <td style=\"padding: 0 1em 0 0.5em; text-align: right; border: none;\">\n",
              "                0.0038\n",
              "                \n",
              "                    &plusmn; 0.0004\n",
              "                \n",
              "            </td>\n",
              "            <td style=\"padding: 0 0.5em 0 0.5em; text-align: left; border: none;\">\n",
              "                HG\n",
              "            </td>\n",
              "        </tr>\n",
              "    \n",
              "        <tr style=\"background-color: hsl(120, 100.00%, 99.63%); border: none;\">\n",
              "            <td style=\"padding: 0 1em 0 0.5em; text-align: right; border: none;\">\n",
              "                0.0037\n",
              "                \n",
              "                    &plusmn; 0.0002\n",
              "                \n",
              "            </td>\n",
              "            <td style=\"padding: 0 0.5em 0 0.5em; text-align: left; border: none;\">\n",
              "                ZG\n",
              "            </td>\n",
              "        </tr>\n",
              "    \n",
              "        <tr style=\"background-color: hsl(120, 100.00%, 99.64%); border: none;\">\n",
              "            <td style=\"padding: 0 1em 0 0.5em; text-align: right; border: none;\">\n",
              "                0.0035\n",
              "                \n",
              "                    &plusmn; 0.0005\n",
              "                \n",
              "            </td>\n",
              "            <td style=\"padding: 0 0.5em 0 0.5em; text-align: left; border: none;\">\n",
              "                HSN1F\n",
              "            </td>\n",
              "        </tr>\n",
              "    \n",
              "        <tr style=\"background-color: hsl(120, 100.00%, 99.67%); border: none;\">\n",
              "            <td style=\"padding: 0 1em 0 0.5em; text-align: right; border: none;\">\n",
              "                0.0031\n",
              "                \n",
              "                    &plusmn; 0.0003\n",
              "                \n",
              "            </td>\n",
              "            <td style=\"padding: 0 0.5em 0 0.5em; text-align: left; border: none;\">\n",
              "                USD/CNY\n",
              "            </td>\n",
              "        </tr>\n",
              "    \n",
              "        <tr style=\"background-color: hsl(120, 100.00%, 99.67%); border: none;\">\n",
              "            <td style=\"padding: 0 1em 0 0.5em; text-align: right; border: none;\">\n",
              "                0.0031\n",
              "                \n",
              "                    &plusmn; 0.0002\n",
              "                \n",
              "            </td>\n",
              "            <td style=\"padding: 0 0.5em 0 0.5em; text-align: left; border: none;\">\n",
              "                USD/EUR\n",
              "            </td>\n",
              "        </tr>\n",
              "    \n",
              "        <tr style=\"background-color: hsl(120, 100.00%, 99.73%); border: none;\">\n",
              "            <td style=\"padding: 0 1em 0 0.5em; text-align: right; border: none;\">\n",
              "                0.0023\n",
              "                \n",
              "                    &plusmn; 0.0003\n",
              "                \n",
              "            </td>\n",
              "            <td style=\"padding: 0 0.5em 0 0.5em; text-align: left; border: none;\">\n",
              "                USD/KRW\n",
              "            </td>\n",
              "        </tr>\n",
              "    \n",
              "        <tr style=\"background-color: hsl(120, 100.00%, 99.80%); border: none;\">\n",
              "            <td style=\"padding: 0 1em 0 0.5em; text-align: right; border: none;\">\n",
              "                0.0015\n",
              "                \n",
              "                    &plusmn; 0.0005\n",
              "                \n",
              "            </td>\n",
              "            <td style=\"padding: 0 0.5em 0 0.5em; text-align: left; border: none;\">\n",
              "                BAMLH0A0HYM2\n",
              "            </td>\n",
              "        </tr>\n",
              "    \n",
              "        <tr style=\"background-color: hsl(120, 100.00%, 99.83%); border: none;\">\n",
              "            <td style=\"padding: 0 1em 0 0.5em; text-align: right; border: none;\">\n",
              "                0.0012\n",
              "                \n",
              "                    &plusmn; 0.0001\n",
              "                \n",
              "            </td>\n",
              "            <td style=\"padding: 0 0.5em 0 0.5em; text-align: left; border: none;\">\n",
              "                ICSA\n",
              "            </td>\n",
              "        </tr>\n",
              "    \n",
              "        <tr style=\"background-color: hsl(120, 100.00%, 99.84%); border: none;\">\n",
              "            <td style=\"padding: 0 1em 0 0.5em; text-align: right; border: none;\">\n",
              "                0.0011\n",
              "                \n",
              "                    &plusmn; 0.0000\n",
              "                \n",
              "            </td>\n",
              "            <td style=\"padding: 0 0.5em 0 0.5em; text-align: left; border: none;\">\n",
              "                ZI\n",
              "            </td>\n",
              "        </tr>\n",
              "    \n",
              "        <tr style=\"background-color: hsl(120, 100.00%, 99.85%); border: none;\">\n",
              "            <td style=\"padding: 0 1em 0 0.5em; text-align: right; border: none;\">\n",
              "                0.0010\n",
              "                \n",
              "                    &plusmn; 0.0002\n",
              "                \n",
              "            </td>\n",
              "            <td style=\"padding: 0 0.5em 0 0.5em; text-align: left; border: none;\">\n",
              "                NASDAQCOM\n",
              "            </td>\n",
              "        </tr>\n",
              "    \n",
              "        <tr style=\"background-color: hsl(120, 100.00%, 99.93%); border: none;\">\n",
              "            <td style=\"padding: 0 1em 0 0.5em; text-align: right; border: none;\">\n",
              "                0.0003\n",
              "                \n",
              "                    &plusmn; 0.0000\n",
              "                \n",
              "            </td>\n",
              "            <td style=\"padding: 0 0.5em 0 0.5em; text-align: left; border: none;\">\n",
              "                UMCSENT\n",
              "            </td>\n",
              "        </tr>\n",
              "    \n",
              "    \n",
              "    </tbody>\n",
              "</table>\n",
              "    \n",
              "\n",
              "    \n",
              "\n",
              "\n",
              "    \n",
              "\n",
              "    \n",
              "\n",
              "    \n",
              "\n",
              "    \n",
              "\n",
              "    \n",
              "\n",
              "    \n",
              "\n",
              "\n",
              "\n"
            ],
            "text/plain": [
              "<IPython.core.display.HTML object>"
            ]
          },
          "metadata": {
            "tags": []
          },
          "execution_count": 191
        }
      ]
    },
    {
      "cell_type": "markdown",
      "metadata": {
        "id": "zycxYnCfeZJ-"
      },
      "source": [
        "통화량을 알면 금리를 맞출수 있는 확률이 너무나도 커진다는 것을,,,, 알게 되었습니다. \n",
        "(사실 원래 아는거 였지만 이렇게 크게 작용할 줄은 몰랐습니다.)"
      ]
    },
    {
      "cell_type": "markdown",
      "metadata": {
        "id": "Xbo30BfdeqM7"
      },
      "source": [
        "#**다시측정**"
      ]
    },
    {
      "cell_type": "markdown",
      "metadata": {
        "id": "EnuG7KtAevJT"
      },
      "source": [
        " M2 통화량을 빼고 측정해 보도록 하겠습니다."
      ]
    },
    {
      "cell_type": "code",
      "metadata": {
        "colab": {
          "base_uri": "https://localhost:8080/",
          "height": 419
        },
        "id": "dFAGQq10euo3",
        "outputId": "ec6a95a9-8b66-4f95-803b-967378bcee08"
      },
      "source": [
        "df_x_m2 = df.drop(\"M2\", axis=1)\n",
        "df_x_m2"
      ],
      "execution_count": 205,
      "outputs": [
        {
          "output_type": "execute_result",
          "data": {
            "text/html": [
              "<div>\n",
              "<style scoped>\n",
              "    .dataframe tbody tr th:only-of-type {\n",
              "        vertical-align: middle;\n",
              "    }\n",
              "\n",
              "    .dataframe tbody tr th {\n",
              "        vertical-align: top;\n",
              "    }\n",
              "\n",
              "    .dataframe thead th {\n",
              "        text-align: right;\n",
              "    }\n",
              "</style>\n",
              "<table border=\"1\" class=\"dataframe\">\n",
              "  <thead>\n",
              "    <tr style=\"text-align: right;\">\n",
              "      <th></th>\n",
              "      <th>DFEDTAR</th>\n",
              "      <th>NASDAQCOM</th>\n",
              "      <th>BAMLH0A0HYM2</th>\n",
              "      <th>HSN1F</th>\n",
              "      <th>UMCSENT</th>\n",
              "      <th>UNRATE</th>\n",
              "      <th>ICSA</th>\n",
              "      <th>NG</th>\n",
              "      <th>ZG</th>\n",
              "      <th>ZI</th>\n",
              "      <th>HG</th>\n",
              "      <th>USD/KRW</th>\n",
              "      <th>USD/EUR</th>\n",
              "      <th>USD/CNY</th>\n",
              "    </tr>\n",
              "  </thead>\n",
              "  <tbody>\n",
              "    <tr>\n",
              "      <th>0</th>\n",
              "      <td>4.75</td>\n",
              "      <td>2208.05</td>\n",
              "      <td>5.63</td>\n",
              "      <td>875.0</td>\n",
              "      <td>103.9</td>\n",
              "      <td>4.3</td>\n",
              "      <td>331000.0</td>\n",
              "      <td>2.071</td>\n",
              "      <td>286.4</td>\n",
              "      <td>4.902</td>\n",
              "      <td>0.6440</td>\n",
              "      <td>1186.25</td>\n",
              "      <td>0.8455</td>\n",
              "      <td>8.2793</td>\n",
              "    </tr>\n",
              "    <tr>\n",
              "      <th>1</th>\n",
              "      <td>4.75</td>\n",
              "      <td>2208.05</td>\n",
              "      <td>5.63</td>\n",
              "      <td>875.0</td>\n",
              "      <td>103.9</td>\n",
              "      <td>4.3</td>\n",
              "      <td>331000.0</td>\n",
              "      <td>2.071</td>\n",
              "      <td>286.4</td>\n",
              "      <td>4.902</td>\n",
              "      <td>0.6440</td>\n",
              "      <td>1186.25</td>\n",
              "      <td>0.8455</td>\n",
              "      <td>8.2793</td>\n",
              "    </tr>\n",
              "    <tr>\n",
              "      <th>2</th>\n",
              "      <td>4.75</td>\n",
              "      <td>2208.05</td>\n",
              "      <td>5.63</td>\n",
              "      <td>875.0</td>\n",
              "      <td>103.9</td>\n",
              "      <td>4.3</td>\n",
              "      <td>331000.0</td>\n",
              "      <td>2.071</td>\n",
              "      <td>286.4</td>\n",
              "      <td>4.902</td>\n",
              "      <td>0.6440</td>\n",
              "      <td>1186.25</td>\n",
              "      <td>0.8455</td>\n",
              "      <td>8.2793</td>\n",
              "    </tr>\n",
              "    <tr>\n",
              "      <th>3</th>\n",
              "      <td>4.75</td>\n",
              "      <td>2208.05</td>\n",
              "      <td>5.63</td>\n",
              "      <td>875.0</td>\n",
              "      <td>103.9</td>\n",
              "      <td>4.3</td>\n",
              "      <td>331000.0</td>\n",
              "      <td>2.071</td>\n",
              "      <td>286.4</td>\n",
              "      <td>4.902</td>\n",
              "      <td>0.6440</td>\n",
              "      <td>1186.25</td>\n",
              "      <td>0.8455</td>\n",
              "      <td>8.2793</td>\n",
              "    </tr>\n",
              "    <tr>\n",
              "      <th>4</th>\n",
              "      <td>4.75</td>\n",
              "      <td>2251.27</td>\n",
              "      <td>5.57</td>\n",
              "      <td>875.0</td>\n",
              "      <td>103.9</td>\n",
              "      <td>4.3</td>\n",
              "      <td>331000.0</td>\n",
              "      <td>1.975</td>\n",
              "      <td>286.4</td>\n",
              "      <td>4.902</td>\n",
              "      <td>0.6390</td>\n",
              "      <td>1164.50</td>\n",
              "      <td>0.8501</td>\n",
              "      <td>8.2795</td>\n",
              "    </tr>\n",
              "    <tr>\n",
              "      <th>...</th>\n",
              "      <td>...</td>\n",
              "      <td>...</td>\n",
              "      <td>...</td>\n",
              "      <td>...</td>\n",
              "      <td>...</td>\n",
              "      <td>...</td>\n",
              "      <td>...</td>\n",
              "      <td>...</td>\n",
              "      <td>...</td>\n",
              "      <td>...</td>\n",
              "      <td>...</td>\n",
              "      <td>...</td>\n",
              "      <td>...</td>\n",
              "      <td>...</td>\n",
              "    </tr>\n",
              "    <tr>\n",
              "      <th>8186</th>\n",
              "      <td>0.25</td>\n",
              "      <td>13748.74</td>\n",
              "      <td>3.34</td>\n",
              "      <td>863.0</td>\n",
              "      <td>88.3</td>\n",
              "      <td>5.8</td>\n",
              "      <td>385000.0</td>\n",
              "      <td>2.986</td>\n",
              "      <td>1905.3</td>\n",
              "      <td>28.014</td>\n",
              "      <td>4.6775</td>\n",
              "      <td>1106.58</td>\n",
              "      <td>0.8177</td>\n",
              "      <td>6.3688</td>\n",
              "    </tr>\n",
              "    <tr>\n",
              "      <th>8187</th>\n",
              "      <td>0.25</td>\n",
              "      <td>13736.48</td>\n",
              "      <td>3.33</td>\n",
              "      <td>863.0</td>\n",
              "      <td>88.3</td>\n",
              "      <td>5.8</td>\n",
              "      <td>385000.0</td>\n",
              "      <td>3.104</td>\n",
              "      <td>1905.0</td>\n",
              "      <td>28.102</td>\n",
              "      <td>4.6535</td>\n",
              "      <td>1108.38</td>\n",
              "      <td>0.8187</td>\n",
              "      <td>6.3796</td>\n",
              "    </tr>\n",
              "    <tr>\n",
              "      <th>8188</th>\n",
              "      <td>0.25</td>\n",
              "      <td>13756.33</td>\n",
              "      <td>3.31</td>\n",
              "      <td>863.0</td>\n",
              "      <td>88.3</td>\n",
              "      <td>5.8</td>\n",
              "      <td>385000.0</td>\n",
              "      <td>3.075</td>\n",
              "      <td>1909.9</td>\n",
              "      <td>28.204</td>\n",
              "      <td>4.5915</td>\n",
              "      <td>1110.92</td>\n",
              "      <td>0.8188</td>\n",
              "      <td>6.3805</td>\n",
              "    </tr>\n",
              "    <tr>\n",
              "      <th>8189</th>\n",
              "      <td>0.25</td>\n",
              "      <td>13614.51</td>\n",
              "      <td>3.28</td>\n",
              "      <td>863.0</td>\n",
              "      <td>88.3</td>\n",
              "      <td>5.8</td>\n",
              "      <td>385000.0</td>\n",
              "      <td>3.041</td>\n",
              "      <td>1873.3</td>\n",
              "      <td>27.477</td>\n",
              "      <td>4.4630</td>\n",
              "      <td>1116.46</td>\n",
              "      <td>0.8245</td>\n",
              "      <td>6.4036</td>\n",
              "    </tr>\n",
              "    <tr>\n",
              "      <th>8190</th>\n",
              "      <td>0.25</td>\n",
              "      <td>13614.51</td>\n",
              "      <td>3.28</td>\n",
              "      <td>863.0</td>\n",
              "      <td>88.3</td>\n",
              "      <td>5.8</td>\n",
              "      <td>385000.0</td>\n",
              "      <td>3.041</td>\n",
              "      <td>1873.3</td>\n",
              "      <td>27.477</td>\n",
              "      <td>4.4630</td>\n",
              "      <td>1110.52</td>\n",
              "      <td>0.8218</td>\n",
              "      <td>6.3945</td>\n",
              "    </tr>\n",
              "  </tbody>\n",
              "</table>\n",
              "<p>8191 rows × 14 columns</p>\n",
              "</div>"
            ],
            "text/plain": [
              "      DFEDTAR  NASDAQCOM  BAMLH0A0HYM2  ...  USD/KRW  USD/EUR  USD/CNY\n",
              "0        4.75    2208.05          5.63  ...  1186.25   0.8455   8.2793\n",
              "1        4.75    2208.05          5.63  ...  1186.25   0.8455   8.2793\n",
              "2        4.75    2208.05          5.63  ...  1186.25   0.8455   8.2793\n",
              "3        4.75    2208.05          5.63  ...  1186.25   0.8455   8.2793\n",
              "4        4.75    2251.27          5.57  ...  1164.50   0.8501   8.2795\n",
              "...       ...        ...           ...  ...      ...      ...      ...\n",
              "8186     0.25   13748.74          3.34  ...  1106.58   0.8177   6.3688\n",
              "8187     0.25   13736.48          3.33  ...  1108.38   0.8187   6.3796\n",
              "8188     0.25   13756.33          3.31  ...  1110.92   0.8188   6.3805\n",
              "8189     0.25   13614.51          3.28  ...  1116.46   0.8245   6.4036\n",
              "8190     0.25   13614.51          3.28  ...  1110.52   0.8218   6.3945\n",
              "\n",
              "[8191 rows x 14 columns]"
            ]
          },
          "metadata": {
            "tags": []
          },
          "execution_count": 205
        }
      ]
    },
    {
      "cell_type": "code",
      "metadata": {
        "colab": {
          "base_uri": "https://localhost:8080/"
        },
        "id": "QALy7Z2rhjHo",
        "outputId": "7df060a5-9279-4e0e-a037-6db7cc85f338"
      },
      "source": [
        "x_ = df_x_m2.drop('DFEDTAR', axis=1)\n",
        "y_ = df_x_m2['DFEDTAR']\n",
        "x_, y_"
      ],
      "execution_count": 193,
      "outputs": [
        {
          "output_type": "execute_result",
          "data": {
            "text/plain": [
              "(      NASDAQCOM  BAMLH0A0HYM2  HSN1F  ...  USD/KRW  USD/EUR  USD/CNY\n",
              " 0       2208.05          5.63  875.0  ...  1186.25   0.8455   8.2793\n",
              " 1       2208.05          5.63  875.0  ...  1186.25   0.8455   8.2793\n",
              " 2       2208.05          5.63  875.0  ...  1186.25   0.8455   8.2793\n",
              " 3       2208.05          5.63  875.0  ...  1186.25   0.8455   8.2793\n",
              " 4       2251.27          5.57  875.0  ...  1164.50   0.8501   8.2795\n",
              " ...         ...           ...    ...  ...      ...      ...      ...\n",
              " 8186   13748.74          3.34  863.0  ...  1106.58   0.8177   6.3688\n",
              " 8187   13736.48          3.33  863.0  ...  1108.38   0.8187   6.3796\n",
              " 8188   13756.33          3.31  863.0  ...  1110.92   0.8188   6.3805\n",
              " 8189   13614.51          3.28  863.0  ...  1116.46   0.8245   6.4036\n",
              " 8190   13614.51          3.28  863.0  ...  1110.52   0.8218   6.3945\n",
              " \n",
              " [8191 rows x 13 columns], 0       4.75\n",
              " 1       4.75\n",
              " 2       4.75\n",
              " 3       4.75\n",
              " 4       4.75\n",
              "         ... \n",
              " 8186    0.25\n",
              " 8187    0.25\n",
              " 8188    0.25\n",
              " 8189    0.25\n",
              " 8190    0.25\n",
              " Name: DFEDTAR, Length: 8191, dtype: float64)"
            ]
          },
          "metadata": {
            "tags": []
          },
          "execution_count": 193
        }
      ]
    },
    {
      "cell_type": "code",
      "metadata": {
        "colab": {
          "base_uri": "https://localhost:8080/"
        },
        "id": "3JlLQgCJfEyj",
        "outputId": "91ed05e4-c98e-4851-83f3-6a88c1892055"
      },
      "source": [
        "from sklearn.model_selection import train_test_split\n",
        "\n",
        "x_train_, x_test_, y_train_, y_test_ = train_test_split(x_, y_, test_size=0.4, random_state=20, shuffle=True)\n",
        "x_val_, x_test_, y_val_, y_test_ = train_test_split(x_test_, y_test_, test_size=0.5, random_state=20,shuffle=True)\n",
        "\n",
        "x_train_.shape, x_test_.shape, x_val_.shape, y_train_.shape, y_test_.shape, y_val_.shape"
      ],
      "execution_count": 194,
      "outputs": [
        {
          "output_type": "execute_result",
          "data": {
            "text/plain": [
              "((4914, 13), (1639, 13), (1638, 13), (4914,), (1639,), (1638,))"
            ]
          },
          "metadata": {
            "tags": []
          },
          "execution_count": 194
        }
      ]
    },
    {
      "cell_type": "code",
      "metadata": {
        "colab": {
          "base_uri": "https://localhost:8080/"
        },
        "id": "j6mivNJ2iUI5",
        "outputId": "f6d5e310-b000-4b8d-f5c4-cc08d3753b5a"
      },
      "source": [
        "x_train_.head(),x_train_.shape"
      ],
      "execution_count": 195,
      "outputs": [
        {
          "output_type": "execute_result",
          "data": {
            "text/plain": [
              "(      NASDAQCOM  BAMLH0A0HYM2  HSN1F  UMCSENT  ...     HG  USD/KRW  USD/EUR  USD/CNY\n",
              " 5766    4215.32          5.08  476.0     86.9  ...  3.005  1060.97   0.7790   6.1259\n",
              " 443     4798.13          5.41  900.0    107.1  ...  0.805  1117.25   1.0284   8.2785\n",
              " 5109    2985.91          5.28  399.0     72.9  ...  3.590  1072.51   0.7553   6.2360\n",
              " 5194    3245.00          4.78  444.0     78.6  ...  3.454  1119.35   0.7700   6.2122\n",
              " 4339    2514.40          5.80  287.0     71.6  ...  3.830  1130.90   0.7329   6.6334\n",
              " \n",
              " [5 rows x 13 columns], (4914, 13))"
            ]
          },
          "metadata": {
            "tags": []
          },
          "execution_count": 195
        }
      ]
    },
    {
      "cell_type": "code",
      "metadata": {
        "colab": {
          "base_uri": "https://localhost:8080/"
        },
        "id": "1sthGSITfNXw",
        "outputId": "08f38195-dd08-4b2d-fde9-b5f2c4d366ec"
      },
      "source": [
        "pipe_ = Pipeline([\n",
        "    ('preprocessing', make_pipeline(OrdinalEncoder())),\n",
        "    ('rf', RandomForestRegressor(n_estimators=100, random_state=20, n_jobs=-1)) \n",
        "])\n",
        "\n",
        "pipe_.fit(x_train_, y_train_)\n",
        "print('훈련 R^2: ', pipe_.score(x_train_, y_train_))\n",
        "print('검증 R^2: ', pipe_.score(x_val_, y_val_))\n",
        "print('TEST R^2: ', pipe_.score(x_test_, y_test_))\n",
        "\n",
        "print('\\n훈련 MAE: ', mean_absolute_error(pipe_.predict(x_train_), y_train_))\n",
        "print('검증 MAE: ', mean_absolute_error(pipe_.predict(x_val_), y_val_))\n",
        "print('TEST MAE: ', mean_absolute_error(pipe_.predict(x_test_), y_test_))"
      ],
      "execution_count": 196,
      "outputs": [
        {
          "output_type": "stream",
          "text": [
            "훈련 R^2:  0.9999034834500641\n",
            "검증 R^2:  0.9991185714437719\n",
            "TEST R^2:  0.9987776192958645\n",
            "\n",
            "훈련 MAE:  0.004187525437525434\n",
            "검증 MAE:  0.01199481074481074\n",
            "TEST MAE:  0.013145210494203781\n"
          ],
          "name": "stdout"
        }
      ]
    },
    {
      "cell_type": "markdown",
      "metadata": {
        "id": "qr_NloaqjyOF"
      },
      "source": [
        "거의 변화없음"
      ]
    },
    {
      "cell_type": "markdown",
      "metadata": {
        "id": "0OGGWlYYmO_5"
      },
      "source": [
        "\n",
        "\n",
        "---\n",
        "\n"
      ]
    },
    {
      "cell_type": "code",
      "metadata": {
        "id": "lpTRUiffgsAC"
      },
      "source": [
        "# permuter 정의\n",
        "permuter = PermutationImportance(\n",
        "    pipe_.named_steps['rf'], # model\n",
        "    scoring='r2', # metric\n",
        "    n_iter=5, # 다른 random seed를 사용하여 5번 반복\n",
        "    random_state=20\n",
        ")\n",
        "\n",
        "# permuter 계산은 preprocessing 된 X_val을 사용합니다.\n",
        "x_val_transformed = pipe_.named_steps['preprocessing'].transform(x_val_)\n",
        "\n",
        "# 실제로 fit 의미보다는 스코어를 다시 계산하는 작업입니다\n",
        "permuter.fit(x_val_transformed, y_val_);"
      ],
      "execution_count": 198,
      "outputs": []
    },
    {
      "cell_type": "code",
      "metadata": {
        "colab": {
          "base_uri": "https://localhost:8080/",
          "height": 255
        },
        "id": "FFvsNiDEkve4",
        "outputId": "a9c310e5-397a-4540-95f9-cf50c34785b0"
      },
      "source": [
        "feature_names = x_val_.columns.tolist()\n",
        "pd.Series(permuter.feature_importances_, feature_names).sort_values()\n",
        "\n",
        "# 특성별 score 확인\n",
        "eli5.show_weights(\n",
        "    permuter, \n",
        "    top=None, # top n 지정 가능, None 일 경우 모든 특성 \n",
        "    feature_names=feature_names # list 형식으로 넣어야 합니다\n",
        ")"
      ],
      "execution_count": 200,
      "outputs": [
        {
          "output_type": "execute_result",
          "data": {
            "text/html": [
              "\n",
              "    <style>\n",
              "    table.eli5-weights tr:hover {\n",
              "        filter: brightness(85%);\n",
              "    }\n",
              "</style>\n",
              "\n",
              "\n",
              "\n",
              "    \n",
              "\n",
              "    \n",
              "\n",
              "    \n",
              "\n",
              "    \n",
              "\n",
              "    \n",
              "\n",
              "    \n",
              "\n",
              "\n",
              "    \n",
              "\n",
              "    \n",
              "\n",
              "    \n",
              "\n",
              "    \n",
              "\n",
              "    \n",
              "\n",
              "    \n",
              "\n",
              "\n",
              "    \n",
              "\n",
              "    \n",
              "\n",
              "    \n",
              "\n",
              "    \n",
              "\n",
              "    \n",
              "        <table class=\"eli5-weights eli5-feature-importances\" style=\"border-collapse: collapse; border: none; margin-top: 0em; table-layout: auto;\">\n",
              "    <thead>\n",
              "    <tr style=\"border: none;\">\n",
              "        <th style=\"padding: 0 1em 0 0.5em; text-align: right; border: none;\">Weight</th>\n",
              "        <th style=\"padding: 0 0.5em 0 0.5em; text-align: left; border: none;\">Feature</th>\n",
              "    </tr>\n",
              "    </thead>\n",
              "    <tbody>\n",
              "    \n",
              "        <tr style=\"background-color: hsl(120, 100.00%, 80.00%); border: none;\">\n",
              "            <td style=\"padding: 0 1em 0 0.5em; text-align: right; border: none;\">\n",
              "                0.7491\n",
              "                \n",
              "                    &plusmn; 0.0604\n",
              "                \n",
              "            </td>\n",
              "            <td style=\"padding: 0 0.5em 0 0.5em; text-align: left; border: none;\">\n",
              "                UNRATE\n",
              "            </td>\n",
              "        </tr>\n",
              "    \n",
              "        <tr style=\"background-color: hsl(120, 100.00%, 81.07%); border: none;\">\n",
              "            <td style=\"padding: 0 1em 0 0.5em; text-align: right; border: none;\">\n",
              "                0.6926\n",
              "                \n",
              "                    &plusmn; 0.0314\n",
              "                \n",
              "            </td>\n",
              "            <td style=\"padding: 0 0.5em 0 0.5em; text-align: left; border: none;\">\n",
              "                USD/CNY\n",
              "            </td>\n",
              "        </tr>\n",
              "    \n",
              "        <tr style=\"background-color: hsl(120, 100.00%, 95.24%); border: none;\">\n",
              "            <td style=\"padding: 0 1em 0 0.5em; text-align: right; border: none;\">\n",
              "                0.0965\n",
              "                \n",
              "                    &plusmn; 0.0091\n",
              "                \n",
              "            </td>\n",
              "            <td style=\"padding: 0 0.5em 0 0.5em; text-align: left; border: none;\">\n",
              "                NG\n",
              "            </td>\n",
              "        </tr>\n",
              "    \n",
              "        <tr style=\"background-color: hsl(120, 100.00%, 99.07%); border: none;\">\n",
              "            <td style=\"padding: 0 1em 0 0.5em; text-align: right; border: none;\">\n",
              "                0.0094\n",
              "                \n",
              "                    &plusmn; 0.0006\n",
              "                \n",
              "            </td>\n",
              "            <td style=\"padding: 0 0.5em 0 0.5em; text-align: left; border: none;\">\n",
              "                ZI\n",
              "            </td>\n",
              "        </tr>\n",
              "    \n",
              "        <tr style=\"background-color: hsl(120, 100.00%, 99.13%); border: none;\">\n",
              "            <td style=\"padding: 0 1em 0 0.5em; text-align: right; border: none;\">\n",
              "                0.0085\n",
              "                \n",
              "                    &plusmn; 0.0013\n",
              "                \n",
              "            </td>\n",
              "            <td style=\"padding: 0 0.5em 0 0.5em; text-align: left; border: none;\">\n",
              "                USD/EUR\n",
              "            </td>\n",
              "        </tr>\n",
              "    \n",
              "        <tr style=\"background-color: hsl(120, 100.00%, 99.20%); border: none;\">\n",
              "            <td style=\"padding: 0 1em 0 0.5em; text-align: right; border: none;\">\n",
              "                0.0075\n",
              "                \n",
              "                    &plusmn; 0.0006\n",
              "                \n",
              "            </td>\n",
              "            <td style=\"padding: 0 0.5em 0 0.5em; text-align: left; border: none;\">\n",
              "                ZG\n",
              "            </td>\n",
              "        </tr>\n",
              "    \n",
              "        <tr style=\"background-color: hsl(120, 100.00%, 99.38%); border: none;\">\n",
              "            <td style=\"padding: 0 1em 0 0.5em; text-align: right; border: none;\">\n",
              "                0.0052\n",
              "                \n",
              "                    &plusmn; 0.0006\n",
              "                \n",
              "            </td>\n",
              "            <td style=\"padding: 0 0.5em 0 0.5em; text-align: left; border: none;\">\n",
              "                HG\n",
              "            </td>\n",
              "        </tr>\n",
              "    \n",
              "        <tr style=\"background-color: hsl(120, 100.00%, 99.48%); border: none;\">\n",
              "            <td style=\"padding: 0 1em 0 0.5em; text-align: right; border: none;\">\n",
              "                0.0041\n",
              "                \n",
              "                    &plusmn; 0.0004\n",
              "                \n",
              "            </td>\n",
              "            <td style=\"padding: 0 0.5em 0 0.5em; text-align: left; border: none;\">\n",
              "                HSN1F\n",
              "            </td>\n",
              "        </tr>\n",
              "    \n",
              "        <tr style=\"background-color: hsl(120, 100.00%, 99.58%); border: none;\">\n",
              "            <td style=\"padding: 0 1em 0 0.5em; text-align: right; border: none;\">\n",
              "                0.0030\n",
              "                \n",
              "                    &plusmn; 0.0007\n",
              "                \n",
              "            </td>\n",
              "            <td style=\"padding: 0 0.5em 0 0.5em; text-align: left; border: none;\">\n",
              "                BAMLH0A0HYM2\n",
              "            </td>\n",
              "        </tr>\n",
              "    \n",
              "        <tr style=\"background-color: hsl(120, 100.00%, 99.66%); border: none;\">\n",
              "            <td style=\"padding: 0 1em 0 0.5em; text-align: right; border: none;\">\n",
              "                0.0023\n",
              "                \n",
              "                    &plusmn; 0.0002\n",
              "                \n",
              "            </td>\n",
              "            <td style=\"padding: 0 0.5em 0 0.5em; text-align: left; border: none;\">\n",
              "                UMCSENT\n",
              "            </td>\n",
              "        </tr>\n",
              "    \n",
              "        <tr style=\"background-color: hsl(120, 100.00%, 99.69%); border: none;\">\n",
              "            <td style=\"padding: 0 1em 0 0.5em; text-align: right; border: none;\">\n",
              "                0.0019\n",
              "                \n",
              "                    &plusmn; 0.0002\n",
              "                \n",
              "            </td>\n",
              "            <td style=\"padding: 0 0.5em 0 0.5em; text-align: left; border: none;\">\n",
              "                USD/KRW\n",
              "            </td>\n",
              "        </tr>\n",
              "    \n",
              "        <tr style=\"background-color: hsl(120, 100.00%, 99.77%); border: none;\">\n",
              "            <td style=\"padding: 0 1em 0 0.5em; text-align: right; border: none;\">\n",
              "                0.0013\n",
              "                \n",
              "                    &plusmn; 0.0002\n",
              "                \n",
              "            </td>\n",
              "            <td style=\"padding: 0 0.5em 0 0.5em; text-align: left; border: none;\">\n",
              "                ICSA\n",
              "            </td>\n",
              "        </tr>\n",
              "    \n",
              "        <tr style=\"background-color: hsl(120, 100.00%, 99.78%); border: none;\">\n",
              "            <td style=\"padding: 0 1em 0 0.5em; text-align: right; border: none;\">\n",
              "                0.0012\n",
              "                \n",
              "                    &plusmn; 0.0004\n",
              "                \n",
              "            </td>\n",
              "            <td style=\"padding: 0 0.5em 0 0.5em; text-align: left; border: none;\">\n",
              "                NASDAQCOM\n",
              "            </td>\n",
              "        </tr>\n",
              "    \n",
              "    \n",
              "    </tbody>\n",
              "</table>\n",
              "    \n",
              "\n",
              "    \n",
              "\n",
              "\n",
              "    \n",
              "\n",
              "    \n",
              "\n",
              "    \n",
              "\n",
              "    \n",
              "\n",
              "    \n",
              "\n",
              "    \n",
              "\n",
              "\n",
              "\n"
            ],
            "text/plain": [
              "<IPython.core.display.HTML object>"
            ]
          },
          "metadata": {
            "tags": []
          },
          "execution_count": 200
        }
      ]
    },
    {
      "cell_type": "markdown",
      "metadata": {
        "id": "s_ZkKRZalBXa"
      },
      "source": [
        "실업률이랑 달러/위완화 만으로도 금리 예측이 어느정도 가능하다 ?\n",
        "\n",
        "---\n",
        "\n"
      ]
    },
    {
      "cell_type": "code",
      "metadata": {
        "colab": {
          "base_uri": "https://localhost:8080/",
          "height": 419
        },
        "id": "jsnIx_41k_xh",
        "outputId": "78f39e56-bf82-40ec-d409-8d86e165cceb"
      },
      "source": [
        "df_x_m2 = df_x_m2.drop(\"UNRATE\", axis=1)\n",
        "df_x_m2"
      ],
      "execution_count": 206,
      "outputs": [
        {
          "output_type": "execute_result",
          "data": {
            "text/html": [
              "<div>\n",
              "<style scoped>\n",
              "    .dataframe tbody tr th:only-of-type {\n",
              "        vertical-align: middle;\n",
              "    }\n",
              "\n",
              "    .dataframe tbody tr th {\n",
              "        vertical-align: top;\n",
              "    }\n",
              "\n",
              "    .dataframe thead th {\n",
              "        text-align: right;\n",
              "    }\n",
              "</style>\n",
              "<table border=\"1\" class=\"dataframe\">\n",
              "  <thead>\n",
              "    <tr style=\"text-align: right;\">\n",
              "      <th></th>\n",
              "      <th>DFEDTAR</th>\n",
              "      <th>NASDAQCOM</th>\n",
              "      <th>BAMLH0A0HYM2</th>\n",
              "      <th>HSN1F</th>\n",
              "      <th>UMCSENT</th>\n",
              "      <th>ICSA</th>\n",
              "      <th>NG</th>\n",
              "      <th>ZG</th>\n",
              "      <th>ZI</th>\n",
              "      <th>HG</th>\n",
              "      <th>USD/KRW</th>\n",
              "      <th>USD/EUR</th>\n",
              "      <th>USD/CNY</th>\n",
              "    </tr>\n",
              "  </thead>\n",
              "  <tbody>\n",
              "    <tr>\n",
              "      <th>0</th>\n",
              "      <td>4.75</td>\n",
              "      <td>2208.05</td>\n",
              "      <td>5.63</td>\n",
              "      <td>875.0</td>\n",
              "      <td>103.9</td>\n",
              "      <td>331000.0</td>\n",
              "      <td>2.071</td>\n",
              "      <td>286.4</td>\n",
              "      <td>4.902</td>\n",
              "      <td>0.6440</td>\n",
              "      <td>1186.25</td>\n",
              "      <td>0.8455</td>\n",
              "      <td>8.2793</td>\n",
              "    </tr>\n",
              "    <tr>\n",
              "      <th>1</th>\n",
              "      <td>4.75</td>\n",
              "      <td>2208.05</td>\n",
              "      <td>5.63</td>\n",
              "      <td>875.0</td>\n",
              "      <td>103.9</td>\n",
              "      <td>331000.0</td>\n",
              "      <td>2.071</td>\n",
              "      <td>286.4</td>\n",
              "      <td>4.902</td>\n",
              "      <td>0.6440</td>\n",
              "      <td>1186.25</td>\n",
              "      <td>0.8455</td>\n",
              "      <td>8.2793</td>\n",
              "    </tr>\n",
              "    <tr>\n",
              "      <th>2</th>\n",
              "      <td>4.75</td>\n",
              "      <td>2208.05</td>\n",
              "      <td>5.63</td>\n",
              "      <td>875.0</td>\n",
              "      <td>103.9</td>\n",
              "      <td>331000.0</td>\n",
              "      <td>2.071</td>\n",
              "      <td>286.4</td>\n",
              "      <td>4.902</td>\n",
              "      <td>0.6440</td>\n",
              "      <td>1186.25</td>\n",
              "      <td>0.8455</td>\n",
              "      <td>8.2793</td>\n",
              "    </tr>\n",
              "    <tr>\n",
              "      <th>3</th>\n",
              "      <td>4.75</td>\n",
              "      <td>2208.05</td>\n",
              "      <td>5.63</td>\n",
              "      <td>875.0</td>\n",
              "      <td>103.9</td>\n",
              "      <td>331000.0</td>\n",
              "      <td>2.071</td>\n",
              "      <td>286.4</td>\n",
              "      <td>4.902</td>\n",
              "      <td>0.6440</td>\n",
              "      <td>1186.25</td>\n",
              "      <td>0.8455</td>\n",
              "      <td>8.2793</td>\n",
              "    </tr>\n",
              "    <tr>\n",
              "      <th>4</th>\n",
              "      <td>4.75</td>\n",
              "      <td>2251.27</td>\n",
              "      <td>5.57</td>\n",
              "      <td>875.0</td>\n",
              "      <td>103.9</td>\n",
              "      <td>331000.0</td>\n",
              "      <td>1.975</td>\n",
              "      <td>286.4</td>\n",
              "      <td>4.902</td>\n",
              "      <td>0.6390</td>\n",
              "      <td>1164.50</td>\n",
              "      <td>0.8501</td>\n",
              "      <td>8.2795</td>\n",
              "    </tr>\n",
              "    <tr>\n",
              "      <th>...</th>\n",
              "      <td>...</td>\n",
              "      <td>...</td>\n",
              "      <td>...</td>\n",
              "      <td>...</td>\n",
              "      <td>...</td>\n",
              "      <td>...</td>\n",
              "      <td>...</td>\n",
              "      <td>...</td>\n",
              "      <td>...</td>\n",
              "      <td>...</td>\n",
              "      <td>...</td>\n",
              "      <td>...</td>\n",
              "      <td>...</td>\n",
              "    </tr>\n",
              "    <tr>\n",
              "      <th>8186</th>\n",
              "      <td>0.25</td>\n",
              "      <td>13748.74</td>\n",
              "      <td>3.34</td>\n",
              "      <td>863.0</td>\n",
              "      <td>88.3</td>\n",
              "      <td>385000.0</td>\n",
              "      <td>2.986</td>\n",
              "      <td>1905.3</td>\n",
              "      <td>28.014</td>\n",
              "      <td>4.6775</td>\n",
              "      <td>1106.58</td>\n",
              "      <td>0.8177</td>\n",
              "      <td>6.3688</td>\n",
              "    </tr>\n",
              "    <tr>\n",
              "      <th>8187</th>\n",
              "      <td>0.25</td>\n",
              "      <td>13736.48</td>\n",
              "      <td>3.33</td>\n",
              "      <td>863.0</td>\n",
              "      <td>88.3</td>\n",
              "      <td>385000.0</td>\n",
              "      <td>3.104</td>\n",
              "      <td>1905.0</td>\n",
              "      <td>28.102</td>\n",
              "      <td>4.6535</td>\n",
              "      <td>1108.38</td>\n",
              "      <td>0.8187</td>\n",
              "      <td>6.3796</td>\n",
              "    </tr>\n",
              "    <tr>\n",
              "      <th>8188</th>\n",
              "      <td>0.25</td>\n",
              "      <td>13756.33</td>\n",
              "      <td>3.31</td>\n",
              "      <td>863.0</td>\n",
              "      <td>88.3</td>\n",
              "      <td>385000.0</td>\n",
              "      <td>3.075</td>\n",
              "      <td>1909.9</td>\n",
              "      <td>28.204</td>\n",
              "      <td>4.5915</td>\n",
              "      <td>1110.92</td>\n",
              "      <td>0.8188</td>\n",
              "      <td>6.3805</td>\n",
              "    </tr>\n",
              "    <tr>\n",
              "      <th>8189</th>\n",
              "      <td>0.25</td>\n",
              "      <td>13614.51</td>\n",
              "      <td>3.28</td>\n",
              "      <td>863.0</td>\n",
              "      <td>88.3</td>\n",
              "      <td>385000.0</td>\n",
              "      <td>3.041</td>\n",
              "      <td>1873.3</td>\n",
              "      <td>27.477</td>\n",
              "      <td>4.4630</td>\n",
              "      <td>1116.46</td>\n",
              "      <td>0.8245</td>\n",
              "      <td>6.4036</td>\n",
              "    </tr>\n",
              "    <tr>\n",
              "      <th>8190</th>\n",
              "      <td>0.25</td>\n",
              "      <td>13614.51</td>\n",
              "      <td>3.28</td>\n",
              "      <td>863.0</td>\n",
              "      <td>88.3</td>\n",
              "      <td>385000.0</td>\n",
              "      <td>3.041</td>\n",
              "      <td>1873.3</td>\n",
              "      <td>27.477</td>\n",
              "      <td>4.4630</td>\n",
              "      <td>1110.52</td>\n",
              "      <td>0.8218</td>\n",
              "      <td>6.3945</td>\n",
              "    </tr>\n",
              "  </tbody>\n",
              "</table>\n",
              "<p>8191 rows × 13 columns</p>\n",
              "</div>"
            ],
            "text/plain": [
              "      DFEDTAR  NASDAQCOM  BAMLH0A0HYM2  ...  USD/KRW  USD/EUR  USD/CNY\n",
              "0        4.75    2208.05          5.63  ...  1186.25   0.8455   8.2793\n",
              "1        4.75    2208.05          5.63  ...  1186.25   0.8455   8.2793\n",
              "2        4.75    2208.05          5.63  ...  1186.25   0.8455   8.2793\n",
              "3        4.75    2208.05          5.63  ...  1186.25   0.8455   8.2793\n",
              "4        4.75    2251.27          5.57  ...  1164.50   0.8501   8.2795\n",
              "...       ...        ...           ...  ...      ...      ...      ...\n",
              "8186     0.25   13748.74          3.34  ...  1106.58   0.8177   6.3688\n",
              "8187     0.25   13736.48          3.33  ...  1108.38   0.8187   6.3796\n",
              "8188     0.25   13756.33          3.31  ...  1110.92   0.8188   6.3805\n",
              "8189     0.25   13614.51          3.28  ...  1116.46   0.8245   6.4036\n",
              "8190     0.25   13614.51          3.28  ...  1110.52   0.8218   6.3945\n",
              "\n",
              "[8191 rows x 13 columns]"
            ]
          },
          "metadata": {
            "tags": []
          },
          "execution_count": 206
        }
      ]
    },
    {
      "cell_type": "code",
      "metadata": {
        "colab": {
          "base_uri": "https://localhost:8080/"
        },
        "id": "QXs3o5YIlfZo",
        "outputId": "87ca69b6-3206-4f12-cd4e-f36758b023dd"
      },
      "source": [
        "x_ = df_x_m2.drop('DFEDTAR', axis=1)\n",
        "y_ = df_x_m2['DFEDTAR']\n",
        "x_, y_\n",
        "\n",
        "from sklearn.model_selection import train_test_split\n",
        "\n",
        "x_train_, x_test_, y_train_, y_test_ = train_test_split(x_, y_, test_size=0.4, random_state=20, shuffle=True)\n",
        "x_val_, x_test_, y_val_, y_test_ = train_test_split(x_test_, y_test_, test_size=0.5, random_state=20,shuffle=True)\n",
        "\n",
        "x_train_.shape, x_test_.shape, x_val_.shape, y_train_.shape, y_test_.shape, y_val_.shape\n",
        "\n",
        "pipe_ = Pipeline([\n",
        "    ('preprocessing', make_pipeline(OrdinalEncoder())),\n",
        "    ('rf', RandomForestRegressor(n_estimators=100, random_state=20, n_jobs=-1)) \n",
        "])\n",
        "\n",
        "pipe_.fit(x_train_, y_train_)\n",
        "print('훈련 R^2: ', pipe_.score(x_train_, y_train_))\n",
        "print('검증 R^2: ', pipe_.score(x_val_, y_val_))\n",
        "print('TEST R^2: ', pipe_.score(x_test_, y_test_))\n",
        "\n",
        "print('\\n훈련 MAE: ', mean_absolute_error(pipe_.predict(x_train_), y_train_))\n",
        "print('검증 MAE: ', mean_absolute_error(pipe_.predict(x_val_), y_val_))\n",
        "print('TEST MAE: ', mean_absolute_error(pipe_.predict(x_test_), y_test_))"
      ],
      "execution_count": 207,
      "outputs": [
        {
          "output_type": "stream",
          "text": [
            "훈련 R^2:  0.9998319627222674\n",
            "검증 R^2:  0.9984024542466661\n",
            "TEST R^2:  0.9969649733533579\n",
            "\n",
            "훈련 MAE:  0.005388685388685385\n",
            "검증 MAE:  0.015695970695970698\n",
            "TEST MAE:  0.020707748627211715\n"
          ],
          "name": "stdout"
        }
      ]
    },
    {
      "cell_type": "code",
      "metadata": {
        "colab": {
          "base_uri": "https://localhost:8080/",
          "height": 238
        },
        "id": "wrvWJ0s9lxb9",
        "outputId": "b014ef32-5925-430d-d964-7c176ba8d8de"
      },
      "source": [
        "# permuter 정의\n",
        "permuter = PermutationImportance(\n",
        "    pipe_.named_steps['rf'], # model\n",
        "    scoring='r2', # metric\n",
        "    n_iter=5, # 다른 random seed를 사용하여 5번 반복\n",
        "    random_state=20\n",
        ")\n",
        "\n",
        "# permuter 계산은 preprocessing 된 X_val을 사용합니다.\n",
        "x_val_transformed = pipe_.named_steps['preprocessing'].transform(x_val_)\n",
        "\n",
        "# 실제로 fit 의미보다는 스코어를 다시 계산하는 작업입니다\n",
        "permuter.fit(x_val_transformed, y_val_);\n",
        "\n",
        "feature_names = x_val_.columns.tolist()\n",
        "pd.Series(permuter.feature_importances_, feature_names).sort_values()\n",
        "\n",
        "# 특성별 score 확인\n",
        "eli5.show_weights(\n",
        "    permuter, \n",
        "    top=None, # top n 지정 가능, None 일 경우 모든 특성 \n",
        "    feature_names=feature_names # list 형식으로 넣어야 합니다\n",
        ")"
      ],
      "execution_count": 208,
      "outputs": [
        {
          "output_type": "execute_result",
          "data": {
            "text/html": [
              "\n",
              "    <style>\n",
              "    table.eli5-weights tr:hover {\n",
              "        filter: brightness(85%);\n",
              "    }\n",
              "</style>\n",
              "\n",
              "\n",
              "\n",
              "    \n",
              "\n",
              "    \n",
              "\n",
              "    \n",
              "\n",
              "    \n",
              "\n",
              "    \n",
              "\n",
              "    \n",
              "\n",
              "\n",
              "    \n",
              "\n",
              "    \n",
              "\n",
              "    \n",
              "\n",
              "    \n",
              "\n",
              "    \n",
              "\n",
              "    \n",
              "\n",
              "\n",
              "    \n",
              "\n",
              "    \n",
              "\n",
              "    \n",
              "\n",
              "    \n",
              "\n",
              "    \n",
              "        <table class=\"eli5-weights eli5-feature-importances\" style=\"border-collapse: collapse; border: none; margin-top: 0em; table-layout: auto;\">\n",
              "    <thead>\n",
              "    <tr style=\"border: none;\">\n",
              "        <th style=\"padding: 0 1em 0 0.5em; text-align: right; border: none;\">Weight</th>\n",
              "        <th style=\"padding: 0 0.5em 0 0.5em; text-align: left; border: none;\">Feature</th>\n",
              "    </tr>\n",
              "    </thead>\n",
              "    <tbody>\n",
              "    \n",
              "        <tr style=\"background-color: hsl(120, 100.00%, 80.00%); border: none;\">\n",
              "            <td style=\"padding: 0 1em 0 0.5em; text-align: right; border: none;\">\n",
              "                1.5751\n",
              "                \n",
              "                    &plusmn; 0.0649\n",
              "                \n",
              "            </td>\n",
              "            <td style=\"padding: 0 0.5em 0 0.5em; text-align: left; border: none;\">\n",
              "                USD/CNY\n",
              "            </td>\n",
              "        </tr>\n",
              "    \n",
              "        <tr style=\"background-color: hsl(120, 100.00%, 93.20%); border: none;\">\n",
              "            <td style=\"padding: 0 1em 0 0.5em; text-align: right; border: none;\">\n",
              "                0.3375\n",
              "                \n",
              "                    &plusmn; 0.0215\n",
              "                \n",
              "            </td>\n",
              "            <td style=\"padding: 0 0.5em 0 0.5em; text-align: left; border: none;\">\n",
              "                NASDAQCOM\n",
              "            </td>\n",
              "        </tr>\n",
              "    \n",
              "        <tr style=\"background-color: hsl(120, 100.00%, 97.12%); border: none;\">\n",
              "            <td style=\"padding: 0 1em 0 0.5em; text-align: right; border: none;\">\n",
              "                0.0987\n",
              "                \n",
              "                    &plusmn; 0.0070\n",
              "                \n",
              "            </td>\n",
              "            <td style=\"padding: 0 0.5em 0 0.5em; text-align: left; border: none;\">\n",
              "                NG\n",
              "            </td>\n",
              "        </tr>\n",
              "    \n",
              "        <tr style=\"background-color: hsl(120, 100.00%, 97.93%); border: none;\">\n",
              "            <td style=\"padding: 0 1em 0 0.5em; text-align: right; border: none;\">\n",
              "                0.0615\n",
              "                \n",
              "                    &plusmn; 0.0042\n",
              "                \n",
              "            </td>\n",
              "            <td style=\"padding: 0 0.5em 0 0.5em; text-align: left; border: none;\">\n",
              "                ICSA\n",
              "            </td>\n",
              "        </tr>\n",
              "    \n",
              "        <tr style=\"background-color: hsl(120, 100.00%, 98.20%); border: none;\">\n",
              "            <td style=\"padding: 0 1em 0 0.5em; text-align: right; border: none;\">\n",
              "                0.0504\n",
              "                \n",
              "                    &plusmn; 0.0085\n",
              "                \n",
              "            </td>\n",
              "            <td style=\"padding: 0 0.5em 0 0.5em; text-align: left; border: none;\">\n",
              "                ZG\n",
              "            </td>\n",
              "        </tr>\n",
              "    \n",
              "        <tr style=\"background-color: hsl(120, 100.00%, 98.36%); border: none;\">\n",
              "            <td style=\"padding: 0 1em 0 0.5em; text-align: right; border: none;\">\n",
              "                0.0443\n",
              "                \n",
              "                    &plusmn; 0.0040\n",
              "                \n",
              "            </td>\n",
              "            <td style=\"padding: 0 0.5em 0 0.5em; text-align: left; border: none;\">\n",
              "                HSN1F\n",
              "            </td>\n",
              "        </tr>\n",
              "    \n",
              "        <tr style=\"background-color: hsl(120, 100.00%, 98.71%); border: none;\">\n",
              "            <td style=\"padding: 0 1em 0 0.5em; text-align: right; border: none;\">\n",
              "                0.0312\n",
              "                \n",
              "                    &plusmn; 0.0058\n",
              "                \n",
              "            </td>\n",
              "            <td style=\"padding: 0 0.5em 0 0.5em; text-align: left; border: none;\">\n",
              "                USD/KRW\n",
              "            </td>\n",
              "        </tr>\n",
              "    \n",
              "        <tr style=\"background-color: hsl(120, 100.00%, 98.73%); border: none;\">\n",
              "            <td style=\"padding: 0 1em 0 0.5em; text-align: right; border: none;\">\n",
              "                0.0308\n",
              "                \n",
              "                    &plusmn; 0.0023\n",
              "                \n",
              "            </td>\n",
              "            <td style=\"padding: 0 0.5em 0 0.5em; text-align: left; border: none;\">\n",
              "                HG\n",
              "            </td>\n",
              "        </tr>\n",
              "    \n",
              "        <tr style=\"background-color: hsl(120, 100.00%, 99.11%); border: none;\">\n",
              "            <td style=\"padding: 0 1em 0 0.5em; text-align: right; border: none;\">\n",
              "                0.0184\n",
              "                \n",
              "                    &plusmn; 0.0033\n",
              "                \n",
              "            </td>\n",
              "            <td style=\"padding: 0 0.5em 0 0.5em; text-align: left; border: none;\">\n",
              "                USD/EUR\n",
              "            </td>\n",
              "        </tr>\n",
              "    \n",
              "        <tr style=\"background-color: hsl(120, 100.00%, 99.28%); border: none;\">\n",
              "            <td style=\"padding: 0 1em 0 0.5em; text-align: right; border: none;\">\n",
              "                0.0136\n",
              "                \n",
              "                    &plusmn; 0.0006\n",
              "                \n",
              "            </td>\n",
              "            <td style=\"padding: 0 0.5em 0 0.5em; text-align: left; border: none;\">\n",
              "                ZI\n",
              "            </td>\n",
              "        </tr>\n",
              "    \n",
              "        <tr style=\"background-color: hsl(120, 100.00%, 99.47%); border: none;\">\n",
              "            <td style=\"padding: 0 1em 0 0.5em; text-align: right; border: none;\">\n",
              "                0.0087\n",
              "                \n",
              "                    &plusmn; 0.0005\n",
              "                \n",
              "            </td>\n",
              "            <td style=\"padding: 0 0.5em 0 0.5em; text-align: left; border: none;\">\n",
              "                UMCSENT\n",
              "            </td>\n",
              "        </tr>\n",
              "    \n",
              "        <tr style=\"background-color: hsl(120, 100.00%, 99.68%); border: none;\">\n",
              "            <td style=\"padding: 0 1em 0 0.5em; text-align: right; border: none;\">\n",
              "                0.0044\n",
              "                \n",
              "                    &plusmn; 0.0004\n",
              "                \n",
              "            </td>\n",
              "            <td style=\"padding: 0 0.5em 0 0.5em; text-align: left; border: none;\">\n",
              "                BAMLH0A0HYM2\n",
              "            </td>\n",
              "        </tr>\n",
              "    \n",
              "    \n",
              "    </tbody>\n",
              "</table>\n",
              "    \n",
              "\n",
              "    \n",
              "\n",
              "\n",
              "    \n",
              "\n",
              "    \n",
              "\n",
              "    \n",
              "\n",
              "    \n",
              "\n",
              "    \n",
              "\n",
              "    \n",
              "\n",
              "\n",
              "\n"
            ],
            "text/plain": [
              "<IPython.core.display.HTML object>"
            ]
          },
          "metadata": {
            "tags": []
          },
          "execution_count": 208
        }
      ]
    },
    {
      "cell_type": "markdown",
      "metadata": {
        "id": "ogf1qt9qm3qr"
      },
      "source": [
        "\n",
        "\n",
        "---\n",
        "\n"
      ]
    },
    {
      "cell_type": "code",
      "metadata": {
        "colab": {
          "base_uri": "https://localhost:8080/",
          "height": 419
        },
        "id": "vO0s5Dibm3QD",
        "outputId": "1741e0bf-6135-4820-d3cf-ffabbef48224"
      },
      "source": [
        "df_x_m2 = df_x_m2.drop(\"USD/CNY\", axis=1)\n",
        "df_x_m2"
      ],
      "execution_count": 209,
      "outputs": [
        {
          "output_type": "execute_result",
          "data": {
            "text/html": [
              "<div>\n",
              "<style scoped>\n",
              "    .dataframe tbody tr th:only-of-type {\n",
              "        vertical-align: middle;\n",
              "    }\n",
              "\n",
              "    .dataframe tbody tr th {\n",
              "        vertical-align: top;\n",
              "    }\n",
              "\n",
              "    .dataframe thead th {\n",
              "        text-align: right;\n",
              "    }\n",
              "</style>\n",
              "<table border=\"1\" class=\"dataframe\">\n",
              "  <thead>\n",
              "    <tr style=\"text-align: right;\">\n",
              "      <th></th>\n",
              "      <th>DFEDTAR</th>\n",
              "      <th>NASDAQCOM</th>\n",
              "      <th>BAMLH0A0HYM2</th>\n",
              "      <th>HSN1F</th>\n",
              "      <th>UMCSENT</th>\n",
              "      <th>ICSA</th>\n",
              "      <th>NG</th>\n",
              "      <th>ZG</th>\n",
              "      <th>ZI</th>\n",
              "      <th>HG</th>\n",
              "      <th>USD/KRW</th>\n",
              "      <th>USD/EUR</th>\n",
              "    </tr>\n",
              "  </thead>\n",
              "  <tbody>\n",
              "    <tr>\n",
              "      <th>0</th>\n",
              "      <td>4.75</td>\n",
              "      <td>2208.05</td>\n",
              "      <td>5.63</td>\n",
              "      <td>875.0</td>\n",
              "      <td>103.9</td>\n",
              "      <td>331000.0</td>\n",
              "      <td>2.071</td>\n",
              "      <td>286.4</td>\n",
              "      <td>4.902</td>\n",
              "      <td>0.6440</td>\n",
              "      <td>1186.25</td>\n",
              "      <td>0.8455</td>\n",
              "    </tr>\n",
              "    <tr>\n",
              "      <th>1</th>\n",
              "      <td>4.75</td>\n",
              "      <td>2208.05</td>\n",
              "      <td>5.63</td>\n",
              "      <td>875.0</td>\n",
              "      <td>103.9</td>\n",
              "      <td>331000.0</td>\n",
              "      <td>2.071</td>\n",
              "      <td>286.4</td>\n",
              "      <td>4.902</td>\n",
              "      <td>0.6440</td>\n",
              "      <td>1186.25</td>\n",
              "      <td>0.8455</td>\n",
              "    </tr>\n",
              "    <tr>\n",
              "      <th>2</th>\n",
              "      <td>4.75</td>\n",
              "      <td>2208.05</td>\n",
              "      <td>5.63</td>\n",
              "      <td>875.0</td>\n",
              "      <td>103.9</td>\n",
              "      <td>331000.0</td>\n",
              "      <td>2.071</td>\n",
              "      <td>286.4</td>\n",
              "      <td>4.902</td>\n",
              "      <td>0.6440</td>\n",
              "      <td>1186.25</td>\n",
              "      <td>0.8455</td>\n",
              "    </tr>\n",
              "    <tr>\n",
              "      <th>3</th>\n",
              "      <td>4.75</td>\n",
              "      <td>2208.05</td>\n",
              "      <td>5.63</td>\n",
              "      <td>875.0</td>\n",
              "      <td>103.9</td>\n",
              "      <td>331000.0</td>\n",
              "      <td>2.071</td>\n",
              "      <td>286.4</td>\n",
              "      <td>4.902</td>\n",
              "      <td>0.6440</td>\n",
              "      <td>1186.25</td>\n",
              "      <td>0.8455</td>\n",
              "    </tr>\n",
              "    <tr>\n",
              "      <th>4</th>\n",
              "      <td>4.75</td>\n",
              "      <td>2251.27</td>\n",
              "      <td>5.57</td>\n",
              "      <td>875.0</td>\n",
              "      <td>103.9</td>\n",
              "      <td>331000.0</td>\n",
              "      <td>1.975</td>\n",
              "      <td>286.4</td>\n",
              "      <td>4.902</td>\n",
              "      <td>0.6390</td>\n",
              "      <td>1164.50</td>\n",
              "      <td>0.8501</td>\n",
              "    </tr>\n",
              "    <tr>\n",
              "      <th>...</th>\n",
              "      <td>...</td>\n",
              "      <td>...</td>\n",
              "      <td>...</td>\n",
              "      <td>...</td>\n",
              "      <td>...</td>\n",
              "      <td>...</td>\n",
              "      <td>...</td>\n",
              "      <td>...</td>\n",
              "      <td>...</td>\n",
              "      <td>...</td>\n",
              "      <td>...</td>\n",
              "      <td>...</td>\n",
              "    </tr>\n",
              "    <tr>\n",
              "      <th>8186</th>\n",
              "      <td>0.25</td>\n",
              "      <td>13748.74</td>\n",
              "      <td>3.34</td>\n",
              "      <td>863.0</td>\n",
              "      <td>88.3</td>\n",
              "      <td>385000.0</td>\n",
              "      <td>2.986</td>\n",
              "      <td>1905.3</td>\n",
              "      <td>28.014</td>\n",
              "      <td>4.6775</td>\n",
              "      <td>1106.58</td>\n",
              "      <td>0.8177</td>\n",
              "    </tr>\n",
              "    <tr>\n",
              "      <th>8187</th>\n",
              "      <td>0.25</td>\n",
              "      <td>13736.48</td>\n",
              "      <td>3.33</td>\n",
              "      <td>863.0</td>\n",
              "      <td>88.3</td>\n",
              "      <td>385000.0</td>\n",
              "      <td>3.104</td>\n",
              "      <td>1905.0</td>\n",
              "      <td>28.102</td>\n",
              "      <td>4.6535</td>\n",
              "      <td>1108.38</td>\n",
              "      <td>0.8187</td>\n",
              "    </tr>\n",
              "    <tr>\n",
              "      <th>8188</th>\n",
              "      <td>0.25</td>\n",
              "      <td>13756.33</td>\n",
              "      <td>3.31</td>\n",
              "      <td>863.0</td>\n",
              "      <td>88.3</td>\n",
              "      <td>385000.0</td>\n",
              "      <td>3.075</td>\n",
              "      <td>1909.9</td>\n",
              "      <td>28.204</td>\n",
              "      <td>4.5915</td>\n",
              "      <td>1110.92</td>\n",
              "      <td>0.8188</td>\n",
              "    </tr>\n",
              "    <tr>\n",
              "      <th>8189</th>\n",
              "      <td>0.25</td>\n",
              "      <td>13614.51</td>\n",
              "      <td>3.28</td>\n",
              "      <td>863.0</td>\n",
              "      <td>88.3</td>\n",
              "      <td>385000.0</td>\n",
              "      <td>3.041</td>\n",
              "      <td>1873.3</td>\n",
              "      <td>27.477</td>\n",
              "      <td>4.4630</td>\n",
              "      <td>1116.46</td>\n",
              "      <td>0.8245</td>\n",
              "    </tr>\n",
              "    <tr>\n",
              "      <th>8190</th>\n",
              "      <td>0.25</td>\n",
              "      <td>13614.51</td>\n",
              "      <td>3.28</td>\n",
              "      <td>863.0</td>\n",
              "      <td>88.3</td>\n",
              "      <td>385000.0</td>\n",
              "      <td>3.041</td>\n",
              "      <td>1873.3</td>\n",
              "      <td>27.477</td>\n",
              "      <td>4.4630</td>\n",
              "      <td>1110.52</td>\n",
              "      <td>0.8218</td>\n",
              "    </tr>\n",
              "  </tbody>\n",
              "</table>\n",
              "<p>8191 rows × 12 columns</p>\n",
              "</div>"
            ],
            "text/plain": [
              "      DFEDTAR  NASDAQCOM  BAMLH0A0HYM2  HSN1F  ...      ZI      HG  USD/KRW  USD/EUR\n",
              "0        4.75    2208.05          5.63  875.0  ...   4.902  0.6440  1186.25   0.8455\n",
              "1        4.75    2208.05          5.63  875.0  ...   4.902  0.6440  1186.25   0.8455\n",
              "2        4.75    2208.05          5.63  875.0  ...   4.902  0.6440  1186.25   0.8455\n",
              "3        4.75    2208.05          5.63  875.0  ...   4.902  0.6440  1186.25   0.8455\n",
              "4        4.75    2251.27          5.57  875.0  ...   4.902  0.6390  1164.50   0.8501\n",
              "...       ...        ...           ...    ...  ...     ...     ...      ...      ...\n",
              "8186     0.25   13748.74          3.34  863.0  ...  28.014  4.6775  1106.58   0.8177\n",
              "8187     0.25   13736.48          3.33  863.0  ...  28.102  4.6535  1108.38   0.8187\n",
              "8188     0.25   13756.33          3.31  863.0  ...  28.204  4.5915  1110.92   0.8188\n",
              "8189     0.25   13614.51          3.28  863.0  ...  27.477  4.4630  1116.46   0.8245\n",
              "8190     0.25   13614.51          3.28  863.0  ...  27.477  4.4630  1110.52   0.8218\n",
              "\n",
              "[8191 rows x 12 columns]"
            ]
          },
          "metadata": {
            "tags": []
          },
          "execution_count": 209
        }
      ]
    },
    {
      "cell_type": "code",
      "metadata": {
        "colab": {
          "base_uri": "https://localhost:8080/"
        },
        "id": "vxqohGOhmzno",
        "outputId": "99f81db1-ba64-4029-a072-a388c60a0559"
      },
      "source": [
        "#타겟설정\n",
        "x_ = df_x_m2.drop('DFEDTAR', axis=1)\n",
        "y_ = df_x_m2['DFEDTAR']\n",
        "x_, y_\n",
        "#데이터 분할 \n",
        "from sklearn.model_selection import train_test_split\n",
        "\n",
        "x_train_, x_test_, y_train_, y_test_ = train_test_split(x_, y_, test_size=0.4, random_state=20, shuffle=True)\n",
        "x_val_, x_test_, y_val_, y_test_ = train_test_split(x_test_, y_test_, test_size=0.5, random_state=20,shuffle=True)\n",
        "\n",
        "x_train_.shape, x_test_.shape, x_val_.shape, y_train_.shape, y_test_.shape, y_val_.shape\n",
        "#파이프라인구축\n",
        "pipe_ = Pipeline([\n",
        "    ('preprocessing', make_pipeline(OrdinalEncoder())),\n",
        "    ('rf', RandomForestRegressor(n_estimators=100, random_state=20, n_jobs=-1)) \n",
        "])\n",
        "#훈련\n",
        "pipe_.fit(x_train_, y_train_)\n",
        "#검증\n",
        "print('훈련 R^2: ', pipe_.score(x_train_, y_train_))\n",
        "print('검증 R^2: ', pipe_.score(x_val_, y_val_))\n",
        "print('TEST R^2: ', pipe_.score(x_test_, y_test_))\n",
        "\n",
        "print('\\n훈련 MAE: ', mean_absolute_error(pipe_.predict(x_train_), y_train_))\n",
        "print('검증 MAE: ', mean_absolute_error(pipe_.predict(x_val_), y_val_))\n",
        "print('TEST MAE: ', mean_absolute_error(pipe_.predict(x_test_), y_test_))"
      ],
      "execution_count": 210,
      "outputs": [
        {
          "output_type": "stream",
          "text": [
            "훈련 R^2:  0.9998492260093473\n",
            "검증 R^2:  0.997869207415114\n",
            "TEST R^2:  0.9976963867029616\n",
            "\n",
            "훈련 MAE:  0.005511803011803011\n",
            "검증 MAE:  0.016782661782661783\n",
            "TEST MAE:  0.019238865161683952\n"
          ],
          "name": "stdout"
        }
      ]
    },
    {
      "cell_type": "code",
      "metadata": {
        "colab": {
          "base_uri": "https://localhost:8080/",
          "height": 221
        },
        "id": "3-Zf0uagnL7N",
        "outputId": "54f9f132-08ef-49f5-8afd-4afb6726e5b5"
      },
      "source": [
        "# permuter 정의\n",
        "permuter = PermutationImportance(\n",
        "    pipe_.named_steps['rf'], # model\n",
        "    scoring='r2', # metric\n",
        "    n_iter=5, # 다른 random seed를 사용하여 5번 반복\n",
        "    random_state=20\n",
        ")\n",
        "\n",
        "# permuter 계산은 preprocessing 된 X_val을 사용합니다.\n",
        "x_val_transformed = pipe_.named_steps['preprocessing'].transform(x_val_)\n",
        "\n",
        "# 실제로 fit 의미보다는 스코어를 다시 계산하는 작업입니다\n",
        "permuter.fit(x_val_transformed, y_val_);\n",
        "\n",
        "feature_names = x_val_.columns.tolist()\n",
        "pd.Series(permuter.feature_importances_, feature_names).sort_values()\n",
        "\n",
        "# 특성별 score 확인\n",
        "eli5.show_weights(\n",
        "    permuter, \n",
        "    top=None, # top n 지정 가능, None 일 경우 모든 특성 \n",
        "    feature_names=feature_names # list 형식으로 넣어야 합니다\n",
        ")"
      ],
      "execution_count": 211,
      "outputs": [
        {
          "output_type": "execute_result",
          "data": {
            "text/html": [
              "\n",
              "    <style>\n",
              "    table.eli5-weights tr:hover {\n",
              "        filter: brightness(85%);\n",
              "    }\n",
              "</style>\n",
              "\n",
              "\n",
              "\n",
              "    \n",
              "\n",
              "    \n",
              "\n",
              "    \n",
              "\n",
              "    \n",
              "\n",
              "    \n",
              "\n",
              "    \n",
              "\n",
              "\n",
              "    \n",
              "\n",
              "    \n",
              "\n",
              "    \n",
              "\n",
              "    \n",
              "\n",
              "    \n",
              "\n",
              "    \n",
              "\n",
              "\n",
              "    \n",
              "\n",
              "    \n",
              "\n",
              "    \n",
              "\n",
              "    \n",
              "\n",
              "    \n",
              "        <table class=\"eli5-weights eli5-feature-importances\" style=\"border-collapse: collapse; border: none; margin-top: 0em; table-layout: auto;\">\n",
              "    <thead>\n",
              "    <tr style=\"border: none;\">\n",
              "        <th style=\"padding: 0 1em 0 0.5em; text-align: right; border: none;\">Weight</th>\n",
              "        <th style=\"padding: 0 0.5em 0 0.5em; text-align: left; border: none;\">Feature</th>\n",
              "    </tr>\n",
              "    </thead>\n",
              "    <tbody>\n",
              "    \n",
              "        <tr style=\"background-color: hsl(120, 100.00%, 80.00%); border: none;\">\n",
              "            <td style=\"padding: 0 1em 0 0.5em; text-align: right; border: none;\">\n",
              "                1.7566\n",
              "                \n",
              "                    &plusmn; 0.1594\n",
              "                \n",
              "            </td>\n",
              "            <td style=\"padding: 0 0.5em 0 0.5em; text-align: left; border: none;\">\n",
              "                ZG\n",
              "            </td>\n",
              "        </tr>\n",
              "    \n",
              "        <tr style=\"background-color: hsl(120, 100.00%, 91.92%); border: none;\">\n",
              "            <td style=\"padding: 0 1em 0 0.5em; text-align: right; border: none;\">\n",
              "                0.4815\n",
              "                \n",
              "                    &plusmn; 0.0176\n",
              "                \n",
              "            </td>\n",
              "            <td style=\"padding: 0 0.5em 0 0.5em; text-align: left; border: none;\">\n",
              "                NASDAQCOM\n",
              "            </td>\n",
              "        </tr>\n",
              "    \n",
              "        <tr style=\"background-color: hsl(120, 100.00%, 96.19%); border: none;\">\n",
              "            <td style=\"padding: 0 1em 0 0.5em; text-align: right; border: none;\">\n",
              "                0.1645\n",
              "                \n",
              "                    &plusmn; 0.0213\n",
              "                \n",
              "            </td>\n",
              "            <td style=\"padding: 0 0.5em 0 0.5em; text-align: left; border: none;\">\n",
              "                NG\n",
              "            </td>\n",
              "        </tr>\n",
              "    \n",
              "        <tr style=\"background-color: hsl(120, 100.00%, 97.60%); border: none;\">\n",
              "            <td style=\"padding: 0 1em 0 0.5em; text-align: right; border: none;\">\n",
              "                0.0852\n",
              "                \n",
              "                    &plusmn; 0.0070\n",
              "                \n",
              "            </td>\n",
              "            <td style=\"padding: 0 0.5em 0 0.5em; text-align: left; border: none;\">\n",
              "                ICSA\n",
              "            </td>\n",
              "        </tr>\n",
              "    \n",
              "        <tr style=\"background-color: hsl(120, 100.00%, 97.94%); border: none;\">\n",
              "            <td style=\"padding: 0 1em 0 0.5em; text-align: right; border: none;\">\n",
              "                0.0684\n",
              "                \n",
              "                    &plusmn; 0.0116\n",
              "                \n",
              "            </td>\n",
              "            <td style=\"padding: 0 0.5em 0 0.5em; text-align: left; border: none;\">\n",
              "                USD/KRW\n",
              "            </td>\n",
              "        </tr>\n",
              "    \n",
              "        <tr style=\"background-color: hsl(120, 100.00%, 98.34%); border: none;\">\n",
              "            <td style=\"padding: 0 1em 0 0.5em; text-align: right; border: none;\">\n",
              "                0.0504\n",
              "                \n",
              "                    &plusmn; 0.0056\n",
              "                \n",
              "            </td>\n",
              "            <td style=\"padding: 0 0.5em 0 0.5em; text-align: left; border: none;\">\n",
              "                HSN1F\n",
              "            </td>\n",
              "        </tr>\n",
              "    \n",
              "        <tr style=\"background-color: hsl(120, 100.00%, 99.35%); border: none;\">\n",
              "            <td style=\"padding: 0 1em 0 0.5em; text-align: right; border: none;\">\n",
              "                0.0133\n",
              "                \n",
              "                    &plusmn; 0.0013\n",
              "                \n",
              "            </td>\n",
              "            <td style=\"padding: 0 0.5em 0 0.5em; text-align: left; border: none;\">\n",
              "                UMCSENT\n",
              "            </td>\n",
              "        </tr>\n",
              "    \n",
              "        <tr style=\"background-color: hsl(120, 100.00%, 99.39%); border: none;\">\n",
              "            <td style=\"padding: 0 1em 0 0.5em; text-align: right; border: none;\">\n",
              "                0.0120\n",
              "                \n",
              "                    &plusmn; 0.0016\n",
              "                \n",
              "            </td>\n",
              "            <td style=\"padding: 0 0.5em 0 0.5em; text-align: left; border: none;\">\n",
              "                USD/EUR\n",
              "            </td>\n",
              "        </tr>\n",
              "    \n",
              "        <tr style=\"background-color: hsl(120, 100.00%, 99.54%); border: none;\">\n",
              "            <td style=\"padding: 0 1em 0 0.5em; text-align: right; border: none;\">\n",
              "                0.0081\n",
              "                \n",
              "                    &plusmn; 0.0009\n",
              "                \n",
              "            </td>\n",
              "            <td style=\"padding: 0 0.5em 0 0.5em; text-align: left; border: none;\">\n",
              "                BAMLH0A0HYM2\n",
              "            </td>\n",
              "        </tr>\n",
              "    \n",
              "        <tr style=\"background-color: hsl(120, 100.00%, 99.61%); border: none;\">\n",
              "            <td style=\"padding: 0 1em 0 0.5em; text-align: right; border: none;\">\n",
              "                0.0064\n",
              "                \n",
              "                    &plusmn; 0.0013\n",
              "                \n",
              "            </td>\n",
              "            <td style=\"padding: 0 0.5em 0 0.5em; text-align: left; border: none;\">\n",
              "                HG\n",
              "            </td>\n",
              "        </tr>\n",
              "    \n",
              "        <tr style=\"background-color: hsl(120, 100.00%, 99.67%); border: none;\">\n",
              "            <td style=\"padding: 0 1em 0 0.5em; text-align: right; border: none;\">\n",
              "                0.0050\n",
              "                \n",
              "                    &plusmn; 0.0008\n",
              "                \n",
              "            </td>\n",
              "            <td style=\"padding: 0 0.5em 0 0.5em; text-align: left; border: none;\">\n",
              "                ZI\n",
              "            </td>\n",
              "        </tr>\n",
              "    \n",
              "    \n",
              "    </tbody>\n",
              "</table>\n",
              "    \n",
              "\n",
              "    \n",
              "\n",
              "\n",
              "    \n",
              "\n",
              "    \n",
              "\n",
              "    \n",
              "\n",
              "    \n",
              "\n",
              "    \n",
              "\n",
              "    \n",
              "\n",
              "\n",
              "\n"
            ],
            "text/plain": [
              "<IPython.core.display.HTML object>"
            ]
          },
          "metadata": {
            "tags": []
          },
          "execution_count": 211
        }
      ]
    },
    {
      "cell_type": "code",
      "metadata": {
        "colab": {
          "base_uri": "https://localhost:8080/"
        },
        "id": "H-dj3d4XomtJ",
        "outputId": "9a70c238-f456-486c-8fd4-3b16aa96e0ab"
      },
      "source": [
        "pd.Series(permuter.feature_importances_, x_test_.columns).sort_values()"
      ],
      "execution_count": 215,
      "outputs": [
        {
          "output_type": "execute_result",
          "data": {
            "text/plain": [
              "ZI              0.004952\n",
              "HG              0.006401\n",
              "BAMLH0A0HYM2    0.008089\n",
              "USD/EUR         0.012024\n",
              "UMCSENT         0.013266\n",
              "HSN1F           0.050365\n",
              "USD/KRW         0.068404\n",
              "ICSA            0.085187\n",
              "NG              0.164527\n",
              "NASDAQCOM       0.481545\n",
              "ZG              1.756619\n",
              "dtype: float64"
            ]
          },
          "metadata": {
            "tags": []
          },
          "execution_count": 215
        }
      ]
    },
    {
      "cell_type": "code",
      "metadata": {
        "colab": {
          "base_uri": "https://localhost:8080/",
          "height": 692
        },
        "id": "gxl5ZEv7oaCf",
        "outputId": "19532efe-a010-4c49-8219-8f9b78591b7c"
      },
      "source": [
        "import seaborn as sns\n",
        "zipp  = []\n",
        "for zipper in zip(x_train_.columns, permuter.feature_importances_):\n",
        "  zipp.append(zipper)\n",
        "zipp = pd.DataFrame(zipp,columns=['feature','importance']).sort_values('importance',ascending=False)\n",
        "plt.figure(figsize=(5,5))\n",
        "sns.barplot(y = zipp.feature[:10], x= zipp.importance[:10], palette='Blues_r')\n",
        "plt.title(\"Permutation Importance\",fontsize=20);"
      ],
      "execution_count": 219,
      "outputs": [
        {
          "output_type": "display_data",
          "data": {
            "image/png": "[encoded data removed]",
            "text/plain": [
              "<Figure size 720x720 with 1 Axes>"
            ]
          },
          "metadata": {
            "tags": [],
            "needs_background": "light"
          }
        }
      ]
    },
    {
      "cell_type": "markdown",
      "metadata": {
        "id": "1_ZeGsM3nqIX"
      },
      "source": [
        "zg는 금 가격인데 왜 ?  금리 예측에 도움이 되는걸까 ,,,"
      ]
    },
    {
      "cell_type": "markdown",
      "metadata": {
        "id": "qfrcVNcypQLV"
      },
      "source": [
        "ZG를 빼도 결과가 너무 좋다"
      ]
    },
    {
      "cell_type": "code",
      "metadata": {
        "colab": {
          "base_uri": "https://localhost:8080/"
        },
        "id": "Mh0MLZgZo35D",
        "outputId": "6a992820-3807-433d-b1b4-ccb98fb12552"
      },
      "source": [
        "df_x_m2 = df_x_m2.drop(\"ZI\", axis=1)\n",
        "\n",
        "x_ = df_x_m2.drop('DFEDTAR', axis=1)\n",
        "y_ = df_x_m2['DFEDTAR']\n",
        "x_, y_\n",
        "\n",
        "from sklearn.model_selection import train_test_split\n",
        "\n",
        "x_train_, x_test_, y_train_, y_test_ = train_test_split(x_, y_, test_size=0.4, random_state=20, shuffle=True)\n",
        "x_val_, x_test_, y_val_, y_test_ = train_test_split(x_test_, y_test_, test_size=0.5, random_state=20,shuffle=True)\n",
        "\n",
        "x_train_.shape, x_test_.shape, x_val_.shape, y_train_.shape, y_test_.shape, y_val_.shape\n",
        "\n",
        "pipe_ = Pipeline([\n",
        "    ('preprocessing', make_pipeline(OrdinalEncoder())),\n",
        "    ('rf', RandomForestRegressor(n_estimators=100, random_state=20, n_jobs=-1)) \n",
        "])\n",
        "\n",
        "pipe_.fit(x_train_, y_train_)\n",
        "print('훈련 R^2: ', pipe_.score(x_train_, y_train_))\n",
        "print('검증 R^2: ', pipe_.score(x_val_, y_val_))\n",
        "print('TEST R^2: ', pipe_.score(x_test_, y_test_))\n",
        "\n",
        "print('\\n훈련 MAE: ', mean_absolute_error(pipe_.predict(x_train_), y_train_))\n",
        "print('검증 MAE: ', mean_absolute_error(pipe_.predict(x_val_), y_val_))\n",
        "print('TEST MAE: ', mean_absolute_error(pipe_.predict(x_test_), y_test_))"
      ],
      "execution_count": 222,
      "outputs": [
        {
          "output_type": "stream",
          "text": [
            "훈련 R^2:  0.9998356901989786\n",
            "검증 R^2:  0.9956481227418897\n",
            "TEST R^2:  0.9973068731784086\n",
            "\n",
            "훈련 MAE:  0.005934574684574683\n",
            "검증 MAE:  0.018995726495726496\n",
            "TEST MAE:  0.019023794996949357\n"
          ],
          "name": "stdout"
        }
      ]
    },
    {
      "cell_type": "code",
      "metadata": {
        "colab": {
          "base_uri": "https://localhost:8080/",
          "height": 187
        },
        "id": "jWV-xWJbpHlZ",
        "outputId": "e2140479-9adc-4cfe-a8cd-732c6bd66088"
      },
      "source": [
        "# permuter 정의\n",
        "permuter = PermutationImportance(\n",
        "    pipe_.named_steps['rf'], # model\n",
        "    scoring='r2', # metric\n",
        "    n_iter=5, # 다른 random seed를 사용하여 5번 반복\n",
        "    random_state=20\n",
        ")\n",
        "\n",
        "# permuter 계산은 preprocessing 된 X_val을 사용합니다.\n",
        "x_val_transformed = pipe_.named_steps['preprocessing'].transform(x_val_)\n",
        "\n",
        "# 실제로 fit 의미보다는 스코어를 다시 계산하는 작업입니다\n",
        "permuter.fit(x_val_transformed, y_val_);\n",
        "\n",
        "feature_names = x_val_.columns.tolist()\n",
        "pd.Series(permuter.feature_importances_, feature_names).sort_values()\n",
        "\n",
        "# 특성별 score 확인\n",
        "eli5.show_weights(\n",
        "    permuter, \n",
        "    top=None, # top n 지정 가능, None 일 경우 모든 특성 \n",
        "    feature_names=feature_names # list 형식으로 넣어야 합니다\n",
        ")"
      ],
      "execution_count": 223,
      "outputs": [
        {
          "output_type": "execute_result",
          "data": {
            "text/html": [
              "\n",
              "    <style>\n",
              "    table.eli5-weights tr:hover {\n",
              "        filter: brightness(85%);\n",
              "    }\n",
              "</style>\n",
              "\n",
              "\n",
              "\n",
              "    \n",
              "\n",
              "    \n",
              "\n",
              "    \n",
              "\n",
              "    \n",
              "\n",
              "    \n",
              "\n",
              "    \n",
              "\n",
              "\n",
              "    \n",
              "\n",
              "    \n",
              "\n",
              "    \n",
              "\n",
              "    \n",
              "\n",
              "    \n",
              "\n",
              "    \n",
              "\n",
              "\n",
              "    \n",
              "\n",
              "    \n",
              "\n",
              "    \n",
              "\n",
              "    \n",
              "\n",
              "    \n",
              "        <table class=\"eli5-weights eli5-feature-importances\" style=\"border-collapse: collapse; border: none; margin-top: 0em; table-layout: auto;\">\n",
              "    <thead>\n",
              "    <tr style=\"border: none;\">\n",
              "        <th style=\"padding: 0 1em 0 0.5em; text-align: right; border: none;\">Weight</th>\n",
              "        <th style=\"padding: 0 0.5em 0 0.5em; text-align: left; border: none;\">Feature</th>\n",
              "    </tr>\n",
              "    </thead>\n",
              "    <tbody>\n",
              "    \n",
              "        <tr style=\"background-color: hsl(120, 100.00%, 80.00%); border: none;\">\n",
              "            <td style=\"padding: 0 1em 0 0.5em; text-align: right; border: none;\">\n",
              "                0.5904\n",
              "                \n",
              "                    &plusmn; 0.0446\n",
              "                \n",
              "            </td>\n",
              "            <td style=\"padding: 0 0.5em 0 0.5em; text-align: left; border: none;\">\n",
              "                HSN1F\n",
              "            </td>\n",
              "        </tr>\n",
              "    \n",
              "        <tr style=\"background-color: hsl(120, 100.00%, 85.42%); border: none;\">\n",
              "            <td style=\"padding: 0 1em 0 0.5em; text-align: right; border: none;\">\n",
              "                0.3759\n",
              "                \n",
              "                    &plusmn; 0.0539\n",
              "                \n",
              "            </td>\n",
              "            <td style=\"padding: 0 0.5em 0 0.5em; text-align: left; border: none;\">\n",
              "                USD/KRW\n",
              "            </td>\n",
              "        </tr>\n",
              "    \n",
              "        <tr style=\"background-color: hsl(120, 100.00%, 86.43%); border: none;\">\n",
              "            <td style=\"padding: 0 1em 0 0.5em; text-align: right; border: none;\">\n",
              "                0.3393\n",
              "                \n",
              "                    &plusmn; 0.0281\n",
              "                \n",
              "            </td>\n",
              "            <td style=\"padding: 0 0.5em 0 0.5em; text-align: left; border: none;\">\n",
              "                UMCSENT\n",
              "            </td>\n",
              "        </tr>\n",
              "    \n",
              "        <tr style=\"background-color: hsl(120, 100.00%, 90.90%); border: none;\">\n",
              "            <td style=\"padding: 0 1em 0 0.5em; text-align: right; border: none;\">\n",
              "                0.1916\n",
              "                \n",
              "                    &plusmn; 0.0237\n",
              "                \n",
              "            </td>\n",
              "            <td style=\"padding: 0 0.5em 0 0.5em; text-align: left; border: none;\">\n",
              "                USD/EUR\n",
              "            </td>\n",
              "        </tr>\n",
              "    \n",
              "        <tr style=\"background-color: hsl(120, 100.00%, 91.33%); border: none;\">\n",
              "            <td style=\"padding: 0 1em 0 0.5em; text-align: right; border: none;\">\n",
              "                0.1790\n",
              "                \n",
              "                    &plusmn; 0.0219\n",
              "                \n",
              "            </td>\n",
              "            <td style=\"padding: 0 0.5em 0 0.5em; text-align: left; border: none;\">\n",
              "                NG\n",
              "            </td>\n",
              "        </tr>\n",
              "    \n",
              "        <tr style=\"background-color: hsl(120, 100.00%, 94.96%); border: none;\">\n",
              "            <td style=\"padding: 0 1em 0 0.5em; text-align: right; border: none;\">\n",
              "                0.0824\n",
              "                \n",
              "                    &plusmn; 0.0064\n",
              "                \n",
              "            </td>\n",
              "            <td style=\"padding: 0 0.5em 0 0.5em; text-align: left; border: none;\">\n",
              "                ICSA\n",
              "            </td>\n",
              "        </tr>\n",
              "    \n",
              "        <tr style=\"background-color: hsl(120, 100.00%, 98.82%); border: none;\">\n",
              "            <td style=\"padding: 0 1em 0 0.5em; text-align: right; border: none;\">\n",
              "                0.0103\n",
              "                \n",
              "                    &plusmn; 0.0007\n",
              "                \n",
              "            </td>\n",
              "            <td style=\"padding: 0 0.5em 0 0.5em; text-align: left; border: none;\">\n",
              "                HG\n",
              "            </td>\n",
              "        </tr>\n",
              "    \n",
              "        <tr style=\"background-color: hsl(120, 100.00%, 99.17%); border: none;\">\n",
              "            <td style=\"padding: 0 1em 0 0.5em; text-align: right; border: none;\">\n",
              "                0.0063\n",
              "                \n",
              "                    &plusmn; 0.0005\n",
              "                \n",
              "            </td>\n",
              "            <td style=\"padding: 0 0.5em 0 0.5em; text-align: left; border: none;\">\n",
              "                NASDAQCOM\n",
              "            </td>\n",
              "        </tr>\n",
              "    \n",
              "        <tr style=\"background-color: hsl(120, 100.00%, 99.39%); border: none;\">\n",
              "            <td style=\"padding: 0 1em 0 0.5em; text-align: right; border: none;\">\n",
              "                0.0040\n",
              "                \n",
              "                    &plusmn; 0.0004\n",
              "                \n",
              "            </td>\n",
              "            <td style=\"padding: 0 0.5em 0 0.5em; text-align: left; border: none;\">\n",
              "                BAMLH0A0HYM2\n",
              "            </td>\n",
              "        </tr>\n",
              "    \n",
              "    \n",
              "    </tbody>\n",
              "</table>\n",
              "    \n",
              "\n",
              "    \n",
              "\n",
              "\n",
              "    \n",
              "\n",
              "    \n",
              "\n",
              "    \n",
              "\n",
              "    \n",
              "\n",
              "    \n",
              "\n",
              "    \n",
              "\n",
              "\n",
              "\n"
            ],
            "text/plain": [
              "<IPython.core.display.HTML object>"
            ]
          },
          "metadata": {
            "tags": []
          },
          "execution_count": 223
        }
      ]
    },
    {
      "cell_type": "code",
      "metadata": {
        "id": "EJcMKuoHplv4"
      },
      "source": [
        "df_x_m2 = df_x_m2.drop(\"HSN1F\", axis=1)"
      ],
      "execution_count": null,
      "outputs": []
    },
    {
      "cell_type": "code",
      "metadata": {
        "colab": {
          "base_uri": "https://localhost:8080/"
        },
        "id": "pSbgLOf0paca",
        "outputId": "dbe56188-a95e-414c-818d-f945ca3d2939"
      },
      "source": [
        "\n",
        "\n",
        "x_ = df_x_m2.drop('DFEDTAR', axis=1)\n",
        "y_ = df_x_m2['DFEDTAR']\n",
        "x_, y_\n",
        "\n",
        "from sklearn.model_selection import train_test_split\n",
        "\n",
        "x_train_, x_test_, y_train_, y_test_ = train_test_split(x_, y_, test_size=0.4, random_state=20, shuffle=True)\n",
        "x_val_, x_test_, y_val_, y_test_ = train_test_split(x_test_, y_test_, test_size=0.5, random_state=20,shuffle=True)\n",
        "\n",
        "x_train_.shape, x_test_.shape, x_val_.shape, y_train_.shape, y_test_.shape, y_val_.shape\n",
        "\n",
        "pipe_ = Pipeline([\n",
        "    ('preprocessing', make_pipeline(OrdinalEncoder())),\n",
        "    ('rf', RandomForestRegressor(n_estimators=100, random_state=20, n_jobs=-1)) \n",
        "])\n",
        "\n",
        "pipe_.fit(x_train_, y_train_)\n",
        "print('훈련 R^2: ', pipe_.score(x_train_, y_train_))\n",
        "print('검증 R^2: ', pipe_.score(x_val_, y_val_))\n",
        "print('TEST R^2: ', pipe_.score(x_test_, y_test_))\n",
        "\n",
        "print('\\n훈련 MAE: ', mean_absolute_error(pipe_.predict(x_train_), y_train_))\n",
        "print('검증 MAE: ', mean_absolute_error(pipe_.predict(x_val_), y_val_))\n",
        "print('TEST MAE: ', mean_absolute_error(pipe_.predict(x_test_), y_test_))\n",
        "\n",
        "print('\\n훈련 MAE: ', mean_squared_error(pipe_.predict(x_train_), y_train_))\n",
        "print('검증 MAE: ', mean_squared_error(pipe_.predict(x_val_), y_val_))\n",
        "print('TEST MAE: ', mean_squared_error(pipe_.predict(x_test_), y_test_))"
      ],
      "execution_count": 226,
      "outputs": [
        {
          "output_type": "stream",
          "text": [
            "훈련 R^2:  0.9997811585453342\n",
            "검증 R^2:  0.9958233168920836\n",
            "TEST R^2:  0.9964944273965559\n",
            "\n",
            "훈련 MAE:  0.007042124542124543\n",
            "검증 MAE:  0.02043956043956044\n",
            "TEST MAE:  0.025167785234899327\n",
            "\n",
            "훈련 MAE:  0.0008262489824989828\n",
            "검증 MAE:  0.014813049450549452\n",
            "TEST MAE:  0.012791496339231235\n"
          ],
          "name": "stdout"
        }
      ]
    },
    {
      "cell_type": "code",
      "metadata": {
        "colab": {
          "base_uri": "https://localhost:8080/",
          "height": 170
        },
        "id": "wMlWRKjFpfAx",
        "outputId": "5d24a7bb-e86d-471f-e0bc-eed1be2f4bd8"
      },
      "source": [
        "# permuter 정의\n",
        "permuter = PermutationImportance(\n",
        "    pipe_.named_steps['rf'], # model\n",
        "    scoring='neg_mean_absolute_error', # metric\n",
        "    n_iter=5, # 다른 random seed를 사용하여 5번 반복\n",
        "    random_state=20\n",
        ")\n",
        "\n",
        "# permuter 계산은 preprocessing 된 X_val을 사용합니다.\n",
        "x_val_transformed = pipe_.named_steps['preprocessing'].transform(x_val_)\n",
        "\n",
        "# 실제로 fit 의미보다는 스코어를 다시 계산하는 작업입니다\n",
        "permuter.fit(x_val_transformed, y_val_);\n",
        "\n",
        "feature_names = x_val_.columns.tolist()\n",
        "pd.Series(permuter.feature_importances_, feature_names).sort_values()\n",
        "\n",
        "# 특성별 score 확인\n",
        "eli5.show_weights(\n",
        "    permuter, \n",
        "    top=None, # top n 지정 가능, None 일 경우 모든 특성 \n",
        "    feature_names=feature_names # list 형식으로 넣어야 합니다\n",
        ")"
      ],
      "execution_count": 227,
      "outputs": [
        {
          "output_type": "execute_result",
          "data": {
            "text/html": [
              "\n",
              "    <style>\n",
              "    table.eli5-weights tr:hover {\n",
              "        filter: brightness(85%);\n",
              "    }\n",
              "</style>\n",
              "\n",
              "\n",
              "\n",
              "    \n",
              "\n",
              "    \n",
              "\n",
              "    \n",
              "\n",
              "    \n",
              "\n",
              "    \n",
              "\n",
              "    \n",
              "\n",
              "\n",
              "    \n",
              "\n",
              "    \n",
              "\n",
              "    \n",
              "\n",
              "    \n",
              "\n",
              "    \n",
              "\n",
              "    \n",
              "\n",
              "\n",
              "    \n",
              "\n",
              "    \n",
              "\n",
              "    \n",
              "\n",
              "    \n",
              "\n",
              "    \n",
              "        <table class=\"eli5-weights eli5-feature-importances\" style=\"border-collapse: collapse; border: none; margin-top: 0em; table-layout: auto;\">\n",
              "    <thead>\n",
              "    <tr style=\"border: none;\">\n",
              "        <th style=\"padding: 0 1em 0 0.5em; text-align: right; border: none;\">Weight</th>\n",
              "        <th style=\"padding: 0 0.5em 0 0.5em; text-align: left; border: none;\">Feature</th>\n",
              "    </tr>\n",
              "    </thead>\n",
              "    <tbody>\n",
              "    \n",
              "        <tr style=\"background-color: hsl(120, 100.00%, 80.00%); border: none;\">\n",
              "            <td style=\"padding: 0 1em 0 0.5em; text-align: right; border: none;\">\n",
              "                0.6821\n",
              "                \n",
              "                    &plusmn; 0.0437\n",
              "                \n",
              "            </td>\n",
              "            <td style=\"padding: 0 0.5em 0 0.5em; text-align: left; border: none;\">\n",
              "                HG\n",
              "            </td>\n",
              "        </tr>\n",
              "    \n",
              "        <tr style=\"background-color: hsl(120, 100.00%, 81.43%); border: none;\">\n",
              "            <td style=\"padding: 0 1em 0 0.5em; text-align: right; border: none;\">\n",
              "                0.6135\n",
              "                \n",
              "                    &plusmn; 0.0249\n",
              "                \n",
              "            </td>\n",
              "            <td style=\"padding: 0 0.5em 0 0.5em; text-align: left; border: none;\">\n",
              "                USD/KRW\n",
              "            </td>\n",
              "        </tr>\n",
              "    \n",
              "        <tr style=\"background-color: hsl(120, 100.00%, 84.43%); border: none;\">\n",
              "            <td style=\"padding: 0 1em 0 0.5em; text-align: right; border: none;\">\n",
              "                0.4769\n",
              "                \n",
              "                    &plusmn; 0.0252\n",
              "                \n",
              "            </td>\n",
              "            <td style=\"padding: 0 0.5em 0 0.5em; text-align: left; border: none;\">\n",
              "                USD/EUR\n",
              "            </td>\n",
              "        </tr>\n",
              "    \n",
              "        <tr style=\"background-color: hsl(120, 100.00%, 85.61%); border: none;\">\n",
              "            <td style=\"padding: 0 1em 0 0.5em; text-align: right; border: none;\">\n",
              "                0.4263\n",
              "                \n",
              "                    &plusmn; 0.0176\n",
              "                \n",
              "            </td>\n",
              "            <td style=\"padding: 0 0.5em 0 0.5em; text-align: left; border: none;\">\n",
              "                UMCSENT\n",
              "            </td>\n",
              "        </tr>\n",
              "    \n",
              "        <tr style=\"background-color: hsl(120, 100.00%, 86.44%); border: none;\">\n",
              "            <td style=\"padding: 0 1em 0 0.5em; text-align: right; border: none;\">\n",
              "                0.3917\n",
              "                \n",
              "                    &plusmn; 0.0139\n",
              "                \n",
              "            </td>\n",
              "            <td style=\"padding: 0 0.5em 0 0.5em; text-align: left; border: none;\">\n",
              "                NG\n",
              "            </td>\n",
              "        </tr>\n",
              "    \n",
              "        <tr style=\"background-color: hsl(120, 100.00%, 86.55%); border: none;\">\n",
              "            <td style=\"padding: 0 1em 0 0.5em; text-align: right; border: none;\">\n",
              "                0.3871\n",
              "                \n",
              "                    &plusmn; 0.0146\n",
              "                \n",
              "            </td>\n",
              "            <td style=\"padding: 0 0.5em 0 0.5em; text-align: left; border: none;\">\n",
              "                NASDAQCOM\n",
              "            </td>\n",
              "        </tr>\n",
              "    \n",
              "        <tr style=\"background-color: hsl(120, 100.00%, 91.86%); border: none;\">\n",
              "            <td style=\"padding: 0 1em 0 0.5em; text-align: right; border: none;\">\n",
              "                0.1888\n",
              "                \n",
              "                    &plusmn; 0.0089\n",
              "                \n",
              "            </td>\n",
              "            <td style=\"padding: 0 0.5em 0 0.5em; text-align: left; border: none;\">\n",
              "                ICSA\n",
              "            </td>\n",
              "        </tr>\n",
              "    \n",
              "        <tr style=\"background-color: hsl(120, 100.00%, 95.39%); border: none;\">\n",
              "            <td style=\"padding: 0 1em 0 0.5em; text-align: right; border: none;\">\n",
              "                0.0837\n",
              "                \n",
              "                    &plusmn; 0.0110\n",
              "                \n",
              "            </td>\n",
              "            <td style=\"padding: 0 0.5em 0 0.5em; text-align: left; border: none;\">\n",
              "                BAMLH0A0HYM2\n",
              "            </td>\n",
              "        </tr>\n",
              "    \n",
              "    \n",
              "    </tbody>\n",
              "</table>\n",
              "    \n",
              "\n",
              "    \n",
              "\n",
              "\n",
              "    \n",
              "\n",
              "    \n",
              "\n",
              "    \n",
              "\n",
              "    \n",
              "\n",
              "    \n",
              "\n",
              "    \n",
              "\n",
              "\n",
              "\n"
            ],
            "text/plain": [
              "<IPython.core.display.HTML object>"
            ]
          },
          "metadata": {
            "tags": []
          },
          "execution_count": 227
        }
      ]
    },
    {
      "cell_type": "markdown",
      "metadata": {
        "id": "N_uqrHG4qLJv"
      },
      "source": [
        "원자재 가격이 이렇게 큰 영향을 미친다고 ??"
      ]
    },
    {
      "cell_type": "markdown",
      "metadata": {
        "id": "9SQDKSWDgrQN"
      },
      "source": [
        "\n",
        "\n",
        "---\n",
        "\n"
      ]
    },
    {
      "cell_type": "code",
      "metadata": {
        "id": "oOu_py2kVMW0"
      },
      "source": [
        "# dpi(dots per inch) 수치를 조정해 이미지 화질을 조정 \n",
        "import matplotlib.pyplot as plt\n",
        "plt.rcParams['figure.dpi'] = 144"
      ],
      "execution_count": 41,
      "outputs": []
    },
    {
      "cell_type": "code",
      "metadata": {
        "id": "wxc0XDxMVI39"
      },
      "source": [
        "!pip install pdpbox\n",
        "from pdpbox.pdp import pdp_isolate, pdp_plot"
      ],
      "execution_count": null,
      "outputs": []
    },
    {
      "cell_type": "code",
      "metadata": {
        "id": "x-kkLgAnVqDg"
      },
      "source": [
        "feature = 'DFEDTAR'"
      ],
      "execution_count": 44,
      "outputs": []
    },
    {
      "cell_type": "code",
      "metadata": {
        "colab": {
          "base_uri": "https://localhost:8080/"
        },
        "id": "lNEzH91OQyIX",
        "outputId": "4bd49709-a537-459f-b207-7bad272df2c4"
      },
      "source": [
        "!pip install shap"
      ],
      "execution_count": 37,
      "outputs": [
        {
          "output_type": "stream",
          "text": [
            "Collecting shap\n",
            "\u001b[?25l  Downloading https://files.pythonhosted.org/packages/b9/f4/c5b95cddae15be80f8e58b25edceca105aa83c0b8c86a1edad24a6af80d3/shap-0.39.0.tar.gz (356kB)\n",
            "\r\u001b[K     |█                               | 10kB 24.8MB/s eta 0:00:01\r\u001b[K     |█▉                              | 20kB 15.8MB/s eta 0:00:01\r\u001b[K     |██▊                             | 30kB 14.1MB/s eta 0:00:01\r\u001b[K     |███▊                            | 40kB 12.4MB/s eta 0:00:01\r\u001b[K     |████▋                           | 51kB 8.5MB/s eta 0:00:01\r\u001b[K     |█████▌                          | 61kB 9.9MB/s eta 0:00:01\r\u001b[K     |██████▍                         | 71kB 9.2MB/s eta 0:00:01\r\u001b[K     |███████▍                        | 81kB 10.0MB/s eta 0:00:01\r\u001b[K     |████████▎                       | 92kB 9.5MB/s eta 0:00:01\r\u001b[K     |█████████▏                      | 102kB 8.2MB/s eta 0:00:01\r\u001b[K     |██████████▏                     | 112kB 8.2MB/s eta 0:00:01\r\u001b[K     |███████████                     | 122kB 8.2MB/s eta 0:00:01\r\u001b[K     |████████████                    | 133kB 8.2MB/s eta 0:00:01\r\u001b[K     |████████████▉                   | 143kB 8.2MB/s eta 0:00:01\r\u001b[K     |█████████████▉                  | 153kB 8.2MB/s eta 0:00:01\r\u001b[K     |██████████████▊                 | 163kB 8.2MB/s eta 0:00:01\r\u001b[K     |███████████████▋                | 174kB 8.2MB/s eta 0:00:01\r\u001b[K     |████████████████▋               | 184kB 8.2MB/s eta 0:00:01\r\u001b[K     |█████████████████▌              | 194kB 8.2MB/s eta 0:00:01\r\u001b[K     |██████████████████▍             | 204kB 8.2MB/s eta 0:00:01\r\u001b[K     |███████████████████▎            | 215kB 8.2MB/s eta 0:00:01\r\u001b[K     |████████████████████▎           | 225kB 8.2MB/s eta 0:00:01\r\u001b[K     |█████████████████████▏          | 235kB 8.2MB/s eta 0:00:01\r\u001b[K     |██████████████████████          | 245kB 8.2MB/s eta 0:00:01\r\u001b[K     |███████████████████████         | 256kB 8.2MB/s eta 0:00:01\r\u001b[K     |████████████████████████        | 266kB 8.2MB/s eta 0:00:01\r\u001b[K     |████████████████████████▉       | 276kB 8.2MB/s eta 0:00:01\r\u001b[K     |█████████████████████████▊      | 286kB 8.2MB/s eta 0:00:01\r\u001b[K     |██████████████████████████▊     | 296kB 8.2MB/s eta 0:00:01\r\u001b[K     |███████████████████████████▋    | 307kB 8.2MB/s eta 0:00:01\r\u001b[K     |████████████████████████████▌   | 317kB 8.2MB/s eta 0:00:01\r\u001b[K     |█████████████████████████████▍  | 327kB 8.2MB/s eta 0:00:01\r\u001b[K     |██████████████████████████████▍ | 337kB 8.2MB/s eta 0:00:01\r\u001b[K     |███████████████████████████████▎| 348kB 8.2MB/s eta 0:00:01\r\u001b[K     |████████████████████████████████| 358kB 8.2MB/s \n",
            "\u001b[?25hRequirement already satisfied: numpy in /usr/local/lib/python3.7/dist-packages (from shap) (1.19.5)\n",
            "Requirement already satisfied: scipy in /usr/local/lib/python3.7/dist-packages (from shap) (1.4.1)\n",
            "Requirement already satisfied: scikit-learn in /usr/local/lib/python3.7/dist-packages (from shap) (0.22.2.post1)\n",
            "Requirement already satisfied: pandas in /usr/local/lib/python3.7/dist-packages (from shap) (1.1.5)\n",
            "Requirement already satisfied: tqdm>4.25.0 in /usr/local/lib/python3.7/dist-packages (from shap) (4.41.1)\n",
            "Collecting slicer==0.0.7\n",
            "  Downloading https://files.pythonhosted.org/packages/78/c2/b3f55dfdb8af9812fdb9baf70cacf3b9e82e505b2bd4324d588888b81202/slicer-0.0.7-py3-none-any.whl\n",
            "Requirement already satisfied: numba in /usr/local/lib/python3.7/dist-packages (from shap) (0.51.2)\n",
            "Requirement already satisfied: cloudpickle in /usr/local/lib/python3.7/dist-packages (from shap) (1.3.0)\n",
            "Requirement already satisfied: joblib>=0.11 in /usr/local/lib/python3.7/dist-packages (from scikit-learn->shap) (1.0.1)\n",
            "Requirement already satisfied: pytz>=2017.2 in /usr/local/lib/python3.7/dist-packages (from pandas->shap) (2018.9)\n",
            "Requirement already satisfied: python-dateutil>=2.7.3 in /usr/local/lib/python3.7/dist-packages (from pandas->shap) (2.8.1)\n",
            "Requirement already satisfied: llvmlite<0.35,>=0.34.0.dev0 in /usr/local/lib/python3.7/dist-packages (from numba->shap) (0.34.0)\n",
            "Requirement already satisfied: setuptools in /usr/local/lib/python3.7/dist-packages (from numba->shap) (57.0.0)\n",
            "Requirement already satisfied: six>=1.5 in /usr/local/lib/python3.7/dist-packages (from python-dateutil>=2.7.3->pandas->shap) (1.15.0)\n",
            "Building wheels for collected packages: shap\n",
            "  Building wheel for shap (setup.py) ... \u001b[?25l\u001b[?25hdone\n",
            "  Created wheel for shap: filename=shap-0.39.0-cp37-cp37m-linux_x86_64.whl size=491627 sha256=084c2c08b760af2ebfcd11192bfd738f2bbe54096291961edfb9f7affd35d353\n",
            "  Stored in directory: /root/.cache/pip/wheels/15/27/f5/a8ab9da52fd159aae6477b5ede6eaaec69fd130fa0fa59f283\n",
            "Successfully built shap\n",
            "Installing collected packages: slicer, shap\n",
            "Successfully installed shap-0.39.0 slicer-0.0.7\n"
          ],
          "name": "stdout"
        }
      ]
    },
    {
      "cell_type": "code",
      "metadata": {
        "colab": {
          "base_uri": "https://localhost:8080/",
          "height": 80
        },
        "id": "iGINmoRNrHCt",
        "outputId": "997eaf16-3634-4ffd-a266-f51464b39dac"
      },
      "source": [
        "row = x_test_.iloc[[1]]  # 중첩 brackets을 사용하면 결과물이 DataFrame입니다\n",
        "row"
      ],
      "execution_count": 236,
      "outputs": [
        {
          "output_type": "execute_result",
          "data": {
            "text/html": [
              "<div>\n",
              "<style scoped>\n",
              "    .dataframe tbody tr th:only-of-type {\n",
              "        vertical-align: middle;\n",
              "    }\n",
              "\n",
              "    .dataframe tbody tr th {\n",
              "        vertical-align: top;\n",
              "    }\n",
              "\n",
              "    .dataframe thead th {\n",
              "        text-align: right;\n",
              "    }\n",
              "</style>\n",
              "<table border=\"1\" class=\"dataframe\">\n",
              "  <thead>\n",
              "    <tr style=\"text-align: right;\">\n",
              "      <th></th>\n",
              "      <th>NASDAQCOM</th>\n",
              "      <th>BAMLH0A0HYM2</th>\n",
              "      <th>UMCSENT</th>\n",
              "      <th>ICSA</th>\n",
              "      <th>NG</th>\n",
              "      <th>HG</th>\n",
              "      <th>USD/KRW</th>\n",
              "      <th>USD/EUR</th>\n",
              "    </tr>\n",
              "  </thead>\n",
              "  <tbody>\n",
              "    <tr>\n",
              "      <th>6031</th>\n",
              "      <td>4997.46</td>\n",
              "      <td>5.13</td>\n",
              "      <td>93.1</td>\n",
              "      <td>292000.0</td>\n",
              "      <td>2.716</td>\n",
              "      <td>2.3805</td>\n",
              "      <td>1134.8</td>\n",
              "      <td>0.9081</td>\n",
              "    </tr>\n",
              "  </tbody>\n",
              "</table>\n",
              "</div>"
            ],
            "text/plain": [
              "      NASDAQCOM  BAMLH0A0HYM2  UMCSENT  ...      HG  USD/KRW  USD/EUR\n",
              "6031    4997.46          5.13     93.1  ...  2.3805   1134.8   0.9081\n",
              "\n",
              "[1 rows x 8 columns]"
            ]
          },
          "metadata": {
            "tags": []
          },
          "execution_count": 236
        }
      ]
    },
    {
      "cell_type": "code",
      "metadata": {
        "colab": {
          "base_uri": "https://localhost:8080/"
        },
        "id": "nOCNq-Weq_Do",
        "outputId": "b9a2b1be-6815-4d8e-a14d-bb76e15dae65"
      },
      "source": [
        "y_test_.iloc[[1]]"
      ],
      "execution_count": 232,
      "outputs": [
        {
          "output_type": "execute_result",
          "data": {
            "text/plain": [
              "6031    0.25\n",
              "Name: DFEDTAR, dtype: float64"
            ]
          },
          "metadata": {
            "tags": []
          },
          "execution_count": 232
        }
      ]
    },
    {
      "cell_type": "code",
      "metadata": {
        "colab": {
          "base_uri": "https://localhost:8080/"
        },
        "id": "eU3qwshqrCif",
        "outputId": "ff32c720-e5f3-439f-817d-18105f9224da"
      },
      "source": [
        "# 모델 예측값\n",
        "pipe_.predict(row)"
      ],
      "execution_count": 234,
      "outputs": [
        {
          "output_type": "execute_result",
          "data": {
            "text/plain": [
              "array([0.2575])"
            ]
          },
          "metadata": {
            "tags": []
          },
          "execution_count": 234
        }
      ]
    },
    {
      "cell_type": "code",
      "metadata": {
        "colab": {
          "base_uri": "https://localhost:8080/"
        },
        "id": "Lf9A9Hq8UEfv",
        "outputId": "ccfd7fd8-1e12-451c-c3a2-41b088ade2b8"
      },
      "source": [
        "explainer"
      ],
      "execution_count": 213,
      "outputs": [
        {
          "output_type": "execute_result",
          "data": {
            "text/plain": [
              "<shap.explainers._tree.Tree at 0x7ff3d7262950>"
            ]
          },
          "metadata": {
            "tags": []
          },
          "execution_count": 213
        }
      ]
    },
    {
      "cell_type": "code",
      "metadata": {
        "id": "gyYKngcFn9K5"
      },
      "source": [
        ""
      ],
      "execution_count": null,
      "outputs": []
    }
  ]
}