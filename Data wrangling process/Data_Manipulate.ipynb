{
  "nbformat": 4,
  "nbformat_minor": 0,
  "metadata": {
    "colab": {
      "name": "Untitled39.ipynb",
      "provenance": []
    },
    "kernelspec": {
      "name": "python3",
      "display_name": "Python 3"
    },
    "language_info": {
      "name": "python"
    },
    "accelerator": "GPU"
  },
  "cells": [
    {
      "cell_type": "markdown",
      "metadata": {
        "id": "VuA-Zmq5i4Ow"
      },
      "source": [
        "# **Import**"
      ]
    },
    {
      "cell_type": "code",
      "metadata": {
        "colab": {
          "base_uri": "https://localhost:8080/"
        },
        "id": "iZE72-t_iyNm",
        "outputId": "f3541406-a671-4f69-cbf1-77fa18312142"
      },
      "source": [
        "from google.colab import drive\n",
        "drive.mount('/content/drive')"
      ],
      "execution_count": 64,
      "outputs": [
        {
          "output_type": "stream",
          "text": [
            "Drive already mounted at /content/drive; to attempt to forcibly remount, call drive.mount(\"/content/drive\", force_remount=True).\n"
          ],
          "name": "stdout"
        }
      ]
    },
    {
      "cell_type": "code",
      "metadata": {
        "id": "Li21-v0xizOv"
      },
      "source": [
        "import pandas as pd\n",
        "import numpy as np\n",
        "import io\n",
        "import sklearn \n",
        "from datetime import datetime, timedelta"
      ],
      "execution_count": 65,
      "outputs": []
    },
    {
      "cell_type": "markdown",
      "metadata": {
        "id": "5kQ-of28jMYG"
      },
      "source": [
        "# **Data import AND revise**"
      ]
    },
    {
      "cell_type": "code",
      "metadata": {
        "colab": {
          "base_uri": "https://localhost:8080/"
        },
        "id": "ULRTElC5jIFG",
        "outputId": "8d3321f9-5646-4370-99a5-519285438d11"
      },
      "source": [
        "i_rate = pd.read_excel('/content/drive/MyDrive/DATA/1. 기준금리 1999~.xlsx')\n",
        "lead_indicators = pd.read_excel('/content/drive/MyDrive/DATA/2. 경기선행지표.xlsx')\n",
        "dol_mat = pd.read_excel('/content/drive/MyDrive/DATA/3. 원자제:달러:통화량.xlsx')\n",
        "\n",
        "#형태 확인\n",
        "i_rate.shape , lead_indicators.shape , dol_mat.shape"
      ],
      "execution_count": 66,
      "outputs": [
        {
          "output_type": "execute_result",
          "data": {
            "text/plain": [
              "((8190, 2), (7097, 8), (5539, 8))"
            ]
          },
          "metadata": {
            "tags": []
          },
          "execution_count": 66
        }
      ]
    },
    {
      "cell_type": "markdown",
      "metadata": {
        "id": "CyvxNZHBmYjw"
      },
      "source": [
        "  \n",
        "*   총 8190개의 미국 기준금리 데이터 , 7097개의 경기 선행지표 데이터 , 달러화 기준 데이터 및 원자재 데이터를 불러왔습니다. \n",
        "*   시계열 기준으로 달러화 및 원자재는 장이 열릴때 수집 되었고 , 금리는 매일 수집되어서 차이가 있습니다. 결측치를 보간하면서 합쳐주도록 하겠습니다.\n",
        "* 기준은 기준금리로 하겠습니다. = target\n",
        "\n",
        "\n"
      ]
    },
    {
      "cell_type": "code",
      "metadata": {
        "colab": {
          "base_uri": "https://localhost:8080/"
        },
        "id": "O_MAAlNy_86P",
        "outputId": "953d324b-eabd-48b2-f0ef-e9988dbd0f56"
      },
      "source": [
        "print(i_rate.head())\n",
        "print(i_rate.info())"
      ],
      "execution_count": 67,
      "outputs": [
        {
          "output_type": "stream",
          "text": [
            "        DATE  DFEDTAR\n",
            "0 1999-01-01     4.75\n",
            "1 1999-01-02     4.75\n",
            "2 1999-01-03     4.75\n",
            "3 1999-01-04     4.75\n",
            "4 1999-01-05     4.75\n",
            "<class 'pandas.core.frame.DataFrame'>\n",
            "RangeIndex: 8190 entries, 0 to 8189\n",
            "Data columns (total 2 columns):\n",
            " #   Column   Non-Null Count  Dtype         \n",
            "---  ------   --------------  -----         \n",
            " 0   DATE     8190 non-null   datetime64[ns]\n",
            " 1   DFEDTAR  8190 non-null   float64       \n",
            "dtypes: datetime64[ns](1), float64(1)\n",
            "memory usage: 128.1 KB\n",
            "None\n"
          ],
          "name": "stdout"
        }
      ]
    },
    {
      "cell_type": "code",
      "metadata": {
        "colab": {
          "base_uri": "https://localhost:8080/"
        },
        "id": "F8DNZAWVADkZ",
        "outputId": "36368ad1-0a1d-4cf3-a33f-effd00c72ada"
      },
      "source": [
        "print(lead_indicators.head())\n",
        "print(lead_indicators.info())"
      ],
      "execution_count": 68,
      "outputs": [
        {
          "output_type": "stream",
          "text": [
            "        DATE  NASDAQCOM  BAMLH0A0HYM2  HSN1F  UMCSENT  UNRATE      M2      ICSA\n",
            "0 1999-01-01        NaN           NaN    875    103.9     4.3     NaN       NaN\n",
            "1 1999-01-02        NaN           NaN    875    103.9     4.3     NaN  331000.0\n",
            "2 1999-01-04    2208.05          5.63    875    103.9     4.3  4395.0  331000.0\n",
            "3 1999-01-05    2251.27          5.57    875    103.9     4.3  4395.0  331000.0\n",
            "4 1999-01-06    2320.86          5.56    875    103.9     4.3  4395.0  331000.0\n",
            "<class 'pandas.core.frame.DataFrame'>\n",
            "RangeIndex: 7097 entries, 0 to 7096\n",
            "Data columns (total 8 columns):\n",
            " #   Column        Non-Null Count  Dtype         \n",
            "---  ------        --------------  -----         \n",
            " 0   DATE          7097 non-null   datetime64[ns]\n",
            " 1   NASDAQCOM     7095 non-null   float64       \n",
            " 2   BAMLH0A0HYM2  7095 non-null   float64       \n",
            " 3   HSN1F         7097 non-null   int64         \n",
            " 4   UMCSENT       7097 non-null   float64       \n",
            " 5   UNRATE        7097 non-null   float64       \n",
            " 6   M2            7095 non-null   float64       \n",
            " 7   ICSA          7096 non-null   float64       \n",
            "dtypes: datetime64[ns](1), float64(6), int64(1)\n",
            "memory usage: 443.7 KB\n",
            "None\n"
          ],
          "name": "stdout"
        }
      ]
    },
    {
      "cell_type": "code",
      "metadata": {
        "colab": {
          "base_uri": "https://localhost:8080/"
        },
        "id": "kW5R1eY0AGF0",
        "outputId": "643d50f7-2d62-4b0a-fdc2-6c41ae8090a9"
      },
      "source": [
        "print(dol_mat.head())\n",
        "print(dol_mat.info())"
      ],
      "execution_count": 69,
      "outputs": [
        {
          "output_type": "stream",
          "text": [
            "        Date     NG  ZG     ZI     HG  USD/KRW  USD/EUR  USD/CNY\n",
            "0 1999-01-04  2.071 NaN  4.902  0.644  1186.25   0.8455   8.2793\n",
            "1 1999-01-05  1.975 NaN    NaN  0.639  1164.50   0.8501   8.2795\n",
            "2 1999-01-06  1.931 NaN    NaN  0.645  1157.50   0.8608   8.2795\n",
            "3 1999-01-07  1.836 NaN  5.204  0.645  1149.50   0.8541   8.2798\n",
            "4 1999-01-08  1.830 NaN  5.254  0.653  1172.50   0.8639   8.2796\n",
            "<class 'pandas.core.frame.DataFrame'>\n",
            "RangeIndex: 5539 entries, 0 to 5538\n",
            "Data columns (total 8 columns):\n",
            " #   Column   Non-Null Count  Dtype         \n",
            "---  ------   --------------  -----         \n",
            " 0   Date     5539 non-null   datetime64[ns]\n",
            " 1   NG       5352 non-null   float64       \n",
            " 2   ZG       4119 non-null   float64       \n",
            " 3   ZI       3801 non-null   float64       \n",
            " 4   HG       5286 non-null   float64       \n",
            " 5   USD/KRW  5539 non-null   float64       \n",
            " 6   USD/EUR  5539 non-null   float64       \n",
            " 7   USD/CNY  5533 non-null   float64       \n",
            "dtypes: datetime64[ns](1), float64(7)\n",
            "memory usage: 346.3 KB\n",
            "None\n"
          ],
          "name": "stdout"
        }
      ]
    },
    {
      "cell_type": "code",
      "metadata": {
        "colab": {
          "base_uri": "https://localhost:8080/",
          "height": 419
        },
        "id": "Dp7K0iCNJNXB",
        "outputId": "84a61883-41bb-4bad-93b4-cfc69f77e6d0"
      },
      "source": [
        "#dol_mat의 열이름 변경 \n",
        "dol_mat = dol_mat.rename(columns={'Date':'DATE'})\n",
        "dol_mat"
      ],
      "execution_count": 70,
      "outputs": [
        {
          "output_type": "execute_result",
          "data": {
            "text/html": [
              "<div>\n",
              "<style scoped>\n",
              "    .dataframe tbody tr th:only-of-type {\n",
              "        vertical-align: middle;\n",
              "    }\n",
              "\n",
              "    .dataframe tbody tr th {\n",
              "        vertical-align: top;\n",
              "    }\n",
              "\n",
              "    .dataframe thead th {\n",
              "        text-align: right;\n",
              "    }\n",
              "</style>\n",
              "<table border=\"1\" class=\"dataframe\">\n",
              "  <thead>\n",
              "    <tr style=\"text-align: right;\">\n",
              "      <th></th>\n",
              "      <th>DATE</th>\n",
              "      <th>NG</th>\n",
              "      <th>ZG</th>\n",
              "      <th>ZI</th>\n",
              "      <th>HG</th>\n",
              "      <th>USD/KRW</th>\n",
              "      <th>USD/EUR</th>\n",
              "      <th>USD/CNY</th>\n",
              "    </tr>\n",
              "  </thead>\n",
              "  <tbody>\n",
              "    <tr>\n",
              "      <th>0</th>\n",
              "      <td>1999-01-04</td>\n",
              "      <td>2.071</td>\n",
              "      <td>NaN</td>\n",
              "      <td>4.902</td>\n",
              "      <td>0.6440</td>\n",
              "      <td>1186.25</td>\n",
              "      <td>0.8455</td>\n",
              "      <td>8.2793</td>\n",
              "    </tr>\n",
              "    <tr>\n",
              "      <th>1</th>\n",
              "      <td>1999-01-05</td>\n",
              "      <td>1.975</td>\n",
              "      <td>NaN</td>\n",
              "      <td>NaN</td>\n",
              "      <td>0.6390</td>\n",
              "      <td>1164.50</td>\n",
              "      <td>0.8501</td>\n",
              "      <td>8.2795</td>\n",
              "    </tr>\n",
              "    <tr>\n",
              "      <th>2</th>\n",
              "      <td>1999-01-06</td>\n",
              "      <td>1.931</td>\n",
              "      <td>NaN</td>\n",
              "      <td>NaN</td>\n",
              "      <td>0.6450</td>\n",
              "      <td>1157.50</td>\n",
              "      <td>0.8608</td>\n",
              "      <td>8.2795</td>\n",
              "    </tr>\n",
              "    <tr>\n",
              "      <th>3</th>\n",
              "      <td>1999-01-07</td>\n",
              "      <td>1.836</td>\n",
              "      <td>NaN</td>\n",
              "      <td>5.204</td>\n",
              "      <td>0.6450</td>\n",
              "      <td>1149.50</td>\n",
              "      <td>0.8541</td>\n",
              "      <td>8.2798</td>\n",
              "    </tr>\n",
              "    <tr>\n",
              "      <th>4</th>\n",
              "      <td>1999-01-08</td>\n",
              "      <td>1.830</td>\n",
              "      <td>NaN</td>\n",
              "      <td>5.254</td>\n",
              "      <td>0.6530</td>\n",
              "      <td>1172.50</td>\n",
              "      <td>0.8639</td>\n",
              "      <td>8.2796</td>\n",
              "    </tr>\n",
              "    <tr>\n",
              "      <th>...</th>\n",
              "      <td>...</td>\n",
              "      <td>...</td>\n",
              "      <td>...</td>\n",
              "      <td>...</td>\n",
              "      <td>...</td>\n",
              "      <td>...</td>\n",
              "      <td>...</td>\n",
              "      <td>...</td>\n",
              "    </tr>\n",
              "    <tr>\n",
              "      <th>5534</th>\n",
              "      <td>2021-05-31</td>\n",
              "      <td>NaN</td>\n",
              "      <td>NaN</td>\n",
              "      <td>NaN</td>\n",
              "      <td>NaN</td>\n",
              "      <td>1106.58</td>\n",
              "      <td>0.8177</td>\n",
              "      <td>6.3688</td>\n",
              "    </tr>\n",
              "    <tr>\n",
              "      <th>5535</th>\n",
              "      <td>2021-06-01</td>\n",
              "      <td>3.104</td>\n",
              "      <td>1905.0</td>\n",
              "      <td>28.102</td>\n",
              "      <td>4.6535</td>\n",
              "      <td>1108.38</td>\n",
              "      <td>0.8187</td>\n",
              "      <td>6.3796</td>\n",
              "    </tr>\n",
              "    <tr>\n",
              "      <th>5536</th>\n",
              "      <td>2021-06-02</td>\n",
              "      <td>3.075</td>\n",
              "      <td>1909.9</td>\n",
              "      <td>28.204</td>\n",
              "      <td>4.5915</td>\n",
              "      <td>1110.92</td>\n",
              "      <td>0.8188</td>\n",
              "      <td>6.3805</td>\n",
              "    </tr>\n",
              "    <tr>\n",
              "      <th>5537</th>\n",
              "      <td>2021-06-03</td>\n",
              "      <td>3.041</td>\n",
              "      <td>1873.3</td>\n",
              "      <td>27.477</td>\n",
              "      <td>4.4630</td>\n",
              "      <td>1116.46</td>\n",
              "      <td>0.8245</td>\n",
              "      <td>6.4036</td>\n",
              "    </tr>\n",
              "    <tr>\n",
              "      <th>5538</th>\n",
              "      <td>2021-06-04</td>\n",
              "      <td>NaN</td>\n",
              "      <td>NaN</td>\n",
              "      <td>NaN</td>\n",
              "      <td>NaN</td>\n",
              "      <td>1110.52</td>\n",
              "      <td>0.8218</td>\n",
              "      <td>6.3945</td>\n",
              "    </tr>\n",
              "  </tbody>\n",
              "</table>\n",
              "<p>5539 rows × 8 columns</p>\n",
              "</div>"
            ],
            "text/plain": [
              "           DATE     NG      ZG      ZI      HG  USD/KRW  USD/EUR  USD/CNY\n",
              "0    1999-01-04  2.071     NaN   4.902  0.6440  1186.25   0.8455   8.2793\n",
              "1    1999-01-05  1.975     NaN     NaN  0.6390  1164.50   0.8501   8.2795\n",
              "2    1999-01-06  1.931     NaN     NaN  0.6450  1157.50   0.8608   8.2795\n",
              "3    1999-01-07  1.836     NaN   5.204  0.6450  1149.50   0.8541   8.2798\n",
              "4    1999-01-08  1.830     NaN   5.254  0.6530  1172.50   0.8639   8.2796\n",
              "...         ...    ...     ...     ...     ...      ...      ...      ...\n",
              "5534 2021-05-31    NaN     NaN     NaN     NaN  1106.58   0.8177   6.3688\n",
              "5535 2021-06-01  3.104  1905.0  28.102  4.6535  1108.38   0.8187   6.3796\n",
              "5536 2021-06-02  3.075  1909.9  28.204  4.5915  1110.92   0.8188   6.3805\n",
              "5537 2021-06-03  3.041  1873.3  27.477  4.4630  1116.46   0.8245   6.4036\n",
              "5538 2021-06-04    NaN     NaN     NaN     NaN  1110.52   0.8218   6.3945\n",
              "\n",
              "[5539 rows x 8 columns]"
            ]
          },
          "metadata": {
            "tags": []
          },
          "execution_count": 70
        }
      ]
    },
    {
      "cell_type": "code",
      "metadata": {
        "colab": {
          "base_uri": "https://localhost:8080/"
        },
        "id": "H8X3-5IuOoTi",
        "outputId": "cabe40fe-9ada-4654-99b1-c8e0479018e9"
      },
      "source": [
        "#DATE 인덱스화 \n",
        "dol_mat = dol_mat.set_index(\"DATE\")\n",
        "dol_mat.head() , dol_mat.shape"
      ],
      "execution_count": 71,
      "outputs": [
        {
          "output_type": "execute_result",
          "data": {
            "text/plain": [
              "(               NG  ZG     ZI     HG  USD/KRW  USD/EUR  USD/CNY\n",
              " DATE                                                          \n",
              " 1999-01-04  2.071 NaN  4.902  0.644  1186.25   0.8455   8.2793\n",
              " 1999-01-05  1.975 NaN    NaN  0.639  1164.50   0.8501   8.2795\n",
              " 1999-01-06  1.931 NaN    NaN  0.645  1157.50   0.8608   8.2795\n",
              " 1999-01-07  1.836 NaN  5.204  0.645  1149.50   0.8541   8.2798\n",
              " 1999-01-08  1.830 NaN  5.254  0.653  1172.50   0.8639   8.2796, (5539, 7))"
            ]
          },
          "metadata": {
            "tags": []
          },
          "execution_count": 71
        }
      ]
    },
    {
      "cell_type": "markdown",
      "metadata": {
        "id": "AlnpeF02P4SH"
      },
      "source": [
        "#**데이터 합치기!**"
      ]
    },
    {
      "cell_type": "code",
      "metadata": {
        "colab": {
          "base_uri": "https://localhost:8080/"
        },
        "id": "C1hudJPHDd_q",
        "outputId": "3103039a-d308-4a6c-d018-870583b20a47"
      },
      "source": [
        "df_merge_ = pd.merge(i_rate, lead_indicators, on=\"DATE\", how=\"outer\") #irate 8000개 기준 합치기 \n",
        "df_merge_.head(), df_merge_.shape"
      ],
      "execution_count": 73,
      "outputs": [
        {
          "output_type": "execute_result",
          "data": {
            "text/plain": [
              "(        DATE  DFEDTAR  NASDAQCOM  ...  UNRATE      M2      ICSA\n",
              " 0 1999-01-01     4.75        NaN  ...     4.3     NaN       NaN\n",
              " 1 1999-01-02     4.75        NaN  ...     4.3     NaN  331000.0\n",
              " 2 1999-01-03     4.75        NaN  ...     NaN     NaN       NaN\n",
              " 3 1999-01-04     4.75    2208.05  ...     4.3  4395.0  331000.0\n",
              " 4 1999-01-05     4.75    2251.27  ...     4.3  4395.0  331000.0\n",
              " \n",
              " [5 rows x 9 columns], (8190, 9))"
            ]
          },
          "metadata": {
            "tags": []
          },
          "execution_count": 73
        }
      ]
    },
    {
      "cell_type": "markdown",
      "metadata": {
        "id": "W9msFZn-LCgS"
      },
      "source": [
        "성공적으로 변경된것 같다 이제 나머지 데이터 프레임도 합쳐준다"
      ]
    },
    {
      "cell_type": "code",
      "metadata": {
        "colab": {
          "base_uri": "https://localhost:8080/"
        },
        "id": "j2d6D1VBJE-e",
        "outputId": "7f500755-61f8-43dc-948e-79c32b17669e"
      },
      "source": [
        "df_ = pd.merge(df_merge_, dol_mat, on=\"DATE\", how=\"outer\")\n",
        "df_.head(), df_.shape"
      ],
      "execution_count": 78,
      "outputs": [
        {
          "output_type": "execute_result",
          "data": {
            "text/plain": [
              "(        DATE  DFEDTAR  NASDAQCOM  ...  USD/KRW  USD/EUR  USD/CNY\n",
              " 0 1999-01-01     4.75        NaN  ...      NaN      NaN      NaN\n",
              " 1 1999-01-02     4.75        NaN  ...      NaN      NaN      NaN\n",
              " 2 1999-01-03     4.75        NaN  ...      NaN      NaN      NaN\n",
              " 3 1999-01-04     4.75    2208.05  ...  1186.25   0.8455   8.2793\n",
              " 4 1999-01-05     4.75    2251.27  ...  1164.50   0.8501   8.2795\n",
              " \n",
              " [5 rows x 16 columns], (8191, 16))"
            ]
          },
          "metadata": {
            "tags": []
          },
          "execution_count": 78
        }
      ]
    },
    {
      "cell_type": "markdown",
      "metadata": {
        "id": "PkaP_rqMX1xq"
      },
      "source": [
        "성공적으로 합쳐졌으니 결측치를 보간해보자 "
      ]
    },
    {
      "cell_type": "code",
      "metadata": {
        "colab": {
          "base_uri": "https://localhost:8080/"
        },
        "id": "gEtgge33LMDR",
        "outputId": "e4147d19-6b74-49fb-d612-fcd0d901c844"
      },
      "source": [
        "df_.isnull().sum()"
      ],
      "execution_count": 79,
      "outputs": [
        {
          "output_type": "execute_result",
          "data": {
            "text/plain": [
              "DATE               0\n",
              "DFEDTAR            1\n",
              "NASDAQCOM       1096\n",
              "BAMLH0A0HYM2    1096\n",
              "HSN1F           1094\n",
              "UMCSENT         1094\n",
              "UNRATE          1094\n",
              "M2              1096\n",
              "ICSA            1095\n",
              "NG              2839\n",
              "ZG              4072\n",
              "ZI              4390\n",
              "HG              2905\n",
              "USD/KRW         2652\n",
              "USD/EUR         2652\n",
              "USD/CNY         2658\n",
              "dtype: int64"
            ]
          },
          "metadata": {
            "tags": []
          },
          "execution_count": 79
        }
      ]
    },
    {
      "cell_type": "markdown",
      "metadata": {
        "id": "KtVsD1s7X9nI"
      },
      "source": [
        "시계열 데이터니까 지우는것 대신 앞의 값으로 채워주도록 한다. "
      ]
    },
    {
      "cell_type": "code",
      "metadata": {
        "colab": {
          "base_uri": "https://localhost:8080/",
          "height": 377
        },
        "id": "0jJGJxINX7if",
        "outputId": "eed42536-4924-4ef3-bf04-5091627fce50"
      },
      "source": [
        "df_ = df_.fillna(method='ffill')\n",
        "df_.head()"
      ],
      "execution_count": 81,
      "outputs": [
        {
          "output_type": "execute_result",
          "data": {
            "text/html": [
              "<div>\n",
              "<style scoped>\n",
              "    .dataframe tbody tr th:only-of-type {\n",
              "        vertical-align: middle;\n",
              "    }\n",
              "\n",
              "    .dataframe tbody tr th {\n",
              "        vertical-align: top;\n",
              "    }\n",
              "\n",
              "    .dataframe thead th {\n",
              "        text-align: right;\n",
              "    }\n",
              "</style>\n",
              "<table border=\"1\" class=\"dataframe\">\n",
              "  <thead>\n",
              "    <tr style=\"text-align: right;\">\n",
              "      <th></th>\n",
              "      <th>DATE</th>\n",
              "      <th>DFEDTAR</th>\n",
              "      <th>NASDAQCOM</th>\n",
              "      <th>BAMLH0A0HYM2</th>\n",
              "      <th>HSN1F</th>\n",
              "      <th>UMCSENT</th>\n",
              "      <th>UNRATE</th>\n",
              "      <th>M2</th>\n",
              "      <th>ICSA</th>\n",
              "      <th>NG</th>\n",
              "      <th>ZG</th>\n",
              "      <th>ZI</th>\n",
              "      <th>HG</th>\n",
              "      <th>USD/KRW</th>\n",
              "      <th>USD/EUR</th>\n",
              "      <th>USD/CNY</th>\n",
              "    </tr>\n",
              "  </thead>\n",
              "  <tbody>\n",
              "    <tr>\n",
              "      <th>0</th>\n",
              "      <td>1999-01-01</td>\n",
              "      <td>4.75</td>\n",
              "      <td>NaN</td>\n",
              "      <td>NaN</td>\n",
              "      <td>875.0</td>\n",
              "      <td>103.9</td>\n",
              "      <td>4.3</td>\n",
              "      <td>NaN</td>\n",
              "      <td>NaN</td>\n",
              "      <td>NaN</td>\n",
              "      <td>NaN</td>\n",
              "      <td>NaN</td>\n",
              "      <td>NaN</td>\n",
              "      <td>NaN</td>\n",
              "      <td>NaN</td>\n",
              "      <td>NaN</td>\n",
              "    </tr>\n",
              "    <tr>\n",
              "      <th>1</th>\n",
              "      <td>1999-01-02</td>\n",
              "      <td>4.75</td>\n",
              "      <td>NaN</td>\n",
              "      <td>NaN</td>\n",
              "      <td>875.0</td>\n",
              "      <td>103.9</td>\n",
              "      <td>4.3</td>\n",
              "      <td>NaN</td>\n",
              "      <td>331000.0</td>\n",
              "      <td>NaN</td>\n",
              "      <td>NaN</td>\n",
              "      <td>NaN</td>\n",
              "      <td>NaN</td>\n",
              "      <td>NaN</td>\n",
              "      <td>NaN</td>\n",
              "      <td>NaN</td>\n",
              "    </tr>\n",
              "    <tr>\n",
              "      <th>2</th>\n",
              "      <td>1999-01-03</td>\n",
              "      <td>4.75</td>\n",
              "      <td>NaN</td>\n",
              "      <td>NaN</td>\n",
              "      <td>875.0</td>\n",
              "      <td>103.9</td>\n",
              "      <td>4.3</td>\n",
              "      <td>NaN</td>\n",
              "      <td>331000.0</td>\n",
              "      <td>NaN</td>\n",
              "      <td>NaN</td>\n",
              "      <td>NaN</td>\n",
              "      <td>NaN</td>\n",
              "      <td>NaN</td>\n",
              "      <td>NaN</td>\n",
              "      <td>NaN</td>\n",
              "    </tr>\n",
              "    <tr>\n",
              "      <th>3</th>\n",
              "      <td>1999-01-04</td>\n",
              "      <td>4.75</td>\n",
              "      <td>2208.05</td>\n",
              "      <td>5.63</td>\n",
              "      <td>875.0</td>\n",
              "      <td>103.9</td>\n",
              "      <td>4.3</td>\n",
              "      <td>4395.0</td>\n",
              "      <td>331000.0</td>\n",
              "      <td>2.071</td>\n",
              "      <td>NaN</td>\n",
              "      <td>4.902</td>\n",
              "      <td>0.644</td>\n",
              "      <td>1186.25</td>\n",
              "      <td>0.8455</td>\n",
              "      <td>8.2793</td>\n",
              "    </tr>\n",
              "    <tr>\n",
              "      <th>4</th>\n",
              "      <td>1999-01-05</td>\n",
              "      <td>4.75</td>\n",
              "      <td>2251.27</td>\n",
              "      <td>5.57</td>\n",
              "      <td>875.0</td>\n",
              "      <td>103.9</td>\n",
              "      <td>4.3</td>\n",
              "      <td>4395.0</td>\n",
              "      <td>331000.0</td>\n",
              "      <td>1.975</td>\n",
              "      <td>NaN</td>\n",
              "      <td>4.902</td>\n",
              "      <td>0.639</td>\n",
              "      <td>1164.50</td>\n",
              "      <td>0.8501</td>\n",
              "      <td>8.2795</td>\n",
              "    </tr>\n",
              "  </tbody>\n",
              "</table>\n",
              "</div>"
            ],
            "text/plain": [
              "        DATE  DFEDTAR  NASDAQCOM  ...  USD/KRW  USD/EUR  USD/CNY\n",
              "0 1999-01-01     4.75        NaN  ...      NaN      NaN      NaN\n",
              "1 1999-01-02     4.75        NaN  ...      NaN      NaN      NaN\n",
              "2 1999-01-03     4.75        NaN  ...      NaN      NaN      NaN\n",
              "3 1999-01-04     4.75    2208.05  ...  1186.25   0.8455   8.2793\n",
              "4 1999-01-05     4.75    2251.27  ...  1164.50   0.8501   8.2795\n",
              "\n",
              "[5 rows x 16 columns]"
            ]
          },
          "metadata": {
            "tags": []
          },
          "execution_count": 81
        }
      ]
    },
    {
      "cell_type": "code",
      "metadata": {
        "colab": {
          "base_uri": "https://localhost:8080/",
          "height": 377
        },
        "id": "CMcIzSFVaFK2",
        "outputId": "1bdc0ea0-56d9-4c7c-c412-b16720123c86"
      },
      "source": [
        "#앞 데이터가 없는 경우 결측치가 그대로 남아있다. \n",
        "df_ = df_.fillna(method='bfill') # 뒷방향에서도 채워주기 \n",
        "df_.head()"
      ],
      "execution_count": 82,
      "outputs": [
        {
          "output_type": "execute_result",
          "data": {
            "text/html": [
              "<div>\n",
              "<style scoped>\n",
              "    .dataframe tbody tr th:only-of-type {\n",
              "        vertical-align: middle;\n",
              "    }\n",
              "\n",
              "    .dataframe tbody tr th {\n",
              "        vertical-align: top;\n",
              "    }\n",
              "\n",
              "    .dataframe thead th {\n",
              "        text-align: right;\n",
              "    }\n",
              "</style>\n",
              "<table border=\"1\" class=\"dataframe\">\n",
              "  <thead>\n",
              "    <tr style=\"text-align: right;\">\n",
              "      <th></th>\n",
              "      <th>DATE</th>\n",
              "      <th>DFEDTAR</th>\n",
              "      <th>NASDAQCOM</th>\n",
              "      <th>BAMLH0A0HYM2</th>\n",
              "      <th>HSN1F</th>\n",
              "      <th>UMCSENT</th>\n",
              "      <th>UNRATE</th>\n",
              "      <th>M2</th>\n",
              "      <th>ICSA</th>\n",
              "      <th>NG</th>\n",
              "      <th>ZG</th>\n",
              "      <th>ZI</th>\n",
              "      <th>HG</th>\n",
              "      <th>USD/KRW</th>\n",
              "      <th>USD/EUR</th>\n",
              "      <th>USD/CNY</th>\n",
              "    </tr>\n",
              "  </thead>\n",
              "  <tbody>\n",
              "    <tr>\n",
              "      <th>0</th>\n",
              "      <td>1999-01-01</td>\n",
              "      <td>4.75</td>\n",
              "      <td>2208.05</td>\n",
              "      <td>5.63</td>\n",
              "      <td>875.0</td>\n",
              "      <td>103.9</td>\n",
              "      <td>4.3</td>\n",
              "      <td>4395.0</td>\n",
              "      <td>331000.0</td>\n",
              "      <td>2.071</td>\n",
              "      <td>286.4</td>\n",
              "      <td>4.902</td>\n",
              "      <td>0.644</td>\n",
              "      <td>1186.25</td>\n",
              "      <td>0.8455</td>\n",
              "      <td>8.2793</td>\n",
              "    </tr>\n",
              "    <tr>\n",
              "      <th>1</th>\n",
              "      <td>1999-01-02</td>\n",
              "      <td>4.75</td>\n",
              "      <td>2208.05</td>\n",
              "      <td>5.63</td>\n",
              "      <td>875.0</td>\n",
              "      <td>103.9</td>\n",
              "      <td>4.3</td>\n",
              "      <td>4395.0</td>\n",
              "      <td>331000.0</td>\n",
              "      <td>2.071</td>\n",
              "      <td>286.4</td>\n",
              "      <td>4.902</td>\n",
              "      <td>0.644</td>\n",
              "      <td>1186.25</td>\n",
              "      <td>0.8455</td>\n",
              "      <td>8.2793</td>\n",
              "    </tr>\n",
              "    <tr>\n",
              "      <th>2</th>\n",
              "      <td>1999-01-03</td>\n",
              "      <td>4.75</td>\n",
              "      <td>2208.05</td>\n",
              "      <td>5.63</td>\n",
              "      <td>875.0</td>\n",
              "      <td>103.9</td>\n",
              "      <td>4.3</td>\n",
              "      <td>4395.0</td>\n",
              "      <td>331000.0</td>\n",
              "      <td>2.071</td>\n",
              "      <td>286.4</td>\n",
              "      <td>4.902</td>\n",
              "      <td>0.644</td>\n",
              "      <td>1186.25</td>\n",
              "      <td>0.8455</td>\n",
              "      <td>8.2793</td>\n",
              "    </tr>\n",
              "    <tr>\n",
              "      <th>3</th>\n",
              "      <td>1999-01-04</td>\n",
              "      <td>4.75</td>\n",
              "      <td>2208.05</td>\n",
              "      <td>5.63</td>\n",
              "      <td>875.0</td>\n",
              "      <td>103.9</td>\n",
              "      <td>4.3</td>\n",
              "      <td>4395.0</td>\n",
              "      <td>331000.0</td>\n",
              "      <td>2.071</td>\n",
              "      <td>286.4</td>\n",
              "      <td>4.902</td>\n",
              "      <td>0.644</td>\n",
              "      <td>1186.25</td>\n",
              "      <td>0.8455</td>\n",
              "      <td>8.2793</td>\n",
              "    </tr>\n",
              "    <tr>\n",
              "      <th>4</th>\n",
              "      <td>1999-01-05</td>\n",
              "      <td>4.75</td>\n",
              "      <td>2251.27</td>\n",
              "      <td>5.57</td>\n",
              "      <td>875.0</td>\n",
              "      <td>103.9</td>\n",
              "      <td>4.3</td>\n",
              "      <td>4395.0</td>\n",
              "      <td>331000.0</td>\n",
              "      <td>1.975</td>\n",
              "      <td>286.4</td>\n",
              "      <td>4.902</td>\n",
              "      <td>0.639</td>\n",
              "      <td>1164.50</td>\n",
              "      <td>0.8501</td>\n",
              "      <td>8.2795</td>\n",
              "    </tr>\n",
              "  </tbody>\n",
              "</table>\n",
              "</div>"
            ],
            "text/plain": [
              "        DATE  DFEDTAR  NASDAQCOM  ...  USD/KRW  USD/EUR  USD/CNY\n",
              "0 1999-01-01     4.75    2208.05  ...  1186.25   0.8455   8.2793\n",
              "1 1999-01-02     4.75    2208.05  ...  1186.25   0.8455   8.2793\n",
              "2 1999-01-03     4.75    2208.05  ...  1186.25   0.8455   8.2793\n",
              "3 1999-01-04     4.75    2208.05  ...  1186.25   0.8455   8.2793\n",
              "4 1999-01-05     4.75    2251.27  ...  1164.50   0.8501   8.2795\n",
              "\n",
              "[5 rows x 16 columns]"
            ]
          },
          "metadata": {
            "tags": []
          },
          "execution_count": 82
        }
      ]
    },
    {
      "cell_type": "code",
      "metadata": {
        "colab": {
          "base_uri": "https://localhost:8080/"
        },
        "id": "SHs71gYQaegm",
        "outputId": "52b5b423-e0bc-4945-df3f-18f8899a1cce"
      },
      "source": [
        "df_.isnull().sum()"
      ],
      "execution_count": 83,
      "outputs": [
        {
          "output_type": "execute_result",
          "data": {
            "text/plain": [
              "DATE            0\n",
              "DFEDTAR         0\n",
              "NASDAQCOM       0\n",
              "BAMLH0A0HYM2    0\n",
              "HSN1F           0\n",
              "UMCSENT         0\n",
              "UNRATE          0\n",
              "M2              0\n",
              "ICSA            0\n",
              "NG              0\n",
              "ZG              0\n",
              "ZI              0\n",
              "HG              0\n",
              "USD/KRW         0\n",
              "USD/EUR         0\n",
              "USD/CNY         0\n",
              "dtype: int64"
            ]
          },
          "metadata": {
            "tags": []
          },
          "execution_count": 83
        }
      ]
    },
    {
      "cell_type": "markdown",
      "metadata": {
        "id": "bxhc2tjRajg2"
      },
      "source": [
        "**결측치가 완전히 사라진 것을 알 수 있다.**"
      ]
    },
    {
      "cell_type": "code",
      "metadata": {
        "id": "CPqQ0iYxaiHZ"
      },
      "source": [
        "df_.to_csv('DFEDTAR_data.csv')"
      ],
      "execution_count": 87,
      "outputs": []
    }
  ]
}