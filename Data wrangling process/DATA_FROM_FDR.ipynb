{
  "nbformat": 4,
  "nbformat_minor": 0,
  "metadata": {
    "colab": {
      "name": "Untitled38.ipynb",
      "private_outputs": true,
      "provenance": []
    },
    "kernelspec": {
      "name": "python3",
      "display_name": "Python 3"
    },
    "language_info": {
      "name": "python"
    },
    "accelerator": "GPU"
  },
  "cells": [
    {
      "cell_type": "markdown",
      "metadata": {
        "id": "UT5owEuMACJN"
      },
      "source": [
        "#**import**"
      ]
    },
    {
      "cell_type": "code",
      "metadata": {
        "id": "uLXhAsd6faLQ"
      },
      "source": [
        "#basic\n",
        "import pandas as pd\n",
        "import io \n",
        "import numpy as np"
      ],
      "execution_count": null,
      "outputs": []
    },
    {
      "cell_type": "code",
      "metadata": {
        "id": "wn2HBJMrTfat"
      },
      "source": [
        "pip install -U finance-datareader"
      ],
      "execution_count": null,
      "outputs": []
    },
    {
      "cell_type": "code",
      "metadata": {
        "id": "pyC-HuMrs9mC"
      },
      "source": [
        "#  차트 설정\n",
        "%matplotlib inline\n",
        "import matplotlib.pyplot as plt\n",
        "\n",
        "plt.rcParams[\"font.family\"] = 'nanummyeongjo'\n",
        "plt.rcParams[\"figure.figsize\"] = (14,4)\n",
        "plt.rcParams['lines.linewidth'] = 2\n",
        "plt.rcParams[\"axes.grid\"] = True"
      ],
      "execution_count": null,
      "outputs": []
    },
    {
      "cell_type": "code",
      "metadata": {
        "id": "g0Aux-lptDen"
      },
      "source": [
        "%%html\n",
        "<style>\n",
        "    table { display: inline-block }\n",
        "    .rendered_html td, .rendered_html th { text-align: left; }\n",
        "</style>"
      ],
      "execution_count": null,
      "outputs": []
    },
    {
      "cell_type": "code",
      "metadata": {
        "id": "Q49S99v_AT4g"
      },
      "source": [
        "import FinanceDataReader as fdr"
      ],
      "execution_count": null,
      "outputs": []
    },
    {
      "cell_type": "markdown",
      "metadata": {
        "id": "xIOEWrEfIdDf"
      },
      "source": [
        "# **함수설정 절댓값 높은 순위로 정렬**"
      ]
    },
    {
      "cell_type": "code",
      "metadata": {
        "id": "MPSu7HgvIhuI"
      },
      "source": [
        "#절댓값 높은 순위로 정렬\n",
        "def get_redundant_pairs(df):\n",
        "    \n",
        "    pairs_to_drop = set()\n",
        "    cols = df.columns #칼럼\n",
        "    \n",
        "    for i in range(0, df.shape[1]):\n",
        "        for j in range(0, i+1):\n",
        "            pairs_to_drop.add((cols[i], cols[j])) #칼럼 더해주기\n",
        "    \n",
        "    return pairs_to_drop\n",
        "\n",
        "def get_top_abs_correlations(df): #절댓값 순위정렬 \n",
        "    \n",
        "    au_corr = df.corr().abs().unstack()\n",
        "    labels_to_drop = get_redundant_pairs(df) \n",
        "    \n",
        "    au_corr = au_corr.drop(labels=labels_to_drop).sort_values(ascending=False)\n",
        "    \n",
        "    return au_corr"
      ],
      "execution_count": null,
      "outputs": []
    },
    {
      "cell_type": "markdown",
      "metadata": {
        "id": "6hK3gLBcAU38"
      },
      "source": [
        "# **한국 거래소 상장종목 전체**"
      ]
    },
    {
      "cell_type": "code",
      "metadata": {
        "id": "-KgEaxTttK3X"
      },
      "source": [
        "# 한국거래소 상장종목 전체\n",
        "df_krx = fdr.StockListing('KRX')\n",
        "df_krx.head()\n",
        "#6초"
      ],
      "execution_count": null,
      "outputs": []
    },
    {
      "cell_type": "code",
      "metadata": {
        "id": "63tHw1jctTqf"
      },
      "source": [
        "df_krx.shape"
      ],
      "execution_count": null,
      "outputs": []
    },
    {
      "cell_type": "code",
      "metadata": {
        "id": "zIY-oF1bxWUr"
      },
      "source": [
        "df_krx = df_krx[df_krx['Market'] == 'KOSPI']"
      ],
      "execution_count": null,
      "outputs": []
    },
    {
      "cell_type": "code",
      "metadata": {
        "id": "fdoRRXOWxnkq"
      },
      "source": [
        "df_krx"
      ],
      "execution_count": null,
      "outputs": []
    },
    {
      "cell_type": "markdown",
      "metadata": {
        "id": "m-hRLSFY0GCB"
      },
      "source": [
        "코스피만 하면 5379개 - 레버리지 , 우선주 포함 "
      ]
    },
    {
      "cell_type": "code",
      "metadata": {
        "id": "Eaypmrb3yIKD"
      },
      "source": [
        "kos = df_krx['Symbol'].tolist()\n",
        "\n",
        "kos"
      ],
      "execution_count": null,
      "outputs": []
    },
    {
      "cell_type": "markdown",
      "metadata": {
        "id": "89KB3xjRHzvd"
      },
      "source": [
        "# **1년 단위로 분석 2020 ~ 2021**"
      ]
    },
    {
      "cell_type": "markdown",
      "metadata": {
        "id": "VxuNgdIx11Y5"
      },
      "source": [
        "1Y 단위로 분석\n",
        "2020~2021"
      ]
    },
    {
      "cell_type": "code",
      "metadata": {
        "id": "OxMHTd6Ax43M"
      },
      "source": [
        "# KS11 (KOSPI 지수), 1999년~현재\n",
        "\n",
        "kos = ['KS11','KQ11','005930','207940', '090430', '032830', '000660'] # 삼전 # 삼바로 #아모레 #삼성생명 #하이닉스   \n",
        "al_idx = fdr.DataReader('KS11', '2020', '2021').index\n",
        "al_idx # 한국시장이 열리는 날들을 기준\n",
        "\n",
        "stock_kr = pd.DataFrame(index=al_idx)\n",
        "for kr in kos :\n",
        "  stock_kr[kr] =  fdr.DataReader(kr, '2020', '2021')[\"Close\"]\n",
        "stock_kr.head()\n",
        "#9sec"
      ],
      "execution_count": null,
      "outputs": []
    },
    {
      "cell_type": "code",
      "metadata": {
        "id": "ZtagBtr41eg6"
      },
      "source": [
        "stock_kr.corr().round(2) , stock_kr.shape \n",
        "# 248, 7 "
      ],
      "execution_count": null,
      "outputs": []
    },
    {
      "cell_type": "code",
      "metadata": {
        "id": "VVS41ZWo1xKk"
      },
      "source": [
        "get_top_abs_correlations(stock_kr)"
      ],
      "execution_count": null,
      "outputs": []
    },
    {
      "cell_type": "markdown",
      "metadata": {
        "id": "mcbB9ILi2XNs"
      },
      "source": [
        "#**1년 단위 분석 2019 ~ 2020**"
      ]
    },
    {
      "cell_type": "code",
      "metadata": {
        "id": "oC4V2sI92caq"
      },
      "source": [
        "# KS11 (KOSPI 지수), 2019~2020\n",
        "\n",
        "kos = ['KS11','KQ11','005930','207940', '090430', '032830', '000660'] # 삼전 # 삼바로 #아모레 #삼성생명 #하이닉스   \n",
        "al_idx = fdr.DataReader('KS11', '2019', '2020').index\n",
        "al_idx # 한국시장이 열리는 날들을 기준\n",
        "\n",
        "stock_kr = pd.DataFrame(index=al_idx)\n",
        "for kr in kos :\n",
        "  stock_kr[kr] =  fdr.DataReader(kr, '2019', '2020')[\"Close\"]\n",
        "stock_kr.head()\n",
        "#9sec"
      ],
      "execution_count": null,
      "outputs": []
    },
    {
      "cell_type": "code",
      "metadata": {
        "id": "ZrUgYoQW2lNO"
      },
      "source": [
        "stock_kr.corr().round(2) , stock_kr.shape \n",
        "# 246, 7 "
      ],
      "execution_count": null,
      "outputs": []
    },
    {
      "cell_type": "code",
      "metadata": {
        "id": "9Nm7QoYq2rBt"
      },
      "source": [
        "get_top_abs_correlations(stock_kr)"
      ],
      "execution_count": null,
      "outputs": []
    },
    {
      "cell_type": "markdown",
      "metadata": {
        "id": "UepMW2HL2ztg"
      },
      "source": [
        "#**1일 단위 분석 2019 12 12 ~ 2020 12 12** "
      ]
    },
    {
      "cell_type": "code",
      "metadata": {
        "id": "MCWSimSC22Al"
      },
      "source": [
        "# KS11 (KOSPI 지수), 2019~2020\n",
        "\n",
        "kos = ['KS11','KQ11','005930','207940', '090430', '032830', '000660'] # 삼전 # 삼바로 #아모레 #삼성생명 #하이닉스   \n",
        "al_idx = fdr.DataReader('KS11', '2019-12-12', '2020-12-12').index\n",
        "al_idx # 한국시장이 열리는 날들을 기준\n",
        "\n",
        "stock_kr = pd.DataFrame(index=al_idx)\n",
        "for kr in kos :\n",
        "  stock_kr[kr] =  fdr.DataReader(kr, '2019-12-12', '2020-12-12')[\"Close\"]\n",
        "stock_kr.head()\n",
        "#9sec"
      ],
      "execution_count": null,
      "outputs": []
    },
    {
      "cell_type": "code",
      "metadata": {
        "id": "pqW2Ek-a2_bw"
      },
      "source": [
        "stock_kr.corr().round(2) , stock_kr.shape \n",
        "# 248, 7 "
      ],
      "execution_count": null,
      "outputs": []
    },
    {
      "cell_type": "code",
      "metadata": {
        "id": "G_uqyGJ33JC_"
      },
      "source": [
        "get_top_abs_correlations(stock_kr)"
      ],
      "execution_count": null,
      "outputs": []
    },
    {
      "cell_type": "markdown",
      "metadata": {
        "id": "m5apJMqh3QOK"
      },
      "source": [
        "# **1일 단위 분석 2019 -12 -13**"
      ]
    },
    {
      "cell_type": "code",
      "metadata": {
        "id": "iqJoKgIJ3LKQ"
      },
      "source": [
        "# KS11 (KOSPI 지수), 2019~2020\n",
        "\n",
        "kos = ['KS11','KQ11','005930','207940', '090430', '032830', '000660'] # 삼전 # 삼바로 #아모레 #삼성생명 #하이닉스   \n",
        "al_idx = fdr.DataReader('KS11', '2019-12-13', '2020-12-13').index\n",
        "al_idx # 한국시장이 열리는 날들을 기준\n",
        "\n",
        "stock_kr = pd.DataFrame(index=al_idx)\n",
        "for kr in kos :\n",
        "  stock_kr[kr] =  fdr.DataReader(kr, '2019-12-13', '2020-12-13')[\"Close\"]\n",
        "stock_kr.head()\n",
        "#9sec"
      ],
      "execution_count": null,
      "outputs": []
    },
    {
      "cell_type": "code",
      "metadata": {
        "id": "L3tifLGi3WZr"
      },
      "source": [
        "stock_kr.corr().round(2) , stock_kr.shape \n",
        "# 248, 7 "
      ],
      "execution_count": null,
      "outputs": []
    },
    {
      "cell_type": "code",
      "metadata": {
        "id": "peSE_efm3ZaY"
      },
      "source": [
        "get_top_abs_correlations(stock_kr)"
      ],
      "execution_count": null,
      "outputs": []
    },
    {
      "cell_type": "markdown",
      "metadata": {
        "id": "EsGm_0cQI78H"
      },
      "source": [
        "# **2000~현재**"
      ]
    },
    {
      "cell_type": "code",
      "metadata": {
        "id": "M8jEwUAH1nW6"
      },
      "source": [
        "# KS11 (KOSPI 지수), 2000~현재\n",
        "\n",
        "kos = ['KS11','KQ11','005930','207940', '090430', '032830', '000660'] # 삼전 # 삼바로 #아모레 #삼성생명 #하이닉스   \n",
        "al_idx = fdr.DataReader('KS11', '2020', '2021').index\n",
        "al_idx # 한국시장이 열리는 날들을 기준\n",
        "\n",
        "stock_kr = pd.DataFrame(index=al_idx)\n",
        "for kr in kos :\n",
        "  stock_kr[kr] =  fdr.DataReader(kr, '2020', '2021')[\"Close\"]\n",
        "stock_kr.head()"
      ],
      "execution_count": null,
      "outputs": []
    },
    {
      "cell_type": "code",
      "metadata": {
        "id": "cNvW5Zxdtx59"
      },
      "source": [
        "# KS11 (KOSPI 지수), 1999년~현재\n",
        "\n",
        "kos = ['KS11','KQ11','005930','207940', '090430', '032830', '000660'] # 삼전 # 삼바로 #아모레 #삼성생명 #하이닉스   \n",
        "al_idx = fdr.DataReader('KS11', '1999', '2022').index\n",
        "al_idx # 한국시장이 열리는 날들을 기준\n",
        "\n",
        "stock_kr = pd.DataFrame(index=al_idx)\n",
        "for kr in kos :\n",
        "  stock_kr[kr] =  fdr.DataReader(kr, '1999', '2022')[\"Close\"]\n",
        "stock_kr.head()"
      ],
      "execution_count": null,
      "outputs": []
    },
    {
      "cell_type": "code",
      "metadata": {
        "id": "EaAXy33OViW0"
      },
      "source": [
        "stock_kr.corr().round(2)"
      ],
      "execution_count": null,
      "outputs": []
    },
    {
      "cell_type": "code",
      "metadata": {
        "id": "GBdTWsIZtAEn"
      },
      "source": [
        "get_top_abs_correlations(stock_kr)"
      ],
      "execution_count": null,
      "outputs": []
    },
    {
      "cell_type": "markdown",
      "metadata": {
        "id": "bZ9xH2o9I_3p"
      },
      "source": [
        "# **2021 ~ 현재**"
      ]
    },
    {
      "cell_type": "code",
      "metadata": {
        "id": "5AD0JA46jOxX"
      },
      "source": [
        "# KS11 (KOSPI 지수), 1999년~현재\n",
        "\n",
        "kos = ['KS11','KQ11','005930','207940', '090430', '032830', '000660'] # 삼전 # 삼바로 #아모레 #삼성생명 #하이닉스   \n",
        "al_idx = fdr.DataReader('KS11', '2021', '2022').index\n",
        "al_idx # 한국시장이 열리는 날들을 기준\n",
        "\n",
        "stock_kr = pd.DataFrame(index=al_idx)\n",
        "for kr in kos :\n",
        "  stock_kr[kr] =  fdr.DataReader(kr, '2021', '2022')[\"Close\"]\n",
        "stock_kr.tail()"
      ],
      "execution_count": null,
      "outputs": []
    },
    {
      "cell_type": "code",
      "metadata": {
        "id": "8E2C3-2VnbM_"
      },
      "source": [
        "stock_kr.shape"
      ],
      "execution_count": null,
      "outputs": []
    },
    {
      "cell_type": "code",
      "metadata": {
        "id": "E_sV1QAwnh26"
      },
      "source": [
        "stock_kr.corr().round(2)"
      ],
      "execution_count": null,
      "outputs": []
    },
    {
      "cell_type": "markdown",
      "metadata": {
        "id": "zaMiPWe2JIFz"
      },
      "source": [
        "# **주택판매지수 HSN1F , 달러원화usdkrw , 달러 유로화usdeur , 달러 엔화usdcny, 천연가스 금 은 구리,** "
      ]
    },
    {
      "cell_type": "code",
      "metadata": {
        "id": "ABgJXxe4wirw"
      },
      "source": [
        "hou_nas = fdr.DataReader(['HSN1F'], data_source='fred')\n",
        "hou_nas.head() # HSN1F 주택판매지수 월별 데이터 "
      ],
      "execution_count": null,
      "outputs": []
    },
    {
      "cell_type": "code",
      "metadata": {
        "id": "BmZsioYwVreI"
      },
      "source": [
        "hou_nas.to_csv('house_sell.csv')"
      ],
      "execution_count": null,
      "outputs": []
    },
    {
      "cell_type": "code",
      "metadata": {
        "id": "3VGqAhlCMoT_"
      },
      "source": [
        "# 달러 원 유로 엔, 1999년~현재\n",
        "usd_m = ['USD/KRW','USD/EUR','USD/CNY']  \n",
        "al_idx = fdr.DataReader('KS11', '1999', '2022').index\n",
        "al_idx # 한국시장 기준\n",
        "\n",
        "usd_money = pd.DataFrame(index=al_idx)\n",
        "for usm in usd_m :\n",
        "  usd_money[usm] =  fdr.DataReader(usm, '1999', '2022')[\"Close\"]\n",
        "usd_money.tail()"
      ],
      "execution_count": null,
      "outputs": []
    },
    {
      "cell_type": "code",
      "metadata": {
        "id": "2IcUK1OUTqEX"
      },
      "source": [
        "USD_Money.to_csv('USD_money.csv')"
      ],
      "execution_count": null,
      "outputs": []
    },
    {
      "cell_type": "markdown",
      "metadata": {
        "id": "ZxBnaAYShGrW"
      },
      "source": [
        "#**금은구리동**"
      ]
    },
    {
      "cell_type": "code",
      "metadata": {
        "id": "OIhniNe6U5A1"
      },
      "source": [
        "# 금은구리동, 1999년~현재\n",
        "mat = ['NG','ZG','ZI','HG']  \n",
        "al_idx = fdr.DataReader('KS11', '1999', '2022').index\n",
        "al_idx # 한국시장 기준\n",
        "\n",
        "matarial = pd.DataFrame(index=al_idx)\n",
        "for i in mat :\n",
        "  matarial[i] =  fdr.DataReader(i, '1999', '2022')[\"Close\"]\n",
        "matarial.tail()"
      ],
      "execution_count": null,
      "outputs": []
    },
    {
      "cell_type": "code",
      "metadata": {
        "id": "LsAb6_u1bdiQ"
      },
      "source": [
        "matarial.to_csv('matarial.csv')"
      ],
      "execution_count": null,
      "outputs": []
    },
    {
      "cell_type": "markdown",
      "metadata": {
        "id": "xt0qlP0lhKb7"
      },
      "source": [
        "# **통화량 주택거래 나스닥종합 등 경기선행지표**"
      ]
    },
    {
      "cell_type": "code",
      "metadata": {
        "id": "rMz67KDVhjFl"
      },
      "source": [
        "M2_and = fdr.DataReader(['HSN1F', 'NASDAQCOM','M2','ICSA','UMCSENT','UNRATE','BAMLH0A0HYM2'],start='1999', end='2022', data_source='fred') \n",
        "# HSN1F 주택판매지수 :주택 판매 지수는 주택시장 활성화 정도를 나타냅니다. 불황으로 주가가 하락할 때 하락에 앞서 주택 판매 지수가 하락하는 모습을 보입니다.\n",
        "# m2 총통화량 \n",
        "# icsa 실업수당청구건수\n",
        "# UMCSENT 소비자 심리지수 . 소비자심리지수(CSI, Consumer Sentiment Index)는 소비자에 설문 결과를 수치화한 지표 입니다. 100을 기준으로 100이상이면 긍정적 100이하면 부정적으로 봅니다\n",
        "# UNRATE 실업률 \n",
        "# BAMLH0A0HYM2 하이일드 채권 스프레드\n",
        "M2_and"
      ],
      "execution_count": null,
      "outputs": []
    },
    {
      "cell_type": "code",
      "metadata": {
        "id": "3GtrbgGZiLhr"
      },
      "source": [
        "M2_and.to_csv('M2_and.csv')"
      ],
      "execution_count": null,
      "outputs": []
    },
    {
      "cell_type": "markdown",
      "metadata": {
        "id": "OHWirKPBlBJm"
      },
      "source": [
        "# **VIX + sp500**\n"
      ]
    },
    {
      "cell_type": "code",
      "metadata": {
        "id": "ot5HCZvnlIuK"
      },
      "source": [
        "# 금은구리동, 1999년~현재\n",
        "vix_etc = ['VIX','US500','XVZ']  \n",
        "idx = fdr.DataReader('KS11', '1999', '2022').index\n",
        "idx # 한국시장 기준\n",
        "\n",
        "vix_data = pd.DataFrame(index=idx)\n",
        "for i in vix_etc :\n",
        "  vix_data[i] =  fdr.DataReader(i, '1999', '2022')[\"Close\"]\n",
        "vix_data"
      ],
      "execution_count": null,
      "outputs": []
    },
    {
      "cell_type": "code",
      "metadata": {
        "id": "q_WL9ph6ljrk"
      },
      "source": [
        "vix_data.to_csv('vix_data.csv')"
      ],
      "execution_count": null,
      "outputs": []
    }
  ]
}